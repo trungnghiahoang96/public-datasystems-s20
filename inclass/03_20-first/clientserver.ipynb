{
 "cells": [
  {
   "cell_type": "code",
   "execution_count": 1,
   "metadata": {},
   "outputs": [
    {
     "data": {
      "text/plain": [
       "<module 'mysocket' from '/home/nghiaht7/data-engineer/public-datasystems-s20/inclass/03_20-first/mysocket.py'>"
      ]
     },
     "execution_count": 1,
     "metadata": {},
     "output_type": "execute_result"
    }
   ],
   "source": [
    "import importlib\n",
    "import mysocket as sock\n",
    "\n",
    "importlib.reload(sock)"
   ]
  },
  {
   "cell_type": "code",
   "execution_count": 2,
   "metadata": {},
   "outputs": [],
   "source": [
    "webconn = sock.makeConnection(\"personal.denison.edu\", 80)"
   ]
  },
  {
   "cell_type": "code",
   "execution_count": 3,
   "metadata": {},
   "outputs": [],
   "source": [
    "lines = [\"GET / HTTP/1.1\",\n",
    "         \"Host: personal.denison.edu\",\n",
    "         \"\"\n",
    "        ]"
   ]
  },
  {
   "cell_type": "code",
   "execution_count": 4,
   "metadata": {},
   "outputs": [],
   "source": [
    "for line in lines:\n",
    "    sock.sendString(webconn, line)\n",
    "    sock.sendCRLF(webconn)"
   ]
  },
  {
   "cell_type": "code",
   "execution_count": 5,
   "metadata": {},
   "outputs": [],
   "source": [
    "s = sock.receiveTillClose(webconn)"
   ]
  },
  {
   "cell_type": "code",
   "execution_count": 6,
   "metadata": {},
   "outputs": [
    {
     "data": {
      "text/plain": [
       "'HTTP/1.1 200 OK\\r\\nDate: Thu, 21 Oct 2021 15:01:52 GMT\\r\\nServer: Apache/2.4.6 (CentOS)\\r\\nAccept-Ranges: bytes\\r\\nContent-Length: 464\\r\\nConnection: close\\r\\nContent-Type: text/html; charset=iso-8859-1\\r\\n\\r\\n<!DOCTYPE HTML PUBLIC \"-//W3C//DTD HTML 3.2//EN\">\\n<HTML> \\n<HEAD>    \\n<TITLE>Personal Pages - Denison University</TITLE>\\n</HEAD> <BODY> \\n<p>&ldquo;Disclaimer: The views and opinions expressed in this service are strictly those of the information provider. The provider assumes full responsibility and liability for the content of this service. The contents of this service have neither been reviewed nor approved by Denison University.&rdquo;</p>\\n</BODY> \\n</HTML> \\n'"
      ]
     },
     "execution_count": 6,
     "metadata": {},
     "output_type": "execute_result"
    }
   ],
   "source": [
    "s"
   ]
  },
  {
   "cell_type": "code",
   "execution_count": 7,
   "metadata": {},
   "outputs": [],
   "source": [
    "webconn.close()"
   ]
  },
  {
   "cell_type": "code",
   "execution_count": 8,
   "metadata": {},
   "outputs": [],
   "source": [
    "def getMailCode(serverline):\n",
    "    endpos = serverline.index(\" \")\n",
    "    first = serverline[:endpos]\n",
    "    num = int(first)\n",
    "    return num"
   ]
  },
  {
   "cell_type": "code",
   "execution_count": 9,
   "metadata": {},
   "outputs": [
    {
     "name": "stdout",
     "output_type": "stream",
     "text": [
      "Error connecting to ('mail.denison.edu', 25)\n"
     ]
    }
   ],
   "source": [
    "mailserver = sock.makeConnection(\"mail.denison.edu\", 25)"
   ]
  },
  {
   "cell_type": "code",
   "execution_count": 41,
   "metadata": {},
   "outputs": [
    {
     "name": "stdout",
     "output_type": "stream",
     "text": [
      "'220 smtpint2.cc.denison.edu ESMTP Postfix\\r\\n' 220\n"
     ]
    }
   ],
   "source": [
    "s1 = sock.receiveToCRLF(mailserver)\n",
    "status = getMailCode(s1)\n",
    "print(repr(s1), status)"
   ]
  },
  {
   "cell_type": "code",
   "execution_count": 10,
   "metadata": {},
   "outputs": [
    {
     "ename": "AttributeError",
     "evalue": "'NoneType' object has no attribute 'sendall'",
     "output_type": "error",
     "traceback": [
      "\u001b[0;31m---------------------------------------------------------------------------\u001b[0m",
      "\u001b[0;31mAttributeError\u001b[0m                            Traceback (most recent call last)",
      "\u001b[0;32m/tmp/ipykernel_1179359/686173431.py\u001b[0m in \u001b[0;36m<module>\u001b[0;34m\u001b[0m\n\u001b[1;32m     21\u001b[0m \u001b[0;34m\u001b[0m\u001b[0m\n\u001b[1;32m     22\u001b[0m \u001b[0;32mfor\u001b[0m \u001b[0mline\u001b[0m \u001b[0;32min\u001b[0m \u001b[0mprefixlines\u001b[0m\u001b[0;34m:\u001b[0m\u001b[0;34m\u001b[0m\u001b[0;34m\u001b[0m\u001b[0m\n\u001b[0;32m---> 23\u001b[0;31m     \u001b[0msock\u001b[0m\u001b[0;34m.\u001b[0m\u001b[0msendString\u001b[0m\u001b[0;34m(\u001b[0m\u001b[0mmailserver\u001b[0m\u001b[0;34m,\u001b[0m \u001b[0mline\u001b[0m\u001b[0;34m)\u001b[0m\u001b[0;34m\u001b[0m\u001b[0;34m\u001b[0m\u001b[0m\n\u001b[0m\u001b[1;32m     24\u001b[0m     \u001b[0msock\u001b[0m\u001b[0;34m.\u001b[0m\u001b[0msendCRLF\u001b[0m\u001b[0;34m(\u001b[0m\u001b[0mmailserver\u001b[0m\u001b[0;34m)\u001b[0m\u001b[0;34m\u001b[0m\u001b[0;34m\u001b[0m\u001b[0m\n\u001b[1;32m     25\u001b[0m     \u001b[0mstatusline\u001b[0m \u001b[0;34m=\u001b[0m \u001b[0msock\u001b[0m\u001b[0;34m.\u001b[0m\u001b[0mreceiveToCRLF\u001b[0m\u001b[0;34m(\u001b[0m\u001b[0mmailserver\u001b[0m\u001b[0;34m)\u001b[0m\u001b[0;34m\u001b[0m\u001b[0;34m\u001b[0m\u001b[0m\n",
      "\u001b[0;32m~/data-engineer/public-datasystems-s20/inclass/03_20-first/mysocket.py\u001b[0m in \u001b[0;36msendString\u001b[0;34m(connection, text, encoding)\u001b[0m\n\u001b[1;32m     50\u001b[0m     \u001b[0;32melse\u001b[0m\u001b[0;34m:\u001b[0m\u001b[0;34m\u001b[0m\u001b[0;34m\u001b[0m\u001b[0m\n\u001b[1;32m     51\u001b[0m         \u001b[0mconn\u001b[0m \u001b[0;34m=\u001b[0m \u001b[0mconnection\u001b[0m\u001b[0;34m\u001b[0m\u001b[0;34m\u001b[0m\u001b[0m\n\u001b[0;32m---> 52\u001b[0;31m     \u001b[0mconn\u001b[0m\u001b[0;34m.\u001b[0m\u001b[0msendall\u001b[0m\u001b[0;34m(\u001b[0m\u001b[0mtext\u001b[0m\u001b[0;34m.\u001b[0m\u001b[0mencode\u001b[0m\u001b[0;34m(\u001b[0m\u001b[0mencoding\u001b[0m\u001b[0;34m)\u001b[0m\u001b[0;34m)\u001b[0m\u001b[0;34m\u001b[0m\u001b[0;34m\u001b[0m\u001b[0m\n\u001b[0m\u001b[1;32m     53\u001b[0m \u001b[0;34m\u001b[0m\u001b[0m\n\u001b[1;32m     54\u001b[0m \u001b[0;32mdef\u001b[0m \u001b[0msendCRLFLines\u001b[0m\u001b[0;34m(\u001b[0m\u001b[0mconnection\u001b[0m\u001b[0;34m,\u001b[0m \u001b[0mtext\u001b[0m\u001b[0;34m,\u001b[0m \u001b[0mencoding\u001b[0m\u001b[0;34m=\u001b[0m\u001b[0;34m\"utf-8\"\u001b[0m\u001b[0;34m)\u001b[0m\u001b[0;34m:\u001b[0m\u001b[0;34m\u001b[0m\u001b[0;34m\u001b[0m\u001b[0m\n",
      "\u001b[0;31mAttributeError\u001b[0m: 'NoneType' object has no attribute 'sendall'"
     ]
    }
   ],
   "source": [
    "prefixlines = [\n",
    "    \"HELO 140.141.92.5\",\n",
    "    \"MAIL FROM:<bressoud@denison.edu>\",\n",
    "    \"RCPT TO:<tcbressoud@gmail.com>\"\n",
    "]\n",
    "\n",
    "headers = [\n",
    "    'From: \"Dr. B\" <bressoud@denison.edu>',\n",
    "    'To: \"Tom\" <tcbressoud@gmail.com>',\n",
    "    'Date: Sun, 29 Mar 2020 12:00:00 -0500',\n",
    "    'Subject: Test message',\n",
    "    ''\n",
    "]\n",
    "\n",
    "body = \"\"\"Hello Tom-\n",
    "This is a test message with four header lines and\n",
    "five lines in the message body.\n",
    "\n",
    "Best, Dr. B\n",
    "\"\"\"\n",
    "\n",
    "for line in prefixlines:\n",
    "    sock.sendString(mailserver, line)\n",
    "    sock.sendCRLF(mailserver)\n",
    "    statusline = sock.receiveToCRLF(mailserver)\n",
    "    assert getMailCode(statusline) == 250\n",
    "    \n",
    "sock.sendString(mailserver, \"DATA\")\n",
    "sock.sendCRLF(mailserver)\n",
    "statusline = sock.receiveToCRLF(mailserver)\n",
    "assert getMailCode(statusline) == 354\n",
    "\n",
    "for headerline in headers:\n",
    "    sock.sendString(mailserver, headerline)\n",
    "    sock.sendCRLF(mailserver)\n",
    "\n",
    "for bodyline in body.split('\\n'):\n",
    "    sock.sendString(mailserver, bodyline)\n",
    "    sock.sendCRLF(mailserver)\n",
    "\n",
    "sock.sendString(mailserver, \".\")\n",
    "sock.sendCRLF(mailserver)\n",
    "\n",
    "statusline = sock.receiveToCRLF(mailserver)\n",
    "print(repr(statusline))\n",
    "assert getMailCode(statusline) == 250"
   ]
  },
  {
   "cell_type": "code",
   "execution_count": null,
   "metadata": {},
   "outputs": [],
   "source": [
    "sock.sendString(mailserver, \"QUIT\")\n",
    "sock.sendCRLF(mailserver)\n",
    "statusline = sock.receiveToCRLF(mailserver)\n",
    "assert getMailCode(statusline) == 221"
   ]
  },
  {
   "cell_type": "code",
   "execution_count": null,
   "metadata": {},
   "outputs": [],
   "source": [
    "mailserver.close()"
   ]
  },
  {
   "cell_type": "code",
   "execution_count": null,
   "metadata": {},
   "outputs": [],
   "source": []
  }
 ],
 "metadata": {
  "kernelspec": {
   "display_name": "Python 3 (ipykernel)",
   "language": "python",
   "name": "python3"
  },
  "language_info": {
   "codemirror_mode": {
    "name": "ipython",
    "version": 3
   },
   "file_extension": ".py",
   "mimetype": "text/x-python",
   "name": "python",
   "nbconvert_exporter": "python",
   "pygments_lexer": "ipython3",
   "version": "3.8.10"
  }
 },
 "nbformat": 4,
 "nbformat_minor": 4
}

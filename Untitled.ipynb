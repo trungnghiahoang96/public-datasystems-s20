{
 "cells": [
  {
   "cell_type": "code",
   "execution_count": 135,
   "id": "f8b5ebcf-03d8-4b5f-bf17-7255c4cafcb8",
   "metadata": {},
   "outputs": [],
   "source": [
    "class Solution:\n",
    "    def containsNearbyDuplicate(self, nums: List[int], k: int) -> bool:\n",
    "        my_dict = {}\n",
    "        for id, val in enumerate(nums):\n",
    "            if val in my_dict and abs(my_dict[val] - id) <= k:\n",
    "                return True\n",
    "            else:\n",
    "                my_dict[val] = id\n",
    "        return False\n"
   ]
  },
  {
   "cell_type": "code",
   "execution_count": 136,
   "id": "9b4948fb-94d9-4524-a181-1f5605b14f18",
   "metadata": {},
   "outputs": [],
   "source": [
    "nums = [1,2,3,1] \n",
    "k = 3\n"
   ]
  },
  {
   "cell_type": "code",
   "execution_count": 137,
   "id": "60363c65-96e4-4c75-a8e3-cbcc2e082923",
   "metadata": {},
   "outputs": [
    {
     "data": {
      "text/plain": [
       "True"
      ]
     },
     "execution_count": 137,
     "metadata": {},
     "output_type": "execute_result"
    }
   ],
   "source": [
    "ob1 = Solution()\n",
    "ob1.containsNearbyDuplicate(nums, k)"
   ]
  },
  {
   "cell_type": "code",
   "execution_count": null,
   "id": "839a9480-d05e-446e-97f6-e1bfb3ada37e",
   "metadata": {},
   "outputs": [],
   "source": []
  },
  {
   "cell_type": "code",
   "execution_count": null,
   "id": "0ff9fd39-ad20-4da9-8a0d-fc6655d8983f",
   "metadata": {},
   "outputs": [],
   "source": []
  },
  {
   "cell_type": "code",
   "execution_count": 123,
   "id": "007ddd45-fd04-46f7-9f9e-2565f347f1a8",
   "metadata": {},
   "outputs": [],
   "source": [
    "from typing import List\n",
    "\n",
    "\n",
    "class Solution:\n",
    "    def longestCommonPrefix(self, strs: List[str]) -> str:\n",
    "\n",
    "        common = []\n",
    "        mystr = sorted(strs, key=lambda x: len(x))\n",
    "        print(mystr)\n",
    "        print(mystr[0])\n",
    "        print(common)\n",
    "        for i in range(len(mystr[0]) + 1):\n",
    "            if all([mystr[0][:i] ==  str_[:i] for str_ in mystr]):\n",
    "                print(mystr[0][:i])\n",
    "                common.append(strs[0][:i])\n",
    "#         print(common)\n",
    "        if len(mystr) == 1:\n",
    "            return strs[0]\n",
    "        elif not common:\n",
    "            return \"\"\n",
    "        else:\n",
    "            return max(common, key=lambda x: len(x))"
   ]
  },
  {
   "cell_type": "code",
   "execution_count": null,
   "id": "be39969d-ec71-4b71-8222-febae2490fee",
   "metadata": {},
   "outputs": [],
   "source": []
  },
  {
   "cell_type": "code",
   "execution_count": null,
   "id": "3c1f0956-67fc-44cc-9c88-58e66c283beb",
   "metadata": {},
   "outputs": [],
   "source": []
  },
  {
   "cell_type": "code",
   "execution_count": null,
   "id": "dc1d8e7a-832f-417c-b150-621022678b91",
   "metadata": {},
   "outputs": [],
   "source": []
  },
  {
   "cell_type": "code",
   "execution_count": 124,
   "id": "1ecb0467-a182-4607-94f0-30607453bcc4",
   "metadata": {},
   "outputs": [],
   "source": [
    "strs = [\"flower\", \"flow\", \"flight\"]"
   ]
  },
  {
   "cell_type": "code",
   "execution_count": 125,
   "id": "3fe97fc7-30d5-46e3-8a1b-3442c55dc1d1",
   "metadata": {},
   "outputs": [
    {
     "name": "stdout",
     "output_type": "stream",
     "text": [
      "['flow', 'flower', 'flight']\n",
      "flow\n",
      "[]\n",
      "\n",
      "f\n",
      "fl\n",
      "['', 'f', 'fl']\n"
     ]
    },
    {
     "data": {
      "text/plain": [
       "'fl'"
      ]
     },
     "execution_count": 125,
     "metadata": {},
     "output_type": "execute_result"
    }
   ],
   "source": [
    "ob1 = Solution()\n",
    "ob1.longestCommonPrefix(strs)"
   ]
  },
  {
   "cell_type": "code",
   "execution_count": 126,
   "id": "a968e9f5-101f-4e46-a081-fcec44a92b84",
   "metadata": {},
   "outputs": [],
   "source": [
    "# mystr = sorted(strs, key=lambda x: len(x))\n",
    "# print(mystr)"
   ]
  },
  {
   "cell_type": "code",
   "execution_count": 127,
   "id": "f041464e-bb55-4ba2-a82b-9a56dc617db0",
   "metadata": {},
   "outputs": [
    {
     "name": "stdout",
     "output_type": "stream",
     "text": [
      "['dog', 'car', 'racecar']\n",
      "dog\n",
      "[]\n",
      "\n",
      "['']\n"
     ]
    },
    {
     "data": {
      "text/plain": [
       "''"
      ]
     },
     "execution_count": 127,
     "metadata": {},
     "output_type": "execute_result"
    }
   ],
   "source": [
    "strs = [\"dog\", \"racecar\", \"car\"]\n",
    "ob1 = Solution()\n",
    "ob1.longestCommonPrefix(strs)"
   ]
  },
  {
   "cell_type": "code",
   "execution_count": 128,
   "id": "3ec3a559-8aa1-4069-b2ff-9a8a118aa72a",
   "metadata": {},
   "outputs": [
    {
     "name": "stdout",
     "output_type": "stream",
     "text": [
      "['a', 'ab']\n",
      "a\n",
      "[]\n",
      "\n",
      "a\n",
      "['', 'a']\n"
     ]
    },
    {
     "data": {
      "text/plain": [
       "'a'"
      ]
     },
     "execution_count": 128,
     "metadata": {},
     "output_type": "execute_result"
    }
   ],
   "source": [
    "strs = [\"ab\", \"a\"]\n",
    "mystr = sorted(strs, key=lambda x: len(x))\n",
    "\n",
    "ob1.longestCommonPrefix(strs)"
   ]
  },
  {
   "cell_type": "code",
   "execution_count": 129,
   "id": "53545e9e-365d-416a-ab4f-10319ee9cfe9",
   "metadata": {},
   "outputs": [
    {
     "name": "stdout",
     "output_type": "stream",
     "text": [
      "['flow', 'flight', 'reflower']\n",
      "flow\n",
      "[]\n",
      "\n",
      "['']\n"
     ]
    },
    {
     "data": {
      "text/plain": [
       "''"
      ]
     },
     "execution_count": 129,
     "metadata": {},
     "output_type": "execute_result"
    }
   ],
   "source": [
    "\n",
    "strs = [\"reflower\",\"flow\",\"flight\"]\n",
    "ob1.longestCommonPrefix(strs)"
   ]
  },
  {
   "cell_type": "code",
   "execution_count": 143,
   "id": "58c32bf0-9491-40b5-a80f-d2317f8821ad",
   "metadata": {},
   "outputs": [],
   "source": [
    "class Solution:\n",
    "    def isAnagram(self, s: str, t: str) -> bool:\n",
    "        from collections import Counter\n",
    "        print(Counter(s))\n",
    "        print(Counter(t))\n",
    "        print(Counter(s) == Counter(t))"
   ]
  },
  {
   "cell_type": "code",
   "execution_count": 144,
   "id": "c41b3a7f-18b4-42d6-8734-68a40043aa27",
   "metadata": {},
   "outputs": [],
   "source": [
    "s = \"anagram\" \n",
    "t = \"nagaram\""
   ]
  },
  {
   "cell_type": "code",
   "execution_count": 145,
   "id": "166cc344-5d19-4114-8e4e-2019c58dc59c",
   "metadata": {},
   "outputs": [
    {
     "name": "stdout",
     "output_type": "stream",
     "text": [
      "Counter({'a': 3, 'n': 1, 'g': 1, 'r': 1, 'm': 1})\n",
      "Counter({'a': 3, 'n': 1, 'g': 1, 'r': 1, 'm': 1})\n",
      "True\n"
     ]
    }
   ],
   "source": [
    "ob1 = Solution()\n",
    "ob1.isAnagram(s, t)"
   ]
  },
  {
   "cell_type": "code",
   "execution_count": null,
   "id": "f618166f-9d62-4214-8e80-ea96458f0187",
   "metadata": {},
   "outputs": [],
   "source": []
  },
  {
   "cell_type": "code",
   "execution_count": 155,
   "id": "64aa1286-5b3b-4476-bb73-d43001670bab",
   "metadata": {},
   "outputs": [],
   "source": [
    "class Solution:\n",
    "    def canConstruct(self, ransomNote: str, magazine: str) -> bool:\n",
    "        from collections import Counter\n",
    "        c1 = Counter(ransomNote)\n",
    "        c2 = Counter(magazine)\n",
    "        result = []\n",
    "\n",
    "        return all([i in c2 and c1[i] <= c2[i] for i in c1])\n",
    "            \n",
    "        "
   ]
  },
  {
   "cell_type": "code",
   "execution_count": 156,
   "id": "2fac23b4-b0f0-43db-ab06-4b8c0999edf1",
   "metadata": {},
   "outputs": [
    {
     "data": {
      "text/plain": [
       "True"
      ]
     },
     "execution_count": 156,
     "metadata": {},
     "output_type": "execute_result"
    }
   ],
   "source": [
    "a = \"aab\"\n",
    "b = \"baa\"\n",
    "\n",
    "ob = Solution()\n",
    "ob.canConstruct(a, b)\n"
   ]
  },
  {
   "cell_type": "code",
   "execution_count": null,
   "id": "8fa0ad97-26fe-4807-8330-61d148881cd6",
   "metadata": {},
   "outputs": [],
   "source": []
  }
 ],
 "metadata": {
  "kernelspec": {
   "display_name": "Python 3 (ipykernel)",
   "language": "python",
   "name": "python3"
  },
  "language_info": {
   "codemirror_mode": {
    "name": "ipython",
    "version": 3
   },
   "file_extension": ".py",
   "mimetype": "text/x-python",
   "name": "python",
   "nbconvert_exporter": "python",
   "pygments_lexer": "ipython3",
   "version": "3.8.10"
  }
 },
 "nbformat": 4,
 "nbformat_minor": 5
}

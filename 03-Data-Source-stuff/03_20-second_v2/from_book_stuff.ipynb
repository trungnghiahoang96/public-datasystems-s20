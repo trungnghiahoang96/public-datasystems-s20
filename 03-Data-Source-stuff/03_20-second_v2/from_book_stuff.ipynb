{
 "cells": [
  {
   "cell_type": "code",
   "execution_count": 54,
   "id": "acfc69a0-4b67-4d24-9be3-19528d58b108",
   "metadata": {},
   "outputs": [],
   "source": [
    "url = \"http://datasystems.denison.edu/basic.html\""
   ]
  },
  {
   "cell_type": "code",
   "execution_count": 55,
   "id": "e51caebb-0b28-422b-a0c8-f1b04e32011b",
   "metadata": {},
   "outputs": [],
   "source": [
    "import requests\n",
    "response = requests.get(url)\n",
    "request = response.request"
   ]
  },
  {
   "cell_type": "code",
   "execution_count": 56,
   "id": "8ed32d81-de0e-4293-8609-1b996104e51e",
   "metadata": {},
   "outputs": [
    {
     "name": "stdout",
     "output_type": "stream",
     "text": [
      "Response status: 200\n"
     ]
    }
   ],
   "source": [
    "print(\"Response status:\", response.status_code)"
   ]
  },
  {
   "cell_type": "code",
   "execution_count": 57,
   "id": "b1d6fb1e-de0c-49ec-bca3-3f539db3e5ca",
   "metadata": {},
   "outputs": [
    {
     "name": "stdout",
     "output_type": "stream",
     "text": [
      "URL: http://datasystems.denison.edu/basic.html\n"
     ]
    }
   ],
   "source": [
    "print(\"URL:\", request.url)"
   ]
  },
  {
   "cell_type": "code",
   "execution_count": 58,
   "id": "9ba0afbc-4749-4842-9d69-4372489a95e9",
   "metadata": {},
   "outputs": [
    {
     "name": "stdout",
     "output_type": "stream",
     "text": [
      "<!DOCTYPE html>\n",
      "<html lang=\"en\">\n",
      "  <head>\n",
      "    <title>Data Systems Basic HTML Page</title>\n",
      "  </head>\n",
      "  <body>\n",
      "    <h1>First Level Heading</h1>\n",
      "\n",
      "    <p>Paragraph defined in <b>body</b>.\n",
      "\n",
      "    <h2>Second Level Heading</h2>\n",
      "\n",
      "    <a href=\"http://docs.python.org\">Link</a> to Python documentation.\n",
      "    </p>\n",
      "\n",
      "    <ul>\n",
      "      <li>Item 1\n",
      "      <ol>\n",
      "        <li>Item 1 nested</li>\n",
      "        <li>Item 2 nested</li>\n",
      "      </ol>\n",
      "      </li>\n",
      "      <li>Item 2</li>\n",
      "      <li>Item 3</li>\n",
      "    </ul>\n",
      "  </body>\n",
      "</html>\n",
      " <class 'str'> b'<!DOCTYPE html>\\n<html lang=\"en\">\\n  <head>\\n    <title>Data Systems Basic HTML Page</title>\\n  </head>\\n  <body>\\n    <h1>First Level Heading</h1>\\n\\n    <p>Paragraph defined in <b>body</b>.\\n\\n    <h2>Second Level Heading</h2>\\n\\n    <a href=\"http://docs.python.org\">Link</a> to Python documentation.\\n    </p>\\n\\n    <ul>\\n      <li>Item 1\\n      <ol>\\n        <li>Item 1 nested</li>\\n        <li>Item 2 nested</li>\\n      </ol>\\n      </li>\\n      <li>Item 2</li>\\n      <li>Item 3</li>\\n    </ul>\\n  </body>\\n</html>\\n' <class 'bytes'>\n"
     ]
    }
   ],
   "source": [
    "print(response.text, type(response.text), response.content, type(response.content))"
   ]
  },
  {
   "cell_type": "code",
   "execution_count": 23,
   "id": "99744b35-8d9a-467b-841e-c92391d43b1e",
   "metadata": {},
   "outputs": [
    {
     "name": "stdout",
     "output_type": "stream",
     "text": [
      "Response status: 200\n"
     ]
    }
   ],
   "source": [
    "url = \"http://httpbin.org/get\"\n",
    "headerD = {\n",
    "\"Accept\": \"application/json\",\n",
    "\"User-Agent\": \"datasystems-client\"\n",
    "}\n",
    "response = requests.get(url, headers=headerD)\n",
    "request = response.request\n",
    "print(\"Response status:\", response.status_code)\n"
   ]
  },
  {
   "cell_type": "code",
   "execution_count": 24,
   "id": "c55188a1-15aa-4dbb-93a6-cffbdbc2bbb9",
   "metadata": {},
   "outputs": [
    {
     "data": {
      "text/plain": [
       "{'User-Agent': 'datasystems-client', 'Accept-Encoding': 'gzip, deflate', 'Accept': 'application/json', 'Connection': 'keep-alive'}"
      ]
     },
     "execution_count": 24,
     "metadata": {},
     "output_type": "execute_result"
    }
   ],
   "source": [
    "response.request.headers"
   ]
  },
  {
   "cell_type": "code",
   "execution_count": 25,
   "id": "80b389a2-a90c-467b-b963-45feed20de1f",
   "metadata": {},
   "outputs": [
    {
     "data": {
      "text/plain": [
       "'/get'"
      ]
     },
     "execution_count": 25,
     "metadata": {},
     "output_type": "execute_result"
    }
   ],
   "source": [
    "response.request.path_url"
   ]
  },
  {
   "cell_type": "code",
   "execution_count": 26,
   "id": "07d9cdb1-2b89-478a-997e-14694b607428",
   "metadata": {},
   "outputs": [
    {
     "data": {
      "text/plain": [
       "'http://httpbin.org/get'"
      ]
     },
     "execution_count": 26,
     "metadata": {},
     "output_type": "execute_result"
    }
   ],
   "source": [
    "response.request.url"
   ]
  },
  {
   "cell_type": "code",
   "execution_count": 27,
   "id": "fcad1ca2-24f6-4379-b768-a0e482db5d6b",
   "metadata": {},
   "outputs": [
    {
     "data": {
      "text/plain": [
       "'GET'"
      ]
     },
     "execution_count": 27,
     "metadata": {},
     "output_type": "execute_result"
    }
   ],
   "source": [
    "response.request.method"
   ]
  },
  {
   "cell_type": "code",
   "execution_count": 28,
   "id": "281fa24c-fe9f-4cbe-b634-137656570263",
   "metadata": {},
   "outputs": [
    {
     "data": {
      "text/plain": [
       "b'{\\n  \"args\": {}, \\n  \"headers\": {\\n    \"Accept\": \"application/json\", \\n    \"Accept-Encoding\": \"gzip, deflate\", \\n    \"Host\": \"httpbin.org\", \\n    \"User-Agent\": \"datasystems-client\", \\n    \"X-Amzn-Trace-Id\": \"Root=1-617be5ad-428944ae4ffb7fce2af0f1e5\"\\n  }, \\n  \"origin\": \"14.224.28.87\", \\n  \"url\": \"http://httpbin.org/get\"\\n}\\n'"
      ]
     },
     "execution_count": 28,
     "metadata": {},
     "output_type": "execute_result"
    }
   ],
   "source": [
    "response.content"
   ]
  },
  {
   "cell_type": "code",
   "execution_count": 31,
   "id": "b52e99e6-d76a-4821-a205-ac0862ee1d69",
   "metadata": {},
   "outputs": [
    {
     "name": "stdout",
     "output_type": "stream",
     "text": [
      "<class 'bytes'>\n"
     ]
    }
   ],
   "source": [
    "print(type(response.content))"
   ]
  },
  {
   "cell_type": "markdown",
   "id": "0ebab095-bdf4-4e8e-be21-66b15270ca1a",
   "metadata": {},
   "source": [
    "get with query param\n"
   ]
  },
  {
   "cell_type": "code",
   "execution_count": 15,
   "id": "f6d70eaf-256b-4f7b-a024-c32d3e1c71c2",
   "metadata": {},
   "outputs": [
    {
     "name": "stdout",
     "output_type": "stream",
     "text": [
      "Response status: 200\n"
     ]
    }
   ],
   "source": [
    "url = \"http://httpbin.org/get\"\n",
    "paramsD = {\n",
    "\"user\": \"smith\",\n",
    "\"query\": \"movies tv\"\n",
    "}\n",
    "response = requests.get(url, params=paramsD)\n",
    "request = response.request\n",
    "print(\"Response status:\", response.status_code)"
   ]
  },
  {
   "cell_type": "code",
   "execution_count": 16,
   "id": "c99f6c0b-6008-4256-8835-d7f601b13a39",
   "metadata": {},
   "outputs": [
    {
     "name": "stdout",
     "output_type": "stream",
     "text": [
      "Path: /get?user=smith&query=movies+tv\n"
     ]
    }
   ],
   "source": [
    "print(\"Path:\", request.path_url)"
   ]
  },
  {
   "cell_type": "markdown",
   "id": "5cb9ce05-6e0c-4820-bdb3-fc592514d0fe",
   "metadata": {},
   "source": [
    "post"
   ]
  },
  {
   "cell_type": "code",
   "execution_count": 47,
   "id": "dfd9e6ca-ae81-4702-b630-18777899264a",
   "metadata": {},
   "outputs": [
    {
     "name": "stdout",
     "output_type": "stream",
     "text": [
      "Response status: 200\n"
     ]
    }
   ],
   "source": [
    "url = \"http://httpbin.org/post\"\n",
    "paramsD = {\n",
    "\"user\": \"jones\",\n",
    "\"query\": \"TV?episodes\"\n",
    "}\n",
    "headerD = {\n",
    "\"Accept\": \"application/json\"\n",
    "}\n",
    "body = {\"a\": 1, \"b\": 2}\n",
    "response = requests.post(url, params=paramsD,\n",
    "headers=headerD, data=body)\n",
    "request = response.request\n",
    "print(\"Response status:\", response.status_code)"
   ]
  },
  {
   "cell_type": "code",
   "execution_count": 48,
   "id": "c2b678ae-9b3e-4ea0-a269-005e75fc3fe1",
   "metadata": {},
   "outputs": [
    {
     "name": "stdout",
     "output_type": "stream",
     "text": [
      "Request Path: /post?user=jones&query=TV%3Fepisodes\n"
     ]
    }
   ],
   "source": [
    "print(\"Request Path:\", request.path_url)"
   ]
  },
  {
   "cell_type": "code",
   "execution_count": 49,
   "id": "8aadca06-020a-4a19-8af3-418e091e92ef",
   "metadata": {},
   "outputs": [
    {
     "name": "stdout",
     "output_type": "stream",
     "text": [
      "Request Body: a=1&b=2\n"
     ]
    }
   ],
   "source": [
    "print(\"Request Body:\", request.body)"
   ]
  },
  {
   "cell_type": "code",
   "execution_count": 51,
   "id": "aac1bc80-02c2-439f-90c7-44635452e5fc",
   "metadata": {},
   "outputs": [
    {
     "name": "stdout",
     "output_type": "stream",
     "text": [
      "<class 'bytes'>\n"
     ]
    }
   ],
   "source": [
    "print(type(response.content))"
   ]
  },
  {
   "cell_type": "raw",
   "id": "930bfe43-fe2c-464f-a799-57c3432fd0f9",
   "metadata": {},
   "source": [
    "response.content"
   ]
  },
  {
   "cell_type": "markdown",
   "id": "b2092046-0e99-42bd-9354-2b01fc6b8210",
   "metadata": {},
   "source": [
    "post with json body"
   ]
  },
  {
   "cell_type": "code",
   "execution_count": 36,
   "id": "362d22b8-5d9e-4ffc-8764-b6dcffe395cd",
   "metadata": {},
   "outputs": [
    {
     "name": "stdout",
     "output_type": "stream",
     "text": [
      "Response status: 200\n"
     ]
    }
   ],
   "source": [
    "import json\n",
    "url = \"http://httpbin.org/post\"\n",
    "paramsD = {\n",
    "\"user\": \"jones\",\n",
    "\"query\": \"TV\"\n",
    "}\n",
    "headerD = {\n",
    "\"Accept\": \"application/json\"\n",
    "}\n",
    "json_data = [\"foo\", \"bar\", {\"a\": 1, \"b\": 2}]\n",
    "response = requests.post(url, params=paramsD,\n",
    "headers=headerD, json=json_data)\n",
    "request = response.request\n",
    "print(\"Response status:\", response.status_code)"
   ]
  },
  {
   "cell_type": "code",
   "execution_count": 37,
   "id": "5d76aec9-c679-48ac-9692-5f314724f4b7",
   "metadata": {},
   "outputs": [
    {
     "name": "stdout",
     "output_type": "stream",
     "text": [
      "Request Path: /post?user=jones&query=TV\n"
     ]
    }
   ],
   "source": [
    "print(\"Request Path:\", request.path_url)"
   ]
  },
  {
   "cell_type": "code",
   "execution_count": 38,
   "id": "cb4f783e-1720-4671-a7f2-1bace31d2bd0",
   "metadata": {},
   "outputs": [
    {
     "name": "stdout",
     "output_type": "stream",
     "text": [
      "Request Body: [\"foo\", \"bar\", {\"a\": 1, \"b\": 2}]\n"
     ]
    }
   ],
   "source": [
    "print(\"Request Body:\", request.body.decode('utf-8'))"
   ]
  },
  {
   "cell_type": "code",
   "execution_count": 52,
   "id": "d5269a0b-6d5a-4438-822e-e98dca258ea4",
   "metadata": {},
   "outputs": [
    {
     "data": {
      "text/plain": [
       "'{\\n  \"args\": {\\n    \"query\": \"TV?episodes\", \\n    \"user\": \"jones\"\\n  }, \\n  \"data\": \"\", \\n  \"files\": {}, \\n  \"form\": {\\n    \"a\": \"1\", \\n    \"b\": \"2\"\\n  }, \\n  \"headers\": {\\n    \"Accept\": \"application/json\", \\n    \"Accept-Encoding\": \"gzip, deflate\", \\n    \"Content-Length\": \"7\", \\n    \"Content-Type\": \"application/x-www-form-urlencoded\", \\n    \"Host\": \"httpbin.org\", \\n    \"User-Agent\": \"python-requests/2.26.0\", \\n    \"X-Amzn-Trace-Id\": \"Root=1-617be651-49f600bc418620a3304637e5\"\\n  }, \\n  \"json\": null, \\n  \"origin\": \"14.224.28.87\", \\n  \"url\": \"http://httpbin.org/post?user=jones&query=TV%3Fepisodes\"\\n}\\n'"
      ]
     },
     "execution_count": 52,
     "metadata": {},
     "output_type": "execute_result"
    }
   ],
   "source": [
    "response.text"
   ]
  },
  {
   "cell_type": "code",
   "execution_count": 53,
   "id": "84fd9478-4025-413f-bf5e-702b827f886b",
   "metadata": {},
   "outputs": [
    {
     "data": {
      "text/plain": [
       "b'{\\n  \"args\": {\\n    \"query\": \"TV?episodes\", \\n    \"user\": \"jones\"\\n  }, \\n  \"data\": \"\", \\n  \"files\": {}, \\n  \"form\": {\\n    \"a\": \"1\", \\n    \"b\": \"2\"\\n  }, \\n  \"headers\": {\\n    \"Accept\": \"application/json\", \\n    \"Accept-Encoding\": \"gzip, deflate\", \\n    \"Content-Length\": \"7\", \\n    \"Content-Type\": \"application/x-www-form-urlencoded\", \\n    \"Host\": \"httpbin.org\", \\n    \"User-Agent\": \"python-requests/2.26.0\", \\n    \"X-Amzn-Trace-Id\": \"Root=1-617be651-49f600bc418620a3304637e5\"\\n  }, \\n  \"json\": null, \\n  \"origin\": \"14.224.28.87\", \\n  \"url\": \"http://httpbin.org/post?user=jones&query=TV%3Fepisodes\"\\n}\\n'"
      ]
     },
     "execution_count": 53,
     "metadata": {},
     "output_type": "execute_result"
    }
   ],
   "source": [
    "response.content"
   ]
  },
  {
   "cell_type": "code",
   "execution_count": 45,
   "id": "e4f78d83-3a9c-4f47-9d42-9568893c6af9",
   "metadata": {},
   "outputs": [
    {
     "name": "stdout",
     "output_type": "stream",
     "text": [
      "<class 'str'>\n"
     ]
    }
   ],
   "source": [
    "print(type(response.text))"
   ]
  },
  {
   "cell_type": "markdown",
   "id": "329dff76-5e1f-4f7b-b62f-7080b81d50a0",
   "metadata": {},
   "source": [
    "**Exercises**"
   ]
  },
  {
   "cell_type": "markdown",
   "id": "3085b723-5e98-481b-bc96-c8c0f078dd58",
   "metadata": {},
   "source": [
    "**20.35** The requests module uses URLs as the first argument to its HTTP method\n",
    "functions, but we often start with the “piece parts” of the information contained in\n",
    "a URL. Write a function\n",
    "buildURL(resource, location, protocol=’http’)\n",
    "that returns a string URL based on the three component parts of protocol,\n",
    "location, and resource. Your function should be flexible, so that if a user\n",
    "omits a leading \\ on the resource path, one is prepended. Note that we are specifying\n",
    "a default value for protocol so that it will use http if buildURL is called with\n",
    "just two arguments. The string method format() is the right tool for the job here."
   ]
  },
  {
   "cell_type": "code",
   "execution_count": 8,
   "id": "3647fb7d-28c4-4365-8809-cb6ecf70f1ee",
   "metadata": {},
   "outputs": [
    {
     "name": "stdout",
     "output_type": "stream",
     "text": [
      "http://personal.denison.edu/~kretchmar/\n"
     ]
    }
   ],
   "source": [
    "def buildURL(resource, location, protocol='http'):\n",
    "    return '{}://{}{}'.format(protocol, location, resource)\n",
    "\n",
    "\n",
    "location = 'personal.denison.edu'\n",
    "resource = '/~kretchmar/'\n",
    "print(buildURL(resource, location))"
   ]
  },
  {
   "cell_type": "markdown",
   "id": "8d2eda81-7710-42db-95cd-8f5edd19ebd1",
   "metadata": {},
   "source": [
    "**20.36** Write a sequence of code that starts with:\n",
    "resource = \"/data/ind0.json\"\n",
    "location = \"datasystems.denison.edu\"\n",
    "and build an appropriate URL, uses requests to issue a GET request, and\n",
    "assigns the variables based on the result:\n",
    "- status: has the integer status code,\n",
    "- headers: has a dictionary of headers from the response, and\n",
    "- data has the parsed data from the JSON-formatted body"
   ]
  },
  {
   "cell_type": "code",
   "execution_count": 11,
   "id": "a093464a-6a3a-403f-afe0-c85c67f08efa",
   "metadata": {},
   "outputs": [],
   "source": [
    "resource = \"/data/ind0.json\" \n",
    "location = \"datasystems.denison.edu\" \n",
    "url = buildURL(resource, location)\n",
    "\n",
    "response = requests.get(url)\n",
    "request = response.request\n"
   ]
  },
  {
   "cell_type": "code",
   "execution_count": 14,
   "id": "eddd2e8f-4603-47b8-b057-1bde685afc80",
   "metadata": {},
   "outputs": [
    {
     "name": "stdout",
     "output_type": "stream",
     "text": [
      "http://datasystems.denison.edu/data/ind0.json\n",
      "200\n",
      "{'Date': 'Fri, 29 Oct 2021 03:24:07 GMT', 'Server': 'Apache/2.4.6 (CentOS)', 'Last-Modified': 'Wed, 16 Dec 2020 23:45:42 GMT', 'ETag': '\"10d-5b69d7922d580\"', 'Accept-Ranges': 'bytes', 'Content-Length': '269', 'Connection': 'close', 'Content-Type': 'application/json'}\n",
      "b'{\"FRA\": {\"2007\": {\"pop\": 64.02, \"gdp\": 2657.21}, \"2017\": {\"pop\": 66.87, \"gdp\": 2586.29}}, \"GBR\": {\"2007\": {\"pop\": 61.32, \"gdp\": 3084.12}, \"2017\": {\"pop\": 66.06, \"gdp\": 2637.87}}, \"USA\": {\"2007\": {\"pop\": 301.23, \"gdp\": 14451.9}, \"2017\": {\"pop\": 325.15, \"gdp\": 19485.4}}}'\n"
     ]
    }
   ],
   "source": [
    "print(url)\n",
    "print(response.status_code)\n",
    "print(response.headers)\n",
    "print(response.content)"
   ]
  },
  {
   "cell_type": "code",
   "execution_count": 15,
   "id": "6c3c328b-baa1-474d-9a84-2a9af735a187",
   "metadata": {},
   "outputs": [
    {
     "data": {
      "text/plain": [
       "{'FRA': {'2007': {'pop': 64.02, 'gdp': 2657.21},\n",
       "  '2017': {'pop': 66.87, 'gdp': 2586.29}},\n",
       " 'GBR': {'2007': {'pop': 61.32, 'gdp': 3084.12},\n",
       "  '2017': {'pop': 66.06, 'gdp': 2637.87}},\n",
       " 'USA': {'2007': {'pop': 301.23, 'gdp': 14451.9},\n",
       "  '2017': {'pop': 325.15, 'gdp': 19485.4}}}"
      ]
     },
     "execution_count": 15,
     "metadata": {},
     "output_type": "execute_result"
    }
   ],
   "source": [
    "data = response.json()\n",
    "data"
   ]
  },
  {
   "cell_type": "markdown",
   "id": "167bf6cf-d903-4865-a33a-c0b3b2a1a8e7",
   "metadata": {},
   "source": [
    "**20.37** Suppose you often coded a similar set of steps to make a GET request, where\n",
    "often the body of the result was JSON, in which case you wanted the data parsed,\n",
    "but sometimes the data was not JSON, in which case you wanted the data as a string.\n",
    "Write a function\n",
    "- makeRequest(resource, location, protocol=\"http\")\n",
    "\n",
    "that makes a GET request to the given location, resource, and\n",
    "protocol. If the request is not successful (i.e., not in the 200’s), the function\n",
    "should check for this and return None. If the request is successful, the function\n",
    "should use the response headers and determine whether or not the Content-Type\n",
    "header maps to application/json. If it is, it should parse the result and return\n",
    "the data structure. If it is not, it should return the string making up the body of the\n",
    "response."
   ]
  },
  {
   "cell_type": "code",
   "execution_count": 19,
   "id": "68c979ca-53b4-47ad-9f9a-977ab5f8cfe5",
   "metadata": {},
   "outputs": [
    {
     "data": {
      "text/plain": [
       "{'FRA': {'2007': {'pop': 64.02, 'gdp': 2657.21},\n",
       "  '2017': {'pop': 66.87, 'gdp': 2586.29}},\n",
       " 'GBR': {'2007': {'pop': 61.32, 'gdp': 3084.12},\n",
       "  '2017': {'pop': 66.06, 'gdp': 2637.87}},\n",
       " 'USA': {'2007': {'pop': 301.23, 'gdp': 14451.9},\n",
       "  '2017': {'pop': 325.15, 'gdp': 19485.4}}}"
      ]
     },
     "execution_count": 19,
     "metadata": {},
     "output_type": "execute_result"
    }
   ],
   "source": [
    "def makeRequest(resouce, location, protocol=\"http\"):\n",
    "    def buildURL(resource, location, protocol='http'):\n",
    "        return '{}://{}{}'.format(protocol, location, resource)\n",
    "    url = buildURL(resource, location)\n",
    "    response = requests.get(url)\n",
    "    status_code = response.status_code\n",
    "    if status_code == 200:\n",
    "        if response.headers['Content-Type']== 'application/json':\n",
    "            return response.json()\n",
    "        else:\n",
    "            response.content\n",
    "    else:\n",
    "        return None\n",
    "\n",
    "resource = \"/data/ind0.json\" \n",
    "location = \"datasystems.denison.edu\" \n",
    "data = makeRequest(resource, location)\n",
    "data"
   ]
  },
  {
   "cell_type": "markdown",
   "id": "b11c0451-f79b-499a-89ca-be12bb0fea8b",
   "metadata": {},
   "source": [
    "**20.38** You have probably had the experience before of trying to open a web page,\n",
    "and having a redirect page pop up, telling you that the page has moved and asking if\n",
    "you want to be redirected. The same thing can happen when we write code to make\n",
    "requests. Write a function:\n",
    "\n",
    "- getRedirectURL(resource, location)\n",
    "\n",
    "that begins like your function makeRequest but does not allow redirects when\n",
    "invoking get. This function will return a url. \n",
    "- If the get results in a success status\n",
    "code (one in the 200’s), you return the original url (obtained from buildURL, with\n",
    "http protocol). \n",
    "\n",
    "- If you detect that get tried to redirect (by looking for a 300, 301,\n",
    "or 302 status code), search within the headers to find the \"Location\" it tried to\n",
    "redirect to, and return that URL instead. \n",
    "- If you get any other status code, return\n",
    "None."
   ]
  },
  {
   "cell_type": "code",
   "execution_count": null,
   "id": "ba3f01f8-fec7-406d-a382-76518eb3e863",
   "metadata": {},
   "outputs": [],
   "source": []
  }
 ],
 "metadata": {
  "kernelspec": {
   "display_name": "Python 3 (ipykernel)",
   "language": "python",
   "name": "python3"
  },
  "language_info": {
   "codemirror_mode": {
    "name": "ipython",
    "version": 3
   },
   "file_extension": ".py",
   "mimetype": "text/x-python",
   "name": "python",
   "nbconvert_exporter": "python",
   "pygments_lexer": "ipython3",
   "version": "3.8.10"
  }
 },
 "nbformat": 4,
 "nbformat_minor": 5
}

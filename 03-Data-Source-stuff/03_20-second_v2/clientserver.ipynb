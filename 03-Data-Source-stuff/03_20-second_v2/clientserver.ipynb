{
 "cells": [
  {
   "cell_type": "code",
   "execution_count": 1,
   "metadata": {},
   "outputs": [
    {
     "data": {
      "text/plain": [
       "<module 'mysocket' from '/home/nghiaht7/data-engineer/public-datasystems-s20/03-Data-Source-stuff/03_20-first/mysocket.py'>"
      ]
     },
     "execution_count": 1,
     "metadata": {},
     "output_type": "execute_result"
    }
   ],
   "source": [
    "import importlib\n",
    "\n",
    "import mysocket as sock\n",
    "\n",
    "importlib.reload(sock)"
   ]
  },
  {
   "cell_type": "code",
   "execution_count": 2,
   "metadata": {},
   "outputs": [],
   "source": [
    "webconn = sock.makeConnection(\"personal.denison.edu\", 80)"
   ]
  },
  {
   "cell_type": "code",
   "execution_count": 3,
   "metadata": {},
   "outputs": [],
   "source": [
    "lines = [\"GET / HTTP/1.1\", \"Host: personal.denison.edu\", \"\"]"
   ]
  },
  {
   "cell_type": "code",
   "execution_count": 4,
   "metadata": {},
   "outputs": [],
   "source": [
    "for line in lines:\n",
    "    sock.sendString(webconn, line)\n",
    "    sock.sendCRLF(webconn)"
   ]
  },
  {
   "cell_type": "code",
   "execution_count": 5,
   "metadata": {},
   "outputs": [],
   "source": [
    "s = sock.receiveTillClose(webconn)"
   ]
  },
  {
   "cell_type": "code",
   "execution_count": 6,
   "metadata": {},
   "outputs": [
    {
     "data": {
      "text/plain": [
       "'HTTP/1.1 200 OK\\r\\nDate: Fri, 22 Oct 2021 01:49:15 GMT\\r\\nServer: Apache/2.4.6 (CentOS)\\r\\nAccept-Ranges: bytes\\r\\nContent-Length: 464\\r\\nConnection: close\\r\\nContent-Type: text/html; charset=iso-8859-1\\r\\n\\r\\n<!DOCTYPE HTML PUBLIC \"-//W3C//DTD HTML 3.2//EN\">\\n<HTML> \\n<HEAD>    \\n<TITLE>Personal Pages - Denison University</TITLE>\\n</HEAD> <BODY> \\n<p>&ldquo;Disclaimer: The views and opinions expressed in this service are strictly those of the information provider. The provider assumes full responsibility and liability for the content of this service. The contents of this service have neither been reviewed nor approved by Denison University.&rdquo;</p>\\n</BODY> \\n</HTML> \\n'"
      ]
     },
     "execution_count": 6,
     "metadata": {},
     "output_type": "execute_result"
    }
   ],
   "source": [
    "s"
   ]
  },
  {
   "cell_type": "code",
   "execution_count": 7,
   "metadata": {},
   "outputs": [],
   "source": [
    "webconn.close()"
   ]
  },
  {
   "cell_type": "code",
   "execution_count": 8,
   "metadata": {},
   "outputs": [],
   "source": [
    "def getMailCode(serverline):\n",
    "    endpos = serverline.index(\" \")\n",
    "    first = serverline[:endpos]\n",
    "    num = int(first)\n",
    "    return num"
   ]
  },
  {
   "cell_type": "code",
   "execution_count": 9,
   "metadata": {},
   "outputs": [
    {
     "ename": "KeyboardInterrupt",
     "evalue": "",
     "output_type": "error",
     "traceback": [
      "\u001b[0;31m---------------------------------------------------------------------------\u001b[0m",
      "\u001b[0;31mKeyboardInterrupt\u001b[0m                         Traceback (most recent call last)",
      "\u001b[0;32m/tmp/ipykernel_430798/1995335321.py\u001b[0m in \u001b[0;36m<module>\u001b[0;34m\u001b[0m\n\u001b[0;32m----> 1\u001b[0;31m \u001b[0mmailserver\u001b[0m \u001b[0;34m=\u001b[0m \u001b[0msock\u001b[0m\u001b[0;34m.\u001b[0m\u001b[0mmakeConnection\u001b[0m\u001b[0;34m(\u001b[0m\u001b[0;34m\"mail.denison.edu\"\u001b[0m\u001b[0;34m,\u001b[0m \u001b[0;36m25\u001b[0m\u001b[0;34m)\u001b[0m\u001b[0;34m\u001b[0m\u001b[0;34m\u001b[0m\u001b[0m\n\u001b[0m",
      "\u001b[0;32m~/data-engineer/public-datasystems-s20/03-Data-Source-stuff/03_20-first/mysocket.py\u001b[0m in \u001b[0;36mmakeConnection\u001b[0;34m(location, port, proxy)\u001b[0m\n\u001b[1;32m     35\u001b[0m \u001b[0;34m\u001b[0m\u001b[0m\n\u001b[1;32m     36\u001b[0m     \u001b[0mendsocket\u001b[0m \u001b[0;34m=\u001b[0m \u001b[0msocket\u001b[0m\u001b[0;34m.\u001b[0m\u001b[0msocket\u001b[0m\u001b[0;34m(\u001b[0m\u001b[0msocket\u001b[0m\u001b[0;34m.\u001b[0m\u001b[0mAF_INET\u001b[0m\u001b[0;34m,\u001b[0m \u001b[0msocket\u001b[0m\u001b[0;34m.\u001b[0m\u001b[0mSOCK_STREAM\u001b[0m\u001b[0;34m)\u001b[0m\u001b[0;34m\u001b[0m\u001b[0;34m\u001b[0m\u001b[0m\n\u001b[0;32m---> 37\u001b[0;31m     \u001b[0mretval\u001b[0m \u001b[0;34m=\u001b[0m \u001b[0mendsocket\u001b[0m\u001b[0;34m.\u001b[0m\u001b[0mconnect_ex\u001b[0m\u001b[0;34m(\u001b[0m\u001b[0;34m(\u001b[0m\u001b[0mlocation\u001b[0m\u001b[0;34m,\u001b[0m \u001b[0mport\u001b[0m\u001b[0;34m)\u001b[0m\u001b[0;34m)\u001b[0m\u001b[0;34m\u001b[0m\u001b[0;34m\u001b[0m\u001b[0m\n\u001b[0m\u001b[1;32m     38\u001b[0m     \u001b[0;32mif\u001b[0m \u001b[0mretval\u001b[0m \u001b[0;34m==\u001b[0m \u001b[0;36m0\u001b[0m\u001b[0;34m:\u001b[0m\u001b[0;34m\u001b[0m\u001b[0;34m\u001b[0m\u001b[0m\n\u001b[1;32m     39\u001b[0m         \u001b[0;32mreturn\u001b[0m \u001b[0mendsocket\u001b[0m\u001b[0;34m\u001b[0m\u001b[0;34m\u001b[0m\u001b[0m\n",
      "\u001b[0;31mKeyboardInterrupt\u001b[0m: "
     ]
    }
   ],
   "source": [
    "mailserver = sock.makeConnection(\"mail.denison.edu\", 25)"
   ]
  },
  {
   "cell_type": "code",
   "execution_count": 41,
   "metadata": {},
   "outputs": [
    {
     "name": "stdout",
     "output_type": "stream",
     "text": [
      "'220 smtpint2.cc.denison.edu ESMTP Postfix\\r\\n' 220\n"
     ]
    }
   ],
   "source": [
    "s1 = sock.receiveToCRLF(mailserver)\n",
    "status = getMailCode(s1)\n",
    "print(repr(s1), status)"
   ]
  },
  {
   "cell_type": "code",
   "execution_count": null,
   "metadata": {},
   "outputs": [],
   "source": [
    "prefixlines = [\n",
    "    \"HELO 140.141.92.5\",\n",
    "    \"MAIL FROM:<bressoud@denison.edu>\",\n",
    "    \"RCPT TO:<tcbressoud@gmail.com>\",\n",
    "]\n",
    "\n",
    "headers = [\n",
    "    'From: \"Dr. B\" <bressoud@denison.edu>',\n",
    "    'To: \"Tom\" <tcbressoud@gmail.com>',\n",
    "    \"Date: Sun, 29 Mar 2020 12:00:00 -0500\",\n",
    "    \"Subject: Test message\",\n",
    "    \"\",\n",
    "]\n",
    "\n",
    "body = \"\"\"Hello Tom-\n",
    "This is a test message with four header lines and\n",
    "five lines in the message body.\n",
    "\n",
    "Best, Dr. B\n",
    "\"\"\"\n",
    "\n",
    "for line in prefixlines:\n",
    "    sock.sendString(mailserver, line)\n",
    "    sock.sendCRLF(mailserver)\n",
    "    statusline = sock.receiveToCRLF(mailserver)\n",
    "    assert getMailCode(statusline) == 250\n",
    "\n",
    "sock.sendString(mailserver, \"DATA\")\n",
    "sock.sendCRLF(mailserver)\n",
    "statusline = sock.receiveToCRLF(mailserver)\n",
    "assert getMailCode(statusline) == 354\n",
    "\n",
    "for headerline in headers:\n",
    "    sock.sendString(mailserver, headerline)\n",
    "    sock.sendCRLF(mailserver)\n",
    "\n",
    "for bodyline in body.split(\"\\n\"):\n",
    "    sock.sendString(mailserver, bodyline)\n",
    "    sock.sendCRLF(mailserver)\n",
    "\n",
    "sock.sendString(mailserver, \".\")\n",
    "sock.sendCRLF(mailserver)\n",
    "\n",
    "statusline = sock.receiveToCRLF(mailserver)\n",
    "print(repr(statusline))\n",
    "assert getMailCode(statusline) == 250"
   ]
  },
  {
   "cell_type": "code",
   "execution_count": null,
   "metadata": {},
   "outputs": [],
   "source": [
    "sock.sendString(mailserver, \"QUIT\")\n",
    "sock.sendCRLF(mailserver)\n",
    "statusline = sock.receiveToCRLF(mailserver)\n",
    "assert getMailCode(statusline) == 221"
   ]
  },
  {
   "cell_type": "code",
   "execution_count": null,
   "metadata": {},
   "outputs": [],
   "source": [
    "mailserver.close()"
   ]
  },
  {
   "cell_type": "code",
   "execution_count": null,
   "metadata": {},
   "outputs": [],
   "source": []
  },
  {
   "cell_type": "code",
   "execution_count": null,
   "metadata": {},
   "outputs": [],
   "source": []
  },
  {
   "cell_type": "markdown",
   "metadata": {},
   "source": [
    "request_line = ’GET /status/301 HTTP/1.1\\r\\n’\n",
    "\n",
    "host_line = ’Host: httpbin.org\\r\\n’\n",
    "\n",
    "one_and_done = ’Connection: close\\r\\n’\n",
    "\n",
    "empty_line = ’\\r\\n’"
   ]
  },
  {
   "cell_type": "code",
   "execution_count": 10,
   "metadata": {},
   "outputs": [],
   "source": []
  },
  {
   "cell_type": "code",
   "execution_count": null,
   "metadata": {},
   "outputs": [],
   "source": [
    "requestlines = [\n",
    "    \"GET /bookweb/data/basic.html HTTP/1.0\",\n",
    "    \"Host: hadoop.mathsci.denison.edu\",\n",
    "    \"Connection: close\",\n",
    "    \"\",\n",
    "]\n",
    "request = \"\\r\\n\".join(requestlines) + \"\\r\\n\"\n",
    "request"
   ]
  },
  {
   "cell_type": "markdown",
   "metadata": {},
   "source": [
    "20.14 Suppose we wish to retrieve (GET) a file via HTTP (so port 80)\n",
    "from datasystems.denison.edu. The resource path of the file is\n",
    "/data/ind0.json. We wish to use version 1.1 of HTTP and to request that\n",
    "the connection be closed after a single request/reply exchange. We will need a\n",
    "header line to satisfy the HTTP 1.1 requirement of a valid Host header. Write a\n",
    "sequence of code to compose a valid HTTP request as a Python string, and assign\n",
    "the result to **message**\n",
    "\n",
    "20.15 Write a sequence of code to establish a connection to the host\n",
    "datasystems.denison.edu at port 80, to send the string message from\n",
    "the previous problem to the host, receive the reply from the host until the server\n",
    "closes the connection, assigning the reply to reply, and close the connection.\n",
    "Note: if the request is not completely correct, a network connection can wait forever\n",
    "for a reply that will never come. So if you have difficulty here, double check your\n",
    "answer to the previous problem."
   ]
  },
  {
   "cell_type": "code",
   "execution_count": 26,
   "metadata": {},
   "outputs": [
    {
     "name": "stderr",
     "output_type": "stream",
     "text": [
      "Version 1.0.2\n"
     ]
    }
   ],
   "source": [
    "%load_ext nb_mypy\n",
    "%nb_mypy On"
   ]
  },
  {
   "cell_type": "code",
   "execution_count": 29,
   "metadata": {},
   "outputs": [],
   "source": [
    "# 20.14\n",
    "import re\n",
    "\n",
    "\n",
    "def printByLine(s) -> None:\n",
    "    pattern = r\"\\r\\n\"\n",
    "    lines = re.split(pattern, s)\n",
    "    for line in lines[:-1]:\n",
    "        real_line = line + \"\\r\\n\"\n",
    "        print(repr(real_line))"
   ]
  },
  {
   "cell_type": "code",
   "execution_count": 30,
   "metadata": {},
   "outputs": [
    {
     "data": {
      "text/plain": [
       "'GET /data/ind0.json HTTP/1.1\\r\\nHost: datasystems.denison.edu\\r\\nConnection: close\\r\\n\\r\\n'"
      ]
     },
     "execution_count": 30,
     "metadata": {},
     "output_type": "execute_result"
    }
   ],
   "source": [
    "protocol = \"http\"\n",
    "host = \"datasystems.denison.edu\"\n",
    "port = 80\n",
    "buildURL = lambda s: \"{}://{}:{}/{}\".format(protocol, host, port, s)\n",
    "\n",
    "requestlines = [\n",
    "    \"GET /data/ind0.json HTTP/1.1\",\n",
    "    \"Host: datasystems.denison.edu\",\n",
    "    \"Connection: close\",\n",
    "    \"\",\n",
    "]\n",
    "\n",
    "request = \"\\r\\n\".join(requestlines) + \"\\r\\n\"\n",
    "request"
   ]
  },
  {
   "cell_type": "code",
   "execution_count": 31,
   "metadata": {},
   "outputs": [
    {
     "data": {
      "text/plain": [
       "'GET /data/ind0.json HTTP/1.0\\r\\nHost: datasystems.denison.edu\\r\\nConnection: close\\r\\n\\r\\n'"
      ]
     },
     "execution_count": 31,
     "metadata": {},
     "output_type": "execute_result"
    }
   ],
   "source": [
    "location = host\n",
    "resource = \"/data/ind0.json\"\n",
    "request2 = buildRequest(host, resource)\n",
    "request2"
   ]
  },
  {
   "cell_type": "code",
   "execution_count": 32,
   "metadata": {},
   "outputs": [
    {
     "name": "stdout",
     "output_type": "stream",
     "text": [
      "'GET /data/ind0.json HTTP/1.1\\r\\n'\n",
      "'Host: datasystems.denison.edu\\r\\n'\n",
      "'Connection: close\\r\\n'\n",
      "'\\r\\n'\n",
      "'GET /data/ind0.json HTTP/1.0\\r\\n'\n",
      "'Host: datasystems.denison.edu\\r\\n'\n",
      "'Connection: close\\r\\n'\n",
      "'\\r\\n'\n"
     ]
    }
   ],
   "source": [
    "printByLine(request)\n",
    "printByLine(request2)"
   ]
  },
  {
   "cell_type": "code",
   "execution_count": 20,
   "metadata": {},
   "outputs": [],
   "source": [
    "webconn = sock.makeConnection(\"datasystems.denison.edu\", 80)\n",
    "sock.sendString(webconn, request)\n",
    "s = sock.receiveTillClose(webconn)"
   ]
  },
  {
   "cell_type": "code",
   "execution_count": 21,
   "metadata": {},
   "outputs": [],
   "source": [
    "# webconn = sock.makeConnection(\"hadoop.mathsci.denison.edu\", 80)\n",
    "# for line in requestlines:\n",
    "#     sock.sendString(webconn, line)\n",
    "#     sock.sendCRLF(webconn)\n",
    "# s = sock.receiveTillClose(webconn)"
   ]
  },
  {
   "cell_type": "code",
   "execution_count": 22,
   "metadata": {},
   "outputs": [
    {
     "data": {
      "text/plain": [
       "'HTTP/1.1 200 OK\\r\\nDate: Fri, 22 Oct 2021 02:01:50 GMT\\r\\nServer: Apache/2.4.6 (CentOS)\\r\\nLast-Modified: Wed, 16 Dec 2020 23:45:42 GMT\\r\\nETag: \"10d-5b69d7922d580\"\\r\\nAccept-Ranges: bytes\\r\\nContent-Length: 269\\r\\nConnection: close\\r\\nContent-Type: application/json\\r\\n\\r\\n{\"FRA\": {\"2007\": {\"pop\": 64.02, \"gdp\": 2657.21}, \"2017\": {\"pop\": 66.87, \"gdp\": 2586.29}}, \"GBR\": {\"2007\": {\"pop\": 61.32, \"gdp\": 3084.12}, \"2017\": {\"pop\": 66.06, \"gdp\": 2637.87}}, \"USA\": {\"2007\": {\"pop\": 301.23, \"gdp\": 14451.9}, \"2017\": {\"pop\": 325.15, \"gdp\": 19485.4}}}'"
      ]
     },
     "execution_count": 22,
     "metadata": {},
     "output_type": "execute_result"
    }
   ],
   "source": [
    "s"
   ]
  },
  {
   "cell_type": "code",
   "execution_count": 24,
   "metadata": {},
   "outputs": [
    {
     "data": {
      "text/plain": [
       "'http://datasystems.denison.edu:80//data/ind0.json'"
      ]
     },
     "execution_count": 24,
     "metadata": {},
     "output_type": "execute_result"
    }
   ],
   "source": [
    "url = buildURL(\"/data/ind0.json\")\n",
    "url"
   ]
  },
  {
   "cell_type": "code",
   "execution_count": null,
   "metadata": {},
   "outputs": [],
   "source": []
  },
  {
   "cell_type": "code",
   "execution_count": null,
   "metadata": {},
   "outputs": [],
   "source": []
  },
  {
   "cell_type": "code",
   "execution_count": 34,
   "metadata": {},
   "outputs": [],
   "source": [
    "protocol = \"http\"\n",
    "host = \"datasystems.denison.edu\"\n",
    "port = 80\n",
    "buildURL = lambda s: \"{}://{}:{}/{}\".format(protocol, host, port, s)"
   ]
  },
  {
   "cell_type": "code",
   "execution_count": 101,
   "metadata": {},
   "outputs": [],
   "source": [
    "def buildRequest(location: str, resource: str) -> str:\n",
    "    requestlines = [\n",
    "        \"GET {} HTTP/1.0\".format(resource),\n",
    "        \"Host: {}\".format(location),\n",
    "        \"Connection: close\",\n",
    "        \"\",\n",
    "    ]\n",
    "    return \"\\r\\n\".join(requestlines) + \"\\r\\n\"\n",
    "\n",
    "\n",
    "# def makePOSTRequest(location, resource, body)\n",
    "\n",
    "\n",
    "def makeRequest(location: str, resource: str) -> str:\n",
    "    request = buildRequest(location, resource)\n",
    "    import mysocket as sock\n",
    "\n",
    "    port = 80\n",
    "    webconn = sock.makeConnection(location, port)\n",
    "    sock.sendString(webconn, request)\n",
    "    s = sock.receiveTillClose(webconn)\n",
    "    return s\n",
    "\n",
    "\n",
    "def parseReply(reply: str) -> str:\n",
    "    return reply[: reply.index(\"\\r\\n\") + 2]\n",
    "\n",
    "\n",
    "from typing import Dict, List\n",
    "\n",
    "\n",
    "def parseHeaders(reply: str) -> Dict[str, str]:\n",
    "    \"\"\"\n",
    "    {'Date': 'Fri, 22 Oct 2021 02:27:36 GMT',\n",
    "    'Server': 'Apache/2.4.6 (CentOS)',\n",
    "    'Accept-Ranges': 'bytes',\n",
    "    'Content-Length': '464',\n",
    "    'Connection': 'close',\n",
    "    'Content-Type': 'text/html; charset=iso-8859-1'}\"\"\"\n",
    "\n",
    "    header_and_status_raw = reply[: reply.index(\"\\r\\n\\r\\n\")]\n",
    "    header_raw = header_and_status_raw.split(\"\\r\\n\")[1:]\n",
    "    header_list = list(\n",
    "        map(lambda e: [e.split(\" \")[0][:-1], \" \".join(e.split(\" \")[1:])], header_raw)\n",
    "    )\n",
    "    result_header = {e[0]: e[1] for e in header_list}\n",
    "\n",
    "    return result_header\n",
    "\n",
    "\n",
    "def parseBody(reply: str):\n",
    "    return reply[reply.index(\"\\r\\n\\r\\n\") + 4 :]"
   ]
  },
  {
   "cell_type": "code",
   "execution_count": 102,
   "metadata": {},
   "outputs": [],
   "source": [
    "protocol = \"http\"\n",
    "host = \"datasystems.denison.edu\"\n",
    "port = 80\n",
    "buildURL = lambda s: \"{}://{}:{}/{}\".format(protocol, host, port, s)"
   ]
  },
  {
   "cell_type": "code",
   "execution_count": 103,
   "metadata": {},
   "outputs": [
    {
     "data": {
      "text/plain": [
       "'HTTP/1.1 200 OK\\r\\nDate: Fri, 22 Oct 2021 03:00:24 GMT\\r\\nServer: Apache/2.4.6 (CentOS)\\r\\nLast-Modified: Wed, 16 Dec 2020 23:45:42 GMT\\r\\nETag: \"10d-5b69d7922d580\"\\r\\nAccept-Ranges: bytes\\r\\nContent-Length: 269\\r\\nConnection: close\\r\\nContent-Type: application/json\\r\\n\\r\\n{\"FRA\": {\"2007\": {\"pop\": 64.02, \"gdp\": 2657.21}, \"2017\": {\"pop\": 66.87, \"gdp\": 2586.29}}, \"GBR\": {\"2007\": {\"pop\": 61.32, \"gdp\": 3084.12}, \"2017\": {\"pop\": 66.06, \"gdp\": 2637.87}}, \"USA\": {\"2007\": {\"pop\": 301.23, \"gdp\": 14451.9}, \"2017\": {\"pop\": 325.15, \"gdp\": 19485.4}}}'"
      ]
     },
     "execution_count": 103,
     "metadata": {},
     "output_type": "execute_result"
    }
   ],
   "source": [
    "location = host\n",
    "resource = \"/data/ind0.json\"\n",
    "\n",
    "reply = makeRequest(location=location, resource=resource)\n",
    "reply"
   ]
  },
  {
   "cell_type": "code",
   "execution_count": 104,
   "metadata": {},
   "outputs": [
    {
     "data": {
      "text/plain": [
       "'HTTP/1.1 200 OK\\r\\n'"
      ]
     },
     "execution_count": 104,
     "metadata": {},
     "output_type": "execute_result"
    }
   ],
   "source": [
    "status = parseReply(reply)\n",
    "status"
   ]
  },
  {
   "cell_type": "code",
   "execution_count": 105,
   "metadata": {},
   "outputs": [
    {
     "data": {
      "text/plain": [
       "{'Date': 'Fri, 22 Oct 2021 03:00:24 GMT',\n",
       " 'Server': 'Apache/2.4.6 (CentOS)',\n",
       " 'Last-Modified': 'Wed, 16 Dec 2020 23:45:42 GMT',\n",
       " 'ETag': '\"10d-5b69d7922d580\"',\n",
       " 'Accept-Ranges': 'bytes',\n",
       " 'Content-Length': '269',\n",
       " 'Connection': 'close',\n",
       " 'Content-Type': 'application/json'}"
      ]
     },
     "execution_count": 105,
     "metadata": {},
     "output_type": "execute_result"
    }
   ],
   "source": [
    "header = parseHeaders(reply)\n",
    "header"
   ]
  },
  {
   "cell_type": "code",
   "execution_count": 106,
   "metadata": {},
   "outputs": [
    {
     "data": {
      "text/plain": [
       "'{\"FRA\": {\"2007\": {\"pop\": 64.02, \"gdp\": 2657.21}, \"2017\": {\"pop\": 66.87, \"gdp\": 2586.29}}, \"GBR\": {\"2007\": {\"pop\": 61.32, \"gdp\": 3084.12}, \"2017\": {\"pop\": 66.06, \"gdp\": 2637.87}}, \"USA\": {\"2007\": {\"pop\": 301.23, \"gdp\": 14451.9}, \"2017\": {\"pop\": 325.15, \"gdp\": 19485.4}}}'"
      ]
     },
     "execution_count": 106,
     "metadata": {},
     "output_type": "execute_result"
    }
   ],
   "source": [
    "body = parseBody(reply)\n",
    "body"
   ]
  },
  {
   "cell_type": "code",
   "execution_count": null,
   "metadata": {},
   "outputs": [],
   "source": []
  }
 ],
 "metadata": {
  "kernelspec": {
   "display_name": "Python 3 (ipykernel)",
   "language": "python",
   "name": "python3"
  },
  "language_info": {
   "codemirror_mode": {
    "name": "ipython",
    "version": 3
   },
   "file_extension": ".py",
   "mimetype": "text/x-python",
   "name": "python",
   "nbconvert_exporter": "python",
   "pygments_lexer": "ipython3",
   "version": "3.8.10"
  }
 },
 "nbformat": 4,
 "nbformat_minor": 4
}

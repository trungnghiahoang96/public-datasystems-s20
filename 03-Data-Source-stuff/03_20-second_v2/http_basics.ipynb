{
 "cells": [
  {
   "cell_type": "code",
   "execution_count": 30,
   "metadata": {},
   "outputs": [],
   "source": [
    "import mysocket as sock\n",
    "import requests\n",
    "import re\n",
    "\n",
    "protocol = \"http\"\n",
    "host = \"hadoop.mathsci.denison.edu\"\n",
    "port = 80\n",
    "buildURL = lambda s: \"{}://{}:{}/{}\".format(protocol, host, port, s)"
   ]
  },
  {
   "cell_type": "code",
   "execution_count": 31,
   "metadata": {},
   "outputs": [],
   "source": [
    "def printByLine(s):\n",
    "    pattern = r'^(.*)$'\n",
    "    for match in re.finditer(pattern, s, flags=re.M):\n",
    "        if match[1] and len(match[1])>0:\n",
    "            print(repr(match[1]+'\\n'))\n"
   ]
  },
  {
   "cell_type": "code",
   "execution_count": 13,
   "metadata": {},
   "outputs": [
    {
     "data": {
      "text/plain": [
       "'GET /bookweb/data/basic.html HTTP/1.1\\r\\nHost: hadoop.mathsci.denison.edu\\r\\nConnection: close\\r\\n\\r\\n'"
      ]
     },
     "execution_count": 13,
     "metadata": {},
     "output_type": "execute_result"
    }
   ],
   "source": [
    "requestlines = [\"GET /bookweb/data/basic.html HTTP/1.1\",\n",
    "                \"Host: hadoop.mathsci.denison.edu\",\n",
    "                \"Connection: close\",\n",
    "                \"\"\n",
    "               ]\n",
    "request = \"\\r\\n\".join(requestlines) + \"\\r\\n\"\n",
    "request"
   ]
  },
  {
   "cell_type": "code",
   "execution_count": 14,
   "metadata": {},
   "outputs": [
    {
     "name": "stdout",
     "output_type": "stream",
     "text": [
      "'GET /bookweb/data/basic.html HTTP/1.1\\r\\n'\n",
      "'Host: hadoop.mathsci.denison.edu\\r\\n'\n",
      "'Connection: close\\r\\n'\n",
      "'\\r\\n'\n"
     ]
    }
   ],
   "source": [
    "printByLine(request)"
   ]
  },
  {
   "cell_type": "code",
   "execution_count": 15,
   "metadata": {},
   "outputs": [
    {
     "ename": "gaierror",
     "evalue": "[Errno -2] Name or service not known",
     "output_type": "error",
     "traceback": [
      "\u001b[0;31m---------------------------------------------------------------------------\u001b[0m",
      "\u001b[0;31mgaierror\u001b[0m                                  Traceback (most recent call last)",
      "\u001b[0;32m/tmp/ipykernel_442690/1316042053.py\u001b[0m in \u001b[0;36m<module>\u001b[0;34m\u001b[0m\n\u001b[0;32m----> 1\u001b[0;31m \u001b[0mwebconn\u001b[0m \u001b[0;34m=\u001b[0m \u001b[0msock\u001b[0m\u001b[0;34m.\u001b[0m\u001b[0mmakeConnection\u001b[0m\u001b[0;34m(\u001b[0m\u001b[0;34m\"hadoop.mathsci.denison.edu\"\u001b[0m\u001b[0;34m,\u001b[0m \u001b[0;36m80\u001b[0m\u001b[0;34m)\u001b[0m\u001b[0;34m\u001b[0m\u001b[0;34m\u001b[0m\u001b[0m\n\u001b[0m\u001b[1;32m      2\u001b[0m \u001b[0msock\u001b[0m\u001b[0;34m.\u001b[0m\u001b[0msendString\u001b[0m\u001b[0;34m(\u001b[0m\u001b[0mwebconn\u001b[0m\u001b[0;34m,\u001b[0m \u001b[0mrequest\u001b[0m\u001b[0;34m)\u001b[0m\u001b[0;34m\u001b[0m\u001b[0;34m\u001b[0m\u001b[0m\n\u001b[1;32m      3\u001b[0m \u001b[0ms\u001b[0m \u001b[0;34m=\u001b[0m \u001b[0msock\u001b[0m\u001b[0;34m.\u001b[0m\u001b[0mreceiveTillClose\u001b[0m\u001b[0;34m(\u001b[0m\u001b[0mwebconn\u001b[0m\u001b[0;34m)\u001b[0m\u001b[0;34m\u001b[0m\u001b[0;34m\u001b[0m\u001b[0m\n",
      "\u001b[0;32m~/data-engineer/public-datasystems-s20/03-Data-Source-stuff/03_20-second_v2/mysocket.py\u001b[0m in \u001b[0;36mmakeConnection\u001b[0;34m(location, port, proxy)\u001b[0m\n\u001b[1;32m     35\u001b[0m \u001b[0;34m\u001b[0m\u001b[0m\n\u001b[1;32m     36\u001b[0m     \u001b[0mendsocket\u001b[0m \u001b[0;34m=\u001b[0m \u001b[0msocket\u001b[0m\u001b[0;34m.\u001b[0m\u001b[0msocket\u001b[0m\u001b[0;34m(\u001b[0m\u001b[0msocket\u001b[0m\u001b[0;34m.\u001b[0m\u001b[0mAF_INET\u001b[0m\u001b[0;34m,\u001b[0m \u001b[0msocket\u001b[0m\u001b[0;34m.\u001b[0m\u001b[0mSOCK_STREAM\u001b[0m\u001b[0;34m)\u001b[0m\u001b[0;34m\u001b[0m\u001b[0;34m\u001b[0m\u001b[0m\n\u001b[0;32m---> 37\u001b[0;31m     \u001b[0mretval\u001b[0m \u001b[0;34m=\u001b[0m \u001b[0mendsocket\u001b[0m\u001b[0;34m.\u001b[0m\u001b[0mconnect_ex\u001b[0m\u001b[0;34m(\u001b[0m\u001b[0;34m(\u001b[0m\u001b[0mlocation\u001b[0m\u001b[0;34m,\u001b[0m \u001b[0mport\u001b[0m\u001b[0;34m)\u001b[0m\u001b[0;34m)\u001b[0m\u001b[0;34m\u001b[0m\u001b[0;34m\u001b[0m\u001b[0m\n\u001b[0m\u001b[1;32m     38\u001b[0m     \u001b[0;32mif\u001b[0m \u001b[0mretval\u001b[0m \u001b[0;34m==\u001b[0m \u001b[0;36m0\u001b[0m\u001b[0;34m:\u001b[0m\u001b[0;34m\u001b[0m\u001b[0;34m\u001b[0m\u001b[0m\n\u001b[1;32m     39\u001b[0m         \u001b[0;32mreturn\u001b[0m \u001b[0mendsocket\u001b[0m\u001b[0;34m\u001b[0m\u001b[0;34m\u001b[0m\u001b[0m\n",
      "\u001b[0;31mgaierror\u001b[0m: [Errno -2] Name or service not known"
     ]
    }
   ],
   "source": [
    "webconn = sock.makeConnection(\"hadoop.mathsci.denison.edu\", 80)\n",
    "sock.sendString(webconn, request)\n",
    "s = sock.receiveTillClose(webconn)"
   ]
  },
  {
   "cell_type": "code",
   "execution_count": 6,
   "metadata": {},
   "outputs": [
    {
     "ename": "gaierror",
     "evalue": "[Errno -2] Name or service not known",
     "output_type": "error",
     "traceback": [
      "\u001b[0;31m---------------------------------------------------------------------------\u001b[0m",
      "\u001b[0;31mgaierror\u001b[0m                                  Traceback (most recent call last)",
      "\u001b[0;32m/tmp/ipykernel_442690/1005697834.py\u001b[0m in \u001b[0;36m<module>\u001b[0;34m\u001b[0m\n\u001b[0;32m----> 1\u001b[0;31m \u001b[0mwebconn\u001b[0m \u001b[0;34m=\u001b[0m \u001b[0msock\u001b[0m\u001b[0;34m.\u001b[0m\u001b[0mmakeConnection\u001b[0m\u001b[0;34m(\u001b[0m\u001b[0;34m\"hadoop.mathsci.denison.edu\"\u001b[0m\u001b[0;34m,\u001b[0m \u001b[0;36m80\u001b[0m\u001b[0;34m)\u001b[0m\u001b[0;34m\u001b[0m\u001b[0;34m\u001b[0m\u001b[0m\n\u001b[0m\u001b[1;32m      2\u001b[0m \u001b[0;32mfor\u001b[0m \u001b[0mline\u001b[0m \u001b[0;32min\u001b[0m \u001b[0mrequestlines\u001b[0m\u001b[0;34m:\u001b[0m\u001b[0;34m\u001b[0m\u001b[0;34m\u001b[0m\u001b[0m\n\u001b[1;32m      3\u001b[0m     \u001b[0msock\u001b[0m\u001b[0;34m.\u001b[0m\u001b[0msendString\u001b[0m\u001b[0;34m(\u001b[0m\u001b[0mwebconn\u001b[0m\u001b[0;34m,\u001b[0m \u001b[0mline\u001b[0m\u001b[0;34m)\u001b[0m\u001b[0;34m\u001b[0m\u001b[0;34m\u001b[0m\u001b[0m\n\u001b[1;32m      4\u001b[0m     \u001b[0msock\u001b[0m\u001b[0;34m.\u001b[0m\u001b[0msendCRLF\u001b[0m\u001b[0;34m(\u001b[0m\u001b[0mwebconn\u001b[0m\u001b[0;34m)\u001b[0m\u001b[0;34m\u001b[0m\u001b[0;34m\u001b[0m\u001b[0m\n\u001b[1;32m      5\u001b[0m \u001b[0ms\u001b[0m \u001b[0;34m=\u001b[0m \u001b[0msock\u001b[0m\u001b[0;34m.\u001b[0m\u001b[0mreceiveTillClose\u001b[0m\u001b[0;34m(\u001b[0m\u001b[0mwebconn\u001b[0m\u001b[0;34m)\u001b[0m\u001b[0;34m\u001b[0m\u001b[0;34m\u001b[0m\u001b[0m\n",
      "\u001b[0;32m~/data-engineer/public-datasystems-s20/03-Data-Source-stuff/03_20-second_v2/mysocket.py\u001b[0m in \u001b[0;36mmakeConnection\u001b[0;34m(location, port, proxy)\u001b[0m\n\u001b[1;32m     35\u001b[0m \u001b[0;34m\u001b[0m\u001b[0m\n\u001b[1;32m     36\u001b[0m     \u001b[0mendsocket\u001b[0m \u001b[0;34m=\u001b[0m \u001b[0msocket\u001b[0m\u001b[0;34m.\u001b[0m\u001b[0msocket\u001b[0m\u001b[0;34m(\u001b[0m\u001b[0msocket\u001b[0m\u001b[0;34m.\u001b[0m\u001b[0mAF_INET\u001b[0m\u001b[0;34m,\u001b[0m \u001b[0msocket\u001b[0m\u001b[0;34m.\u001b[0m\u001b[0mSOCK_STREAM\u001b[0m\u001b[0;34m)\u001b[0m\u001b[0;34m\u001b[0m\u001b[0;34m\u001b[0m\u001b[0m\n\u001b[0;32m---> 37\u001b[0;31m     \u001b[0mretval\u001b[0m \u001b[0;34m=\u001b[0m \u001b[0mendsocket\u001b[0m\u001b[0;34m.\u001b[0m\u001b[0mconnect_ex\u001b[0m\u001b[0;34m(\u001b[0m\u001b[0;34m(\u001b[0m\u001b[0mlocation\u001b[0m\u001b[0;34m,\u001b[0m \u001b[0mport\u001b[0m\u001b[0;34m)\u001b[0m\u001b[0;34m)\u001b[0m\u001b[0;34m\u001b[0m\u001b[0;34m\u001b[0m\u001b[0m\n\u001b[0m\u001b[1;32m     38\u001b[0m     \u001b[0;32mif\u001b[0m \u001b[0mretval\u001b[0m \u001b[0;34m==\u001b[0m \u001b[0;36m0\u001b[0m\u001b[0;34m:\u001b[0m\u001b[0;34m\u001b[0m\u001b[0;34m\u001b[0m\u001b[0m\n\u001b[1;32m     39\u001b[0m         \u001b[0;32mreturn\u001b[0m \u001b[0mendsocket\u001b[0m\u001b[0;34m\u001b[0m\u001b[0;34m\u001b[0m\u001b[0m\n",
      "\u001b[0;31mgaierror\u001b[0m: [Errno -2] Name or service not known"
     ]
    }
   ],
   "source": [
    "webconn = sock.makeConnection(\"hadoop.mathsci.denison.edu\", 80)\n",
    "for line in requestlines:\n",
    "    sock.sendString(webconn, line)\n",
    "    sock.sendCRLF(webconn)\n",
    "s = sock.receiveTillClose(webconn)"
   ]
  },
  {
   "cell_type": "code",
   "execution_count": null,
   "metadata": {},
   "outputs": [],
   "source": [
    "s"
   ]
  },
  {
   "cell_type": "code",
   "execution_count": null,
   "metadata": {},
   "outputs": [],
   "source": [
    "printByLine(s)"
   ]
  },
  {
   "cell_type": "code",
   "execution_count": null,
   "metadata": {},
   "outputs": [],
   "source": [
    "url = buildURL(\"bookweb/data/basic.html\")\n",
    "url"
   ]
  },
  {
   "cell_type": "code",
   "execution_count": null,
   "metadata": {},
   "outputs": [],
   "source": [
    "response = requests.get(url)"
   ]
  },
  {
   "cell_type": "code",
   "execution_count": null,
   "metadata": {},
   "outputs": [],
   "source": [
    "type(response.status_code)"
   ]
  },
  {
   "cell_type": "code",
   "execution_count": null,
   "metadata": {},
   "outputs": [],
   "source": [
    "response.text"
   ]
  },
  {
   "cell_type": "code",
   "execution_count": null,
   "metadata": {},
   "outputs": [],
   "source": [
    "response.content"
   ]
  },
  {
   "cell_type": "code",
   "execution_count": null,
   "metadata": {},
   "outputs": [],
   "source": [
    "response.headers"
   ]
  },
  {
   "cell_type": "code",
   "execution_count": null,
   "metadata": {},
   "outputs": [],
   "source": [
    "D = response.headers"
   ]
  },
  {
   "cell_type": "code",
   "execution_count": null,
   "metadata": {},
   "outputs": [],
   "source": [
    "D['content-type']"
   ]
  },
  {
   "cell_type": "code",
   "execution_count": null,
   "metadata": {},
   "outputs": [],
   "source": [
    "request = response.request"
   ]
  },
  {
   "cell_type": "code",
   "execution_count": null,
   "metadata": {},
   "outputs": [],
   "source": [
    "request.headers"
   ]
  },
  {
   "cell_type": "code",
   "execution_count": null,
   "metadata": {},
   "outputs": [],
   "source": [
    "requestHeaders = {'Accept':'text/html'}\n",
    "r = requests.get(url, headers=requestHeaders)"
   ]
  },
  {
   "cell_type": "code",
   "execution_count": null,
   "metadata": {},
   "outputs": [],
   "source": [
    "r.status_code"
   ]
  },
  {
   "cell_type": "code",
   "execution_count": null,
   "metadata": {},
   "outputs": [],
   "source": [
    "request = r.request\n",
    "request.headers"
   ]
  },
  {
   "cell_type": "markdown",
   "metadata": {},
   "source": [
    "## Student Practice"
   ]
  },
  {
   "cell_type": "markdown",
   "metadata": {},
   "source": [
    "Do each of the following first from web browser, then from requests module.\n",
    "\n",
    "- simple http get request of html from root of a location\n",
    "- http get request of html from non-root (but default)\n",
    "- http get request of html from non-root non-default\n",
    "- request for non-existant resource\n",
    "- http get request of csv\n",
    "\n",
    "More advanced HTTP operations\n",
    "- http get request with parameters\n",
    "- http post request with parameters\n",
    "- request for redirected resource\n",
    "- request for protected resource"
   ]
  },
  {
   "cell_type": "markdown",
   "metadata": {},
   "source": [
    "## Programmatic HTTP `GET` request\n",
    "\n",
    "[`requests` module documentation](https://requests.readthedocs.io/en/master/)"
   ]
  },
  {
   "cell_type": "code",
   "execution_count": null,
   "metadata": {},
   "outputs": [],
   "source": [
    "import requests"
   ]
  },
  {
   "cell_type": "markdown",
   "metadata": {},
   "source": [
    "Based on  our newfound understanding of a basic URL consisting of parts of a protocol, a location, and a resource identifier, we use separate variables for each and compose them using a format method on a template string:"
   ]
  },
  {
   "cell_type": "markdown",
   "metadata": {},
   "source": [
    "### Basic request of URL from root of a location"
   ]
  },
  {
   "cell_type": "code",
   "execution_count": 17,
   "metadata": {
    "collapsed": false,
    "jupyter": {
     "outputs_hidden": false
    }
   },
   "outputs": [
    {
     "data": {
      "text/plain": [
       "'http://personal.denison.edu/'"
      ]
     },
     "execution_count": 17,
     "metadata": {},
     "output_type": "execute_result"
    }
   ],
   "source": [
    "protocol = 'http://'\n",
    "location = 'personal.denison.edu'\n",
    "resource = '/'\n",
    "\n",
    "template = '{}{}{}'\n",
    "url = template.format(protocol, location, resource)\n",
    "\n",
    "url"
   ]
  },
  {
   "cell_type": "markdown",
   "metadata": {},
   "source": [
    "The simplest use of the `requests` module is perform a `GET` method using the `get()` function of the module, with a simple single argument of a string specifying the URL."
   ]
  },
  {
   "cell_type": "code",
   "execution_count": 18,
   "metadata": {},
   "outputs": [],
   "source": [
    "resp = requests.get(url)"
   ]
  },
  {
   "cell_type": "markdown",
   "metadata": {},
   "source": [
    "**Whenever** we make a request, we **must** check for a successful return by looking at the `status_code` attribute of the response object.  If we get a non-successful code, our programming must either fix a bug, or recover from the error, informing the user of the problem."
   ]
  },
  {
   "cell_type": "code",
   "execution_count": 19,
   "metadata": {},
   "outputs": [],
   "source": [
    "if resp.status_code != 200:\n",
    "    print('Error retieving request from', url)"
   ]
  },
  {
   "cell_type": "markdown",
   "metadata": {},
   "source": [
    "In many cases, before we act on the **message body**, which is the **content** on what has been retrieved from the server, we want or need to know about additional metadata, like:\n",
    "- How large is the content\n",
    "- What type of data has been returned (html, csv, xml, xhtml, json, etc.)\n",
    "- other information such as date, server, etc.\n",
    "\n",
    "The `headers` attribute of the response object contains a dictionary containing all the meta-data information provided by the server that came from the header field part of the HTTP response.  Note that HTTP does not know about Python dictionaries ... the transformation/translation from the HTTP response, which is just a set of characters in the underlying data stream connection between the client and the server, happens because of the `requests` module. "
   ]
  },
  {
   "cell_type": "code",
   "execution_count": 10,
   "metadata": {},
   "outputs": [
    {
     "data": {
      "text/plain": [
       "{'Date': 'Fri, 22 Oct 2021 02:27:36 GMT', 'Server': 'Apache/2.4.6 (CentOS)', 'Accept-Ranges': 'bytes', 'Content-Length': '464', 'Connection': 'close', 'Content-Type': 'text/html; charset=iso-8859-1'}"
      ]
     },
     "execution_count": 10,
     "metadata": {},
     "output_type": "execute_result"
    }
   ],
   "source": [
    "resp.headers"
   ]
  },
  {
   "cell_type": "markdown",
   "metadata": {},
   "source": [
    "Finally, we can access the data of the response in two ways.  If it is textual data, and we want the string version of the data (appropriate to the encoding), we use the `text` attribute of the response object."
   ]
  },
  {
   "cell_type": "code",
   "execution_count": null,
   "metadata": {},
   "outputs": [],
   "source": [
    "resp.text"
   ]
  },
  {
   "cell_type": "markdown",
   "metadata": {},
   "source": [
    "While if the data is binary (like an image, or a compiled program), or if we want the form without applying the encoding, we use the `content` attribute of the response object."
   ]
  },
  {
   "cell_type": "code",
   "execution_count": null,
   "metadata": {},
   "outputs": [],
   "source": [
    "resp.content"
   ]
  },
  {
   "cell_type": "markdown",
   "metadata": {},
   "source": [
    "Notice the `b` prefix in the demonstration above, indicating that these are raw bytes.\n",
    "\n",
    "A `requests` module response object also has an attribute (`request`) that references the original request corresponding to the this particular response.  Some of the request's interesting attributes include:\n",
    "- `headers`\n",
    "- `path-url`\n",
    "- `url`\n",
    "- `method`\n",
    "- `body`"
   ]
  },
  {
   "cell_type": "code",
   "execution_count": null,
   "metadata": {},
   "outputs": [],
   "source": [
    "resp.request.headers"
   ]
  },
  {
   "cell_type": "code",
   "execution_count": null,
   "metadata": {},
   "outputs": [],
   "source": [
    "resp.request.path_url"
   ]
  },
  {
   "cell_type": "code",
   "execution_count": null,
   "metadata": {},
   "outputs": [],
   "source": [
    "resp.request.url"
   ]
  },
  {
   "cell_type": "code",
   "execution_count": null,
   "metadata": {},
   "outputs": [],
   "source": [
    "resp.request.method"
   ]
  },
  {
   "cell_type": "code",
   "execution_count": null,
   "metadata": {},
   "outputs": [],
   "source": [
    "resp.request.body"
   ]
  },
  {
   "cell_type": "markdown",
   "metadata": {},
   "source": [
    "### Basic URL request to non-root of a location\n",
    "\n",
    "We can change our resource to request the HTML using a resource identifier other than the root:"
   ]
  },
  {
   "cell_type": "code",
   "execution_count": null,
   "metadata": {},
   "outputs": [],
   "source": [
    "resource = '/~kretchmar/'\n",
    "\n",
    "template = '{}{}{}'\n",
    "url = template.format(protocol, location, resource)\n",
    "\n",
    "url"
   ]
  },
  {
   "cell_type": "markdown",
   "metadata": {},
   "source": [
    "**A1** Add code to retrieve from this new url and then print the **length** of the content returned and print the first 100 characters in the body of the returned HTML."
   ]
  },
  {
   "cell_type": "code",
   "execution_count": null,
   "metadata": {},
   "outputs": [],
   "source": []
  },
  {
   "cell_type": "markdown",
   "metadata": {},
   "source": [
    "**A2** Using Chrome, copy the HTTP raw request (the GET, including all header lines), and then copy the response, from the response line through the response headers."
   ]
  },
  {
   "cell_type": "markdown",
   "metadata": {},
   "source": []
  },
  {
   "cell_type": "markdown",
   "metadata": {},
   "source": [
    "### URL request to a non-root resource identifier that does not exist"
   ]
  },
  {
   "cell_type": "markdown",
   "metadata": {},
   "source": [
    "**B1** Now change the resource to something that does not exist, and demonstrate how your code can detect when something does not exist and print an appropriate error message to the user."
   ]
  },
  {
   "cell_type": "code",
   "execution_count": null,
   "metadata": {},
   "outputs": [],
   "source": []
  },
  {
   "cell_type": "markdown",
   "metadata": {},
   "source": [
    "**B2** Using chrome, copy and paste the HTTP raw request and also the HTTP raw response corresponding to exactly the same request made above."
   ]
  },
  {
   "cell_type": "markdown",
   "metadata": {},
   "source": []
  },
  {
   "cell_type": "markdown",
   "metadata": {},
   "source": [
    "### URL request to a non-HTML, non-default resource identified location"
   ]
  },
  {
   "cell_type": "markdown",
   "metadata": {},
   "source": [
    "The goal here is to find a resource, say within `discovercs.denison.edu` that gives us a URL for an explicit file provided by a Data System provider.  So look for a csv or text file and determine the URL.  Then give two cells below, one which requests the resource programmatically and uses the headers and content to print information about the response (size, type) and some of its data body.  Don't forget to include code to check the status return as well."
   ]
  },
  {
   "cell_type": "code",
   "execution_count": null,
   "metadata": {},
   "outputs": [],
   "source": []
  },
  {
   "cell_type": "markdown",
   "metadata": {},
   "source": [
    "The second cell should again use Chrome to show and help understand the HTTP request and response going on."
   ]
  },
  {
   "cell_type": "markdown",
   "metadata": {},
   "source": []
  },
  {
   "cell_type": "markdown",
   "metadata": {},
   "source": [
    "### URL request to a JSON that uses URL parameters"
   ]
  },
  {
   "cell_type": "markdown",
   "metadata": {},
   "source": [
    "Resources that we request of a Data System provider may not always be for an existing file (text or otherwise).  Just like when we make requests to an SQL server and specify (through our SQL SELECT query) some part of the data we are interested in, and the server processes from the stored files and tables and returns just the requested subset, we need such dynamic flexibility in the Data System providers that use HTTP.\n",
    "\n",
    "This means that we need to pass additional information through HTTP, but still adhere to the methods/verbs that the protocol provides.  One means of passing additional information is to extend the use of our URL to include one or more key-value pairs.  These can be used by the server/provider, which can dynamically create our response."
   ]
  },
  {
   "cell_type": "code",
   "execution_count": null,
   "metadata": {},
   "outputs": [],
   "source": []
  },
  {
   "cell_type": "code",
   "execution_count": null,
   "metadata": {},
   "outputs": [],
   "source": []
  },
  {
   "cell_type": "code",
   "execution_count": 32,
   "metadata": {},
   "outputs": [],
   "source": [
    "import util"
   ]
  },
  {
   "cell_type": "code",
   "execution_count": 53,
   "metadata": {},
   "outputs": [],
   "source": [
    "url = \"http://datasystems.denison.edu/basic.html\""
   ]
  },
  {
   "cell_type": "code",
   "execution_count": 54,
   "metadata": {},
   "outputs": [],
   "source": [
    "response = requests.get(url)\n",
    "request = response.request"
   ]
  },
  {
   "cell_type": "code",
   "execution_count": 55,
   "metadata": {},
   "outputs": [
    {
     "name": "stdout",
     "output_type": "stream",
     "text": [
      "Response status: 200\n"
     ]
    }
   ],
   "source": [
    "print(\"Response status:\", response.status_code)"
   ]
  },
  {
   "cell_type": "code",
   "execution_count": 56,
   "metadata": {},
   "outputs": [
    {
     "name": "stdout",
     "output_type": "stream",
     "text": [
      "URL: http://datasystems.denison.edu/basic.html\n"
     ]
    }
   ],
   "source": [
    "print(\"URL:\", request.url)"
   ]
  },
  {
   "cell_type": "code",
   "execution_count": 57,
   "metadata": {},
   "outputs": [],
   "source": [
    "url = \"http://httpbin.org/get\"\n",
    "headerD = {\n",
    "\"Accept\": \"application/json\",\n",
    "\"User-Agent\": \"datasystems-client\"\n",
    "}\n",
    "response = requests.get(url, headers=headerD)\n",
    "request = response.request"
   ]
  },
  {
   "cell_type": "code",
   "execution_count": 58,
   "metadata": {},
   "outputs": [
    {
     "name": "stdout",
     "output_type": "stream",
     "text": [
      "Response status: 200\n"
     ]
    }
   ],
   "source": [
    "print(\"Response status:\", response.status_code)"
   ]
  },
  {
   "cell_type": "code",
   "execution_count": 59,
   "metadata": {},
   "outputs": [
    {
     "data": {
      "text/plain": [
       "{'args': {},\n",
       " 'headers': {'Accept': 'application/json',\n",
       "  'Accept-Encoding': 'gzip, deflate',\n",
       "  'Host': 'httpbin.org',\n",
       "  'User-Agent': 'datasystems-client',\n",
       "  'X-Amzn-Trace-Id': 'Root=1-61723f2e-4e68f1cc122b83b8202dfe9d'},\n",
       " 'origin': '14.182.14.80',\n",
       " 'url': 'http://httpbin.org/get'}"
      ]
     },
     "execution_count": 59,
     "metadata": {},
     "output_type": "execute_result"
    }
   ],
   "source": [
    "data = json.loads(response.text)\n",
    "data"
   ]
  },
  {
   "cell_type": "code",
   "execution_count": null,
   "metadata": {},
   "outputs": [],
   "source": []
  },
  {
   "cell_type": "code",
   "execution_count": 60,
   "metadata": {},
   "outputs": [],
   "source": [
    "url = \"http://httpbin.org/get\"\n",
    "paramsD = {\n",
    "\"user\": \"smith\",\n",
    "\"query\": \"movies tv\"\n",
    "}\n",
    "response = requests.get(url, params=paramsD)\n",
    "request = response.request"
   ]
  },
  {
   "cell_type": "code",
   "execution_count": 61,
   "metadata": {},
   "outputs": [
    {
     "name": "stdout",
     "output_type": "stream",
     "text": [
      "Response status: 200\n"
     ]
    }
   ],
   "source": [
    "print(\"Response status:\", response.status_code)"
   ]
  },
  {
   "cell_type": "code",
   "execution_count": 62,
   "metadata": {},
   "outputs": [
    {
     "name": "stdout",
     "output_type": "stream",
     "text": [
      "Path: /get?user=smith&query=movies+tv\n"
     ]
    }
   ],
   "source": [
    "print(\"Path:\", request.path_url)"
   ]
  },
  {
   "cell_type": "code",
   "execution_count": 63,
   "metadata": {},
   "outputs": [
    {
     "data": {
      "text/plain": [
       "{'args': {'query': 'movies tv', 'user': 'smith'},\n",
       " 'headers': {'Accept': '*/*',\n",
       "  'Accept-Encoding': 'gzip, deflate',\n",
       "  'Host': 'httpbin.org',\n",
       "  'User-Agent': 'python-requests/2.26.0',\n",
       "  'X-Amzn-Trace-Id': 'Root=1-61723f50-23d463bb7bdbc6371b25a33b'},\n",
       " 'origin': '14.182.14.80',\n",
       " 'url': 'http://httpbin.org/get?user=smith&query=movies+tv'}"
      ]
     },
     "execution_count": 63,
     "metadata": {},
     "output_type": "execute_result"
    }
   ],
   "source": [
    "data = json.loads(response.text)\n",
    "data"
   ]
  },
  {
   "cell_type": "code",
   "execution_count": null,
   "metadata": {},
   "outputs": [],
   "source": []
  },
  {
   "cell_type": "code",
   "execution_count": 65,
   "metadata": {},
   "outputs": [],
   "source": [
    "url = \"http://httpbin.org/post\""
   ]
  },
  {
   "cell_type": "code",
   "execution_count": 66,
   "metadata": {},
   "outputs": [
    {
     "name": "stdout",
     "output_type": "stream",
     "text": [
      "Response status: 200\n"
     ]
    }
   ],
   "source": [
    "paramsD = {\n",
    "\"user\": \"jones\",\n",
    "\"query\": \"TV?episodes\"\n",
    "}\n",
    "headerD = {\n",
    "\"Accept\": \"application/json\"\n",
    "}\n",
    "body = {\"a\": 1, \"b\": 2}\n",
    "response = requests.post(url, params=paramsD,\n",
    "headers=headerD, data=body)\n",
    "request = response.request\n",
    "print(\"Response status:\", response.status_code)"
   ]
  },
  {
   "cell_type": "code",
   "execution_count": 67,
   "metadata": {},
   "outputs": [
    {
     "name": "stdout",
     "output_type": "stream",
     "text": [
      "Request Path: /post?user=jones&query=TV%3Fepisodes\n"
     ]
    }
   ],
   "source": [
    "print(\"Request Path:\", request.path_url)"
   ]
  },
  {
   "cell_type": "code",
   "execution_count": 68,
   "metadata": {},
   "outputs": [
    {
     "name": "stdout",
     "output_type": "stream",
     "text": [
      "Request Body: a=1&b=2\n"
     ]
    }
   ],
   "source": [
    "print(\"Request Body:\", request.body)"
   ]
  },
  {
   "cell_type": "code",
   "execution_count": 69,
   "metadata": {},
   "outputs": [
    {
     "data": {
      "text/plain": [
       "<Response [200]>"
      ]
     },
     "execution_count": 69,
     "metadata": {},
     "output_type": "execute_result"
    }
   ],
   "source": [
    "response"
   ]
  },
  {
   "cell_type": "code",
   "execution_count": 70,
   "metadata": {},
   "outputs": [
    {
     "data": {
      "text/plain": [
       "{'args': {'query': 'TV?episodes', 'user': 'jones'},\n",
       " 'data': '',\n",
       " 'files': {},\n",
       " 'form': {'a': '1', 'b': '2'},\n",
       " 'headers': {'Accept': 'application/json',\n",
       "  'Accept-Encoding': 'gzip, deflate',\n",
       "  'Content-Length': '7',\n",
       "  'Content-Type': 'application/x-www-form-urlencoded',\n",
       "  'Host': 'httpbin.org',\n",
       "  'User-Agent': 'python-requests/2.26.0',\n",
       "  'X-Amzn-Trace-Id': 'Root=1-61723f73-39783cd75f33ec795cc60193'},\n",
       " 'json': None,\n",
       " 'origin': '14.182.14.80',\n",
       " 'url': 'http://httpbin.org/post?user=jones&query=TV%3Fepisodes'}"
      ]
     },
     "execution_count": 70,
     "metadata": {},
     "output_type": "execute_result"
    }
   ],
   "source": [
    "data = json.loads(response.text)\n",
    "data"
   ]
  },
  {
   "cell_type": "code",
   "execution_count": null,
   "metadata": {},
   "outputs": [],
   "source": []
  },
  {
   "cell_type": "code",
   "execution_count": 44,
   "metadata": {},
   "outputs": [
    {
     "name": "stdout",
     "output_type": "stream",
     "text": [
      "Response status: 200\n"
     ]
    }
   ],
   "source": [
    "import json\n",
    "url = \"http://httpbin.org/post\"\n",
    "paramsD = {\n",
    "\"user\": \"jones\",\n",
    "\"query\": \"TV\"\n",
    "}\n",
    "headerD = {\n",
    "\"Accept\": \"application/json\"\n",
    "}\n",
    "json_data = [\"foo\", \"bar\", {\"a\": 1, \"b\": 2}]\n",
    "response = requests.post(url, params=paramsD,\n",
    "headers=headerD, json=json_data)\n",
    "request = response.request\n",
    "print(\"Response status:\", response.status_code)"
   ]
  },
  {
   "cell_type": "code",
   "execution_count": 45,
   "metadata": {},
   "outputs": [
    {
     "name": "stdout",
     "output_type": "stream",
     "text": [
      "Request Path: /post?user=jones&query=TV\n"
     ]
    }
   ],
   "source": [
    "print(\"Request Path:\", request.path_url)"
   ]
  },
  {
   "cell_type": "code",
   "execution_count": 47,
   "metadata": {},
   "outputs": [
    {
     "name": "stdout",
     "output_type": "stream",
     "text": [
      "Request Body: [\"foo\", \"bar\", {\"a\": 1, \"b\": 2}]\n"
     ]
    }
   ],
   "source": [
    "print(\"Request Body:\", request.body.decode('utf-8'))"
   ]
  },
  {
   "cell_type": "code",
   "execution_count": 52,
   "metadata": {},
   "outputs": [
    {
     "data": {
      "text/plain": [
       "{'args': {'query': 'TV', 'user': 'jones'},\n",
       " 'data': '[\"foo\", \"bar\", {\"a\": 1, \"b\": 2}]',\n",
       " 'files': {},\n",
       " 'form': {},\n",
       " 'headers': {'Accept': 'application/json',\n",
       "  'Accept-Encoding': 'gzip, deflate',\n",
       "  'Content-Length': '32',\n",
       "  'Content-Type': 'application/json',\n",
       "  'Host': 'httpbin.org',\n",
       "  'User-Agent': 'python-requests/2.26.0',\n",
       "  'X-Amzn-Trace-Id': 'Root=1-61723d37-1895dcbe651d96920d1b5c3f'},\n",
       " 'json': ['foo', 'bar', {'a': 1, 'b': 2}],\n",
       " 'origin': '14.182.14.80',\n",
       " 'url': 'http://httpbin.org/post?user=jones&query=TV'}"
      ]
     },
     "execution_count": 52,
     "metadata": {},
     "output_type": "execute_result"
    }
   ],
   "source": [
    "data = json.loads(response.text)\n",
    "data\n"
   ]
  },
  {
   "cell_type": "code",
   "execution_count": null,
   "metadata": {},
   "outputs": [],
   "source": []
  }
 ],
 "metadata": {
  "kernelspec": {
   "display_name": "Python 3 (ipykernel)",
   "language": "python",
   "name": "python3"
  },
  "language_info": {
   "codemirror_mode": {
    "name": "ipython",
    "version": 3
   },
   "file_extension": ".py",
   "mimetype": "text/x-python",
   "name": "python",
   "nbconvert_exporter": "python",
   "pygments_lexer": "ipython3",
   "version": "3.8.10"
  }
 },
 "nbformat": 4,
 "nbformat_minor": 4
}

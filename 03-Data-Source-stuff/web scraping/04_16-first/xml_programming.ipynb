{
 "cells": [
  {
   "cell_type": "markdown",
   "metadata": {},
   "source": [
    "Before you turn this problem in, make sure everything runs as expected. First, **restart the kernel** (in the menubar, select Kernel$\\rightarrow$Restart) and then **run all cells** (in the menubar, select Cell$\\rightarrow$Run All).\n",
    "\n",
    "Make sure you fill in any place that says `YOUR CODE HERE` or \"YOUR ANSWER HERE\", as well as your name and collaborators below:"
   ]
  },
  {
   "cell_type": "code",
   "execution_count": null,
   "metadata": {},
   "outputs": [],
   "source": [
    "NAME = \"\"\n",
    "COLLABORATORS = \"\""
   ]
  },
  {
   "cell_type": "markdown",
   "metadata": {},
   "source": [
    "---"
   ]
  },
  {
   "cell_type": "code",
   "execution_count": 13,
   "metadata": {},
   "outputs": [],
   "source": [
    "import io\n",
    "import os.path\n",
    "\n",
    "import pandas as pd\n",
    "import requests\n",
    "from lxml import etree\n",
    "\n",
    "datadir = \"public_data\"\n",
    "filename = \"ind0.xml\"  # Text file encoded as UTF-8\n",
    "path = os.path.join(datadir, filename)\n",
    "\n",
    "protocol = \"http\"\n",
    "location = \"personal.denison.edu\"\n",
    "resourcepath = \"/~bressoud/datasystems/data/{}\"\n",
    "\n",
    "buildURL = lambda s: \"{}://{}{}\".format(protocol, location, resourcepath.format(s))\n",
    "\n",
    "\n",
    "def print_tree(node, pretty_print=True, encoding=\"utf-8\"):\n",
    "    result = etree.tostring(node, pretty_print=pretty_print)\n",
    "    if isinstance(result, bytes):\n",
    "        result = result.decode(encoding)\n",
    "    print(result)"
   ]
  },
  {
   "cell_type": "markdown",
   "metadata": {},
   "source": [
    "## Building Tree From Existing XML\n",
    "\n",
    "### Simple Local File"
   ]
  },
  {
   "cell_type": "code",
   "execution_count": null,
   "metadata": {},
   "outputs": [],
   "source": []
  },
  {
   "cell_type": "code",
   "execution_count": 53,
   "metadata": {},
   "outputs": [],
   "source": [
    "tree = etree.parse(path)\n",
    "root = tree.getroot()"
   ]
  },
  {
   "cell_type": "markdown",
   "metadata": {},
   "source": [
    "### Custom Parser Local File"
   ]
  },
  {
   "cell_type": "code",
   "execution_count": 47,
   "metadata": {},
   "outputs": [],
   "source": [
    "myparser = etree.XMLParser(remove_blank_text=True)\n",
    "\n",
    "tree = etree.parse(path, myparser)\n",
    "root = tree.getroot()"
   ]
  },
  {
   "cell_type": "markdown",
   "metadata": {},
   "source": [
    "### Network Request"
   ]
  },
  {
   "cell_type": "code",
   "execution_count": 16,
   "metadata": {},
   "outputs": [],
   "source": [
    "response = requests.get(buildURL(filename))\n",
    "assert response.status_code == 200\n",
    "\n",
    "fileObj = io.BytesIO(response.content)\n",
    "tree = etree.parse(path, myparser)\n",
    "root = tree.getroot()"
   ]
  },
  {
   "cell_type": "code",
   "execution_count": 11,
   "metadata": {},
   "outputs": [
    {
     "data": {
      "text/plain": [
       "<Element indicators at 0x7fa3ad74ee40>"
      ]
     },
     "execution_count": 11,
     "metadata": {},
     "output_type": "execute_result"
    }
   ],
   "source": [
    "root"
   ]
  },
  {
   "cell_type": "markdown",
   "metadata": {},
   "source": [
    "## Basic Operations"
   ]
  },
  {
   "cell_type": "markdown",
   "metadata": {},
   "source": [
    "As an aid for working with Element nodes, we summarize some of the fundamental operations\n",
    "\n",
    "Operation     |  Syntax Hint  |Brief Description\n",
    ":-------------|:--------------|:-----------------------------------------\n",
    "Get a Child   | `[index]`     |Access the node's child at index\n",
    "Get tag       | `.tag`        |Obtain tag of node\n",
    "Get text      | `.text`       |Obtain text of node up to child node or end tag\n",
    "Access all attributes | `.attrib` | Obtain dictionary of all of node's xml attributes\n",
    "Access one attribute | `.get()` | Fetch value for specified attribute, or `None` if not present\n",
    "Find child node | `.find()` | Search for first child matching search specification (by tag)\n",
    "Iterator child search | `.iterfind()` | Iterator for all children matching search specification (by tag)\n",
    "Unconditional Child Iteration | *node* | A node itself can be used as an iterator to obtain all children in document order\n",
    "Count children | `len(`*node*`)` | Find the number of children of a node\n",
    "Interator on descendents | `iter()` | Iterator over all descendents\n"
   ]
  },
  {
   "cell_type": "markdown",
   "metadata": {},
   "source": [
    "**Q** Print the full tree.  You can use the provided `print_tree()` function.  Try it with different arguments for the named parameters."
   ]
  },
  {
   "cell_type": "code",
   "execution_count": 39,
   "metadata": {
    "deletable": false,
    "nbgrader": {
     "cell_type": "code",
     "checksum": "6812a49426183a643b5d245c68604046",
     "grade": true,
     "grade_id": "cell-cb72bd423e1f75bd",
     "locked": false,
     "points": 0,
     "schema_version": 3,
     "solution": true,
     "task": false
    }
   },
   "outputs": [
    {
     "name": "stdout",
     "output_type": "stream",
     "text": [
      "<indicators>\n",
      "  <country code=\"FRA\" name=\"France\">\n",
      "    <timedata year=\"2007\">\n",
      "      <pop>64.02</pop>\n",
      "      <gdp>2657.21</gdp>\n",
      "    </timedata>\n",
      "    <timedata year=\"2017\">\n",
      "      <pop>66.87</pop>\n",
      "      <gdp>2586.29</gdp>\n",
      "    </timedata>\n",
      "  </country>\n",
      "  <country code=\"GBR\" name=\"United Kingdom\">\n",
      "    <timedata year=\"2007\">\n",
      "      <pop>61.32</pop>\n",
      "      <gdp>3084.12</gdp>\n",
      "    </timedata>\n",
      "    <timedata year=\"2017\">\n",
      "      <pop>66.06</pop>\n",
      "      <gdp>2637.87</gdp>\n",
      "    </timedata>\n",
      "  </country>\n",
      "  <country code=\"USA\" name=\"United States\">\n",
      "    <timedata year=\"2007\">\n",
      "      <pop>301.23</pop>\n",
      "      <gdp>14451.9</gdp>\n",
      "    </timedata>\n",
      "    <timedata year=\"2017\">\n",
      "      <pop>325.15</pop>\n",
      "      <gdp>19485.4</gdp>\n",
      "    </timedata>\n",
      "  </country>\n",
      "</indicators>\n",
      "\n"
     ]
    }
   ],
   "source": [
    "print_tree(root)\n",
    "# raise NotImplementedError()"
   ]
  },
  {
   "cell_type": "markdown",
   "metadata": {},
   "source": [
    "**Q** Get the index 2 child of the root, assign it to `node` and print the tree rooted at `node`."
   ]
  },
  {
   "cell_type": "code",
   "execution_count": 40,
   "metadata": {
    "deletable": false,
    "nbgrader": {
     "cell_type": "code",
     "checksum": "33cdda81026a5797f5a129014a8a94a5",
     "grade": true,
     "grade_id": "cell-a76f1173e6ade097",
     "locked": false,
     "points": 0,
     "schema_version": 3,
     "solution": true,
     "task": false
    }
   },
   "outputs": [
    {
     "name": "stdout",
     "output_type": "stream",
     "text": [
      "<country code=\"USA\" name=\"United States\">\n",
      "    <timedata year=\"2007\">\n",
      "      <pop>301.23</pop>\n",
      "      <gdp>14451.9</gdp>\n",
      "    </timedata>\n",
      "    <timedata year=\"2017\">\n",
      "      <pop>325.15</pop>\n",
      "      <gdp>19485.4</gdp>\n",
      "    </timedata>\n",
      "  </country>\n",
      "\n",
      "\n"
     ]
    }
   ],
   "source": [
    "# YOUR CODE HERE\n",
    "node = root[2]\n",
    "print_tree(node)\n",
    "# raise NotImplementedError()"
   ]
  },
  {
   "cell_type": "markdown",
   "metadata": {},
   "source": [
    "**Q** Get the index 1 node of the index 2 node of the root, assign it to `node`, and then find the `gdp`-tagged child of `node`, and assign it to `gdp-node`."
   ]
  },
  {
   "cell_type": "code",
   "execution_count": 41,
   "metadata": {
    "deletable": false,
    "nbgrader": {
     "cell_type": "code",
     "checksum": "91f892ce5b6897245749f487736d094d",
     "grade": true,
     "grade_id": "cell-3c50b73882a413ea",
     "locked": false,
     "points": 0,
     "schema_version": 3,
     "solution": true,
     "task": false
    }
   },
   "outputs": [
    {
     "name": "stdout",
     "output_type": "stream",
     "text": [
      "<timedata year=\"2017\">\n",
      "      <pop>325.15</pop>\n",
      "      <gdp>19485.4</gdp>\n",
      "    </timedata>\n",
      "  \n",
      "\n",
      "<gdp>19485.4</gdp>\n",
      "    \n",
      "\n"
     ]
    }
   ],
   "source": [
    "# YOUR CODE HERE\n",
    "node = root[2][1]\n",
    "gdp_node = node.find(\"gdp\")\n",
    "print_tree(node)\n",
    "print_tree(gdp_node)\n",
    "\n",
    "# raise NotImplementedError()"
   ]
  },
  {
   "cell_type": "markdown",
   "metadata": {},
   "source": [
    "**Q** Repeat the above, but then obtain the value (based on the text of the gdp_node), and assign to `gdp_value`, and then assign to `value` 10% more than `gdp_value`.  Print this final value."
   ]
  },
  {
   "cell_type": "code",
   "execution_count": 51,
   "metadata": {
    "deletable": false,
    "nbgrader": {
     "cell_type": "code",
     "checksum": "990f49a77efca39c33226917637f760e",
     "grade": true,
     "grade_id": "cell-778ed23585b79811",
     "locked": false,
     "points": 0,
     "schema_version": 3,
     "solution": true,
     "task": false
    }
   },
   "outputs": [
    {
     "name": "stdout",
     "output_type": "stream",
     "text": [
      "<timedata year=\"2017\">\n",
      "      <pop>325.15</pop>\n",
      "      <gdp>19485.4</gdp>\n",
      "    </timedata>\n",
      "  \n",
      "\n",
      "19485.4 <class 'str'>\n"
     ]
    }
   ],
   "source": [
    "# YOUR CODE HERE\n",
    "\n",
    "node = root[2][1]\n",
    "gdp_value = node.find(\"gdp\").text\n",
    "print_tree(node)\n",
    "print(gdp_value, type(gdp_value))\n",
    "\n",
    "# raise NotImplementedError()"
   ]
  },
  {
   "cell_type": "code",
   "execution_count": 52,
   "metadata": {},
   "outputs": [
    {
     "name": "stdout",
     "output_type": "stream",
     "text": [
      "19485.4 <class 'str'>\n"
     ]
    }
   ],
   "source": [
    "node.find(\"gdp\").text = str(10 * float(gdp_value))\n",
    "print(gdp_value, type(gdp_value))"
   ]
  },
  {
   "cell_type": "markdown",
   "metadata": {},
   "source": [
    "**Q** Iterate over the `country` nodes and check each for a case where the letter `'A'` appears in the node's `code` XML attribute.  If found, print the value of the `name` attribute."
   ]
  },
  {
   "cell_type": "code",
   "execution_count": 58,
   "metadata": {
    "deletable": false,
    "nbgrader": {
     "cell_type": "code",
     "checksum": "dee3d9aa4f0ec74b533d80c189e2a9e9",
     "grade": true,
     "grade_id": "cell-6a379e43405117aa",
     "locked": false,
     "points": 0,
     "schema_version": 3,
     "solution": true,
     "task": false
    }
   },
   "outputs": [
    {
     "name": "stdout",
     "output_type": "stream",
     "text": [
      "France\n",
      "<country code=\"FRA\" name=\"France\">\n",
      "    <timedata year=\"2007\">\n",
      "      <pop>64.02</pop>\n",
      "      <gdp>2657.21</gdp>\n",
      "    </timedata>\n",
      "    <timedata year=\"2017\">\n",
      "      <pop>66.87</pop>\n",
      "      <gdp>2586.29</gdp>\n",
      "    </timedata>\n",
      "  </country>\n",
      "  \n",
      "\n",
      "United Kingdom\n",
      "United States\n",
      "<country code=\"USA\" name=\"United States\">\n",
      "    <timedata year=\"2007\">\n",
      "      <pop>301.23</pop>\n",
      "      <gdp>14451.9</gdp>\n",
      "    </timedata>\n",
      "    <timedata year=\"2017\">\n",
      "      <pop>325.15</pop>\n",
      "      <gdp>19485.4</gdp>\n",
      "    </timedata>\n",
      "  </country>\n",
      "\n",
      "\n"
     ]
    }
   ],
   "source": [
    "# YOUR CODE HERE\n",
    "for country_node in root:\n",
    "    print(country_node.get(\"name\"))\n",
    "    if \"A\" in country_node.get(\"code\"):\n",
    "        print_tree(country_node)\n",
    "# raise NotImplementedError()"
   ]
  },
  {
   "cell_type": "markdown",
   "metadata": {},
   "source": [
    "**Q** Use nested loops to accumulate a list of **just** the `timedata` nodes for the year \"2017\".  \n",
    "\n",
    "Hints:\n",
    "\n",
    "- Initialize an empty list\n",
    "- Outer loop will iterate over root's `country` nodes\n",
    "- Inner loop will iterate of each country node's `timedata` nodes\n",
    "- For each of these, check for the attribute of the `timedata` node to be equal to the string `\"2017\"`.  If found, accumulate into the list."
   ]
  },
  {
   "cell_type": "code",
   "execution_count": 59,
   "metadata": {
    "deletable": false,
    "nbgrader": {
     "cell_type": "code",
     "checksum": "bb858b8e0b8f6de4bb1f1b84a6df5b88",
     "grade": true,
     "grade_id": "cell-21a196844f2d7686",
     "locked": false,
     "points": 0,
     "schema_version": 3,
     "solution": true,
     "task": false
    }
   },
   "outputs": [
    {
     "name": "stdout",
     "output_type": "stream",
     "text": [
      "<timedata year=\"2017\">\n",
      "      <pop>66.87</pop>\n",
      "      <gdp>2586.29</gdp>\n",
      "    </timedata>\n",
      "  \n",
      "\n",
      "<timedata year=\"2017\">\n",
      "      <pop>66.06</pop>\n",
      "      <gdp>2637.87</gdp>\n",
      "    </timedata>\n",
      "  \n",
      "\n",
      "<timedata year=\"2017\">\n",
      "      <pop>325.15</pop>\n",
      "      <gdp>19485.4</gdp>\n",
      "    </timedata>\n",
      "  \n",
      "\n"
     ]
    }
   ],
   "source": [
    "# YOUR CODE HERE\n",
    "\n",
    "timelist = []\n",
    "for country_node in root:\n",
    "    for timedata in country_node.iter(\"timedata\"):\n",
    "        if timedata.get(\"year\") == \"2017\":\n",
    "            timelist.append(timedata)\n",
    "\n",
    "# raise NotImplementedError()\n",
    "for node in timelist:\n",
    "    print_tree(node)"
   ]
  },
  {
   "cell_type": "markdown",
   "metadata": {},
   "source": [
    "**Bonus Q** Write a function\n",
    "\n",
    "    recursive_printtags(node)\n",
    "    \n",
    "that prints the tag of the given node, and then recurses to print the tags of the subtree rooted at each of its children."
   ]
  },
  {
   "cell_type": "code",
   "execution_count": 64,
   "metadata": {
    "deletable": false,
    "nbgrader": {
     "cell_type": "code",
     "checksum": "264745851efdad0e0c2e1788263d9a07",
     "grade": true,
     "grade_id": "cell-f8507bfed37c220c",
     "locked": false,
     "points": 0,
     "schema_version": 3,
     "solution": true,
     "task": false
    }
   },
   "outputs": [
    {
     "name": "stdout",
     "output_type": "stream",
     "text": [
      "('Indicators', '\\n  ')\n",
      "('Country', 'France')\n",
      "('Timedata', '\\n      ')\n",
      "('Pop', '64.02')\n",
      "('Gdp', '2657.21')\n",
      "('Timedata', '\\n      ')\n",
      "('Pop', '66.87')\n",
      "('Gdp', '2586.29')\n",
      "('Country', 'United Kingdom')\n",
      "('Timedata', '\\n      ')\n",
      "('Pop', '61.32')\n",
      "('Gdp', '3084.12')\n",
      "('Timedata', '\\n      ')\n",
      "('Pop', '66.06')\n",
      "('Gdp', '2637.87')\n",
      "('Country', 'United States')\n",
      "('Timedata', '\\n      ')\n",
      "('Pop', '301.23')\n",
      "('Gdp', '14451.9')\n",
      "('Timedata', '\\n      ')\n",
      "('Pop', '325.15')\n",
      "('Gdp', '19485.4')\n"
     ]
    }
   ],
   "source": [
    "# YOUR CODE HERE\n",
    "def recursive_printtags(root):\n",
    "    print((root.tag.title(), root.attrib.get(\"name\", root.text)))\n",
    "    for elem in root.getchildren():\n",
    "        printRecur(elem)\n",
    "\n",
    "\n",
    "# raise NotImplementedError()\n",
    "recursive_printtags(root)"
   ]
  },
  {
   "cell_type": "markdown",
   "metadata": {},
   "source": [
    "## From XML to Build a Data Frame\n",
    "\n",
    "Often, we obtain XML-formatted data, but for manipulation, transformation, and analysis, we need to construct one or more tabular data frames.  This gives us a functional use and practice for our various procedural operations learned today.\n",
    "\n",
    "In particular, we want to take an XML based data set of our topnames information, and to construct a dataframe with columns `year`, `sex`, `name`, and `count`."
   ]
  },
  {
   "cell_type": "markdown",
   "metadata": {},
   "source": [
    "**Q** Using one of the techniques at the beginning of this notebook, retrieve (from local file or from the network), the xml tree in the resource file `\"topnames.xml\"`, and assign to `root` the Element at the root of that tree.  Finish by printing the number of children of the root node."
   ]
  },
  {
   "cell_type": "code",
   "execution_count": 65,
   "metadata": {
    "deletable": false,
    "nbgrader": {
     "cell_type": "code",
     "checksum": "eb9b52aa5f43ce3d53e6064048445b61",
     "grade": true,
     "grade_id": "cell-c4003ae1cd43409c",
     "locked": false,
     "points": 0,
     "schema_version": 3,
     "solution": true,
     "task": false
    }
   },
   "outputs": [],
   "source": [
    "# YOUR CODE HERE\n",
    "from lxml import etree\n",
    "\n",
    "path = \"public_data/topnames.xml\"\n",
    "tree = etree.parse(path)\n",
    "root = tree.getroot()\n",
    "# raise NotImplementedError()"
   ]
  },
  {
   "cell_type": "markdown",
   "metadata": {},
   "source": [
    "**Q** Using nested loops, with the outer loop iterating over the children of the topnames root, and the inner iterating over those children's children, print out, inside the inner loop, the value of the year (from the outer node's xml-attribute) and the value of the sex (from the inner node's xml-attribute).  A prefix of the resultant output:\n",
    "```\n",
    "1880 Female\n",
    "1880 Male\n",
    "1881 Female\n",
    "1881 Male\n",
    "1882 Female\n",
    "```"
   ]
  },
  {
   "cell_type": "code",
   "execution_count": 71,
   "metadata": {
    "deletable": false,
    "nbgrader": {
     "cell_type": "code",
     "checksum": "2ea4924ea0793ffad64b5675cc926945",
     "grade": true,
     "grade_id": "cell-bf5f694b5f89c8da",
     "locked": false,
     "points": 0,
     "schema_version": 3,
     "solution": true,
     "task": false
    },
    "tags": []
   },
   "outputs": [
    {
     "name": "stdout",
     "output_type": "stream",
     "text": [
      "1880 Female\n",
      "1880 Male\n",
      "1881 Female\n",
      "1881 Male\n",
      "1882 Female\n",
      "1882 Male\n",
      "1883 Female\n",
      "1883 Male\n",
      "1884 Female\n",
      "1884 Male\n"
     ]
    }
   ],
   "source": [
    "# YOUR CODE HERE\n",
    "for year in root[:5]:\n",
    "    for sex in year.iter(\"sex\"):\n",
    "        print(year.get(\"value\"), sex.get(\"value\"))\n",
    "# raise NotImplementedError()"
   ]
  },
  {
   "cell_type": "markdown",
   "metadata": {},
   "source": [
    "**Q** We saw, from the book, that it is convenient in these cases to collect our row data in a list, and for each element in the list to be a **dictionary**, in which the **keys** are the names of the columns/fields, and the **values** contain the value, for that row, of the given field.  Without yet worrying about the `name` and `count` columns, let us build such a List of Dictionaries (LoD) for the year and sex combinations.  So a prexix of the LoD would look like the following:\n",
    "\n",
    "```\n",
    "[\n",
    "  {'year': 1880, 'sex': 'Female'}, \n",
    "  {'year': 1880, 'sex': 'Male'}, \n",
    "  {'year': 1881, 'sex': 'Female'}, \n",
    "  {'year': 1881, 'sex': 'Male'}, \n",
    "  {'year': 1882, 'sex': 'Female'}, \n",
    "  {'year': 1882, 'sex': 'Male'},\n",
    "  ...\n",
    "]\n",
    "```\n",
    "Augment your code from the last question to build the List of Dictionaries, using the typical accumulation pattern, starting with an empty list named `LoD` and replacing your `print()` with the creation and appending of the dictionary needed for each row."
   ]
  },
  {
   "cell_type": "code",
   "execution_count": 75,
   "metadata": {
    "deletable": false,
    "nbgrader": {
     "cell_type": "code",
     "checksum": "44f253880938141c7e174250ba521e2a",
     "grade": true,
     "grade_id": "cell-2c984f037e2e57aa",
     "locked": false,
     "points": 0,
     "schema_version": 3,
     "solution": true,
     "task": false
    }
   },
   "outputs": [
    {
     "name": "stdout",
     "output_type": "stream",
     "text": [
      "[{'year': 1880, 'sex': 'Female'}, {'year': 1880, 'sex': 'Male'}, {'year': 1881, 'sex': 'Female'}, {'year': 1881, 'sex': 'Male'}, {'year': 1882, 'sex': 'Female'}]\n"
     ]
    }
   ],
   "source": [
    "# YOUR CODE HERE\n",
    "# raise NotImplementedError()\n",
    "LoD = []\n",
    "for year in root:\n",
    "    for sex in year.iter(\"sex\"):\n",
    "        d = {\"year\": int(year.get(\"value\")), \"sex\": sex.get(\"value\")}\n",
    "        LoD.append(d)\n",
    "\n",
    "\n",
    "assert len(LoD) == 278\n",
    "assert isinstance(LoD, list)\n",
    "assert isinstance(LoD[0], dict)\n",
    "assert LoD[0][\"year\"] == 1880\n",
    "assert LoD[0][\"sex\"] == \"Female\"\n",
    "\n",
    "print(LoD[:5])"
   ]
  },
  {
   "cell_type": "markdown",
   "metadata": {},
   "source": [
    "**Q** Finish your build of the LoD by including in each dictionary the value (based on the `.text` attribute) of the `name` child and the `count` child of the `sex` node from the inner loop."
   ]
  },
  {
   "cell_type": "code",
   "execution_count": 79,
   "metadata": {
    "deletable": false,
    "nbgrader": {
     "cell_type": "code",
     "checksum": "73ec32c68ca8daad207f8eb284e291a6",
     "grade": true,
     "grade_id": "cell-977915bf290e5104",
     "locked": false,
     "points": 0,
     "schema_version": 3,
     "solution": true,
     "task": false
    }
   },
   "outputs": [
    {
     "data": {
      "text/plain": [
       "[{'year': 1880, 'sex': 'Female', 'name': 'Mary', 'count': 7065},\n",
       " {'year': 1880, 'sex': 'Male', 'name': 'John', 'count': 9655},\n",
       " {'year': 1881, 'sex': 'Female', 'name': 'Mary', 'count': 6919},\n",
       " {'year': 1881, 'sex': 'Male', 'name': 'John', 'count': 8769}]"
      ]
     },
     "execution_count": 79,
     "metadata": {},
     "output_type": "execute_result"
    }
   ],
   "source": [
    "# YOUR CODE HERE\n",
    "def child_value(node, tag):\n",
    "    first_find = node.find(tag)\n",
    "    if first_find != None:\n",
    "        return first_find.text\n",
    "\n",
    "\n",
    "LoD = []\n",
    "for year in root:\n",
    "    for sex in year.iter(\"sex\"):\n",
    "        d = {\n",
    "            \"year\": int(year.get(\"value\")),\n",
    "            \"sex\": sex.get(\"value\"),\n",
    "            \"name\": child_value(sex, \"name\"),\n",
    "            \"count\": int(child_value(sex, \"count\")),\n",
    "        }\n",
    "        LoD.append(d)\n",
    "\n",
    "\n",
    "# raise NotImplementedError()\n",
    "assert len(LoD) == 278\n",
    "assert isinstance(LoD, list)\n",
    "assert isinstance(LoD[0], dict)\n",
    "assert LoD[0][\"year\"] == 1880\n",
    "assert LoD[0][\"sex\"] == \"Female\"\n",
    "assert LoD[0][\"name\"] == \"Mary\"\n",
    "assert LoD[0][\"count\"] == 7065\n",
    "\n",
    "LoD[:4]"
   ]
  },
  {
   "cell_type": "markdown",
   "metadata": {},
   "source": [
    "**Q** For the final step, use pandas to construct a data frame from the list of dictionaries; set the index of this data frame to the independent variables of `year` and `sex`, and display the head() of the resultant data frame."
   ]
  },
  {
   "cell_type": "code",
   "execution_count": 80,
   "metadata": {
    "deletable": false,
    "nbgrader": {
     "cell_type": "code",
     "checksum": "424f69e50b3a0f8ec1323a4996fb201f",
     "grade": true,
     "grade_id": "cell-3d639a5da96a0717",
     "locked": false,
     "points": 0,
     "schema_version": 3,
     "solution": true,
     "task": false
    }
   },
   "outputs": [
    {
     "data": {
      "text/html": [
       "<div>\n",
       "<style scoped>\n",
       "    .dataframe tbody tr th:only-of-type {\n",
       "        vertical-align: middle;\n",
       "    }\n",
       "\n",
       "    .dataframe tbody tr th {\n",
       "        vertical-align: top;\n",
       "    }\n",
       "\n",
       "    .dataframe thead th {\n",
       "        text-align: right;\n",
       "    }\n",
       "</style>\n",
       "<table border=\"1\" class=\"dataframe\">\n",
       "  <thead>\n",
       "    <tr style=\"text-align: right;\">\n",
       "      <th></th>\n",
       "      <th></th>\n",
       "      <th>name</th>\n",
       "      <th>count</th>\n",
       "    </tr>\n",
       "    <tr>\n",
       "      <th>year</th>\n",
       "      <th>sex</th>\n",
       "      <th></th>\n",
       "      <th></th>\n",
       "    </tr>\n",
       "  </thead>\n",
       "  <tbody>\n",
       "    <tr>\n",
       "      <th rowspan=\"2\" valign=\"top\">1880</th>\n",
       "      <th>Female</th>\n",
       "      <td>Mary</td>\n",
       "      <td>7065</td>\n",
       "    </tr>\n",
       "    <tr>\n",
       "      <th>Male</th>\n",
       "      <td>John</td>\n",
       "      <td>9655</td>\n",
       "    </tr>\n",
       "    <tr>\n",
       "      <th rowspan=\"2\" valign=\"top\">1881</th>\n",
       "      <th>Female</th>\n",
       "      <td>Mary</td>\n",
       "      <td>6919</td>\n",
       "    </tr>\n",
       "    <tr>\n",
       "      <th>Male</th>\n",
       "      <td>John</td>\n",
       "      <td>8769</td>\n",
       "    </tr>\n",
       "    <tr>\n",
       "      <th rowspan=\"2\" valign=\"top\">1882</th>\n",
       "      <th>Female</th>\n",
       "      <td>Mary</td>\n",
       "      <td>8148</td>\n",
       "    </tr>\n",
       "    <tr>\n",
       "      <th>Male</th>\n",
       "      <td>John</td>\n",
       "      <td>9557</td>\n",
       "    </tr>\n",
       "    <tr>\n",
       "      <th rowspan=\"2\" valign=\"top\">1883</th>\n",
       "      <th>Female</th>\n",
       "      <td>Mary</td>\n",
       "      <td>8012</td>\n",
       "    </tr>\n",
       "    <tr>\n",
       "      <th>Male</th>\n",
       "      <td>John</td>\n",
       "      <td>8894</td>\n",
       "    </tr>\n",
       "    <tr>\n",
       "      <th rowspan=\"2\" valign=\"top\">1884</th>\n",
       "      <th>Female</th>\n",
       "      <td>Mary</td>\n",
       "      <td>9217</td>\n",
       "    </tr>\n",
       "    <tr>\n",
       "      <th>Male</th>\n",
       "      <td>John</td>\n",
       "      <td>9388</td>\n",
       "    </tr>\n",
       "  </tbody>\n",
       "</table>\n",
       "</div>"
      ],
      "text/plain": [
       "             name  count\n",
       "year sex                \n",
       "1880 Female  Mary   7065\n",
       "     Male    John   9655\n",
       "1881 Female  Mary   6919\n",
       "     Male    John   8769\n",
       "1882 Female  Mary   8148\n",
       "     Male    John   9557\n",
       "1883 Female  Mary   8012\n",
       "     Male    John   8894\n",
       "1884 Female  Mary   9217\n",
       "     Male    John   9388"
      ]
     },
     "execution_count": 80,
     "metadata": {},
     "output_type": "execute_result"
    }
   ],
   "source": [
    "# YOUR CODE HERE\n",
    "def child_value(node, tag):\n",
    "    first_find = node.find(tag)\n",
    "    if first_find != None:\n",
    "        return first_find.text\n",
    "\n",
    "\n",
    "LoD = []\n",
    "for year in root:\n",
    "    for sex in year.iter(\"sex\"):\n",
    "        d = {\n",
    "            \"year\": int(year.get(\"value\")),\n",
    "            \"sex\": sex.get(\"value\"),\n",
    "            \"name\": child_value(sex, \"name\"),\n",
    "            \"count\": int(child_value(sex, \"count\")),\n",
    "        }\n",
    "        LoD.append(d)\n",
    "\n",
    "df = pd.DataFrame(LoD)\n",
    "df.set_index([\"year\", \"sex\"], inplace=True)\n",
    "\n",
    "df.head(10)\n",
    "\n",
    "# raise NotImplementedError()"
   ]
  },
  {
   "cell_type": "code",
   "execution_count": null,
   "metadata": {},
   "outputs": [],
   "source": []
  }
 ],
 "metadata": {
  "kernelspec": {
   "display_name": "Python 3 (ipykernel)",
   "language": "python",
   "name": "python3"
  },
  "language_info": {
   "codemirror_mode": {
    "name": "ipython",
    "version": 3
   },
   "file_extension": ".py",
   "mimetype": "text/x-python",
   "name": "python",
   "nbconvert_exporter": "python",
   "pygments_lexer": "ipython3",
   "version": "3.8.10"
  }
 },
 "nbformat": 4,
 "nbformat_minor": 4
}

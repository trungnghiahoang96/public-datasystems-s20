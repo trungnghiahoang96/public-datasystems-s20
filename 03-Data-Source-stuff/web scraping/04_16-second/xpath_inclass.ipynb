{
 "cells": [
  {
   "cell_type": "markdown",
   "metadata": {},
   "source": [
    "Before you turn this problem in, make sure everything runs as expected. First, **restart the kernel** (in the menubar, select Kernel$\\rightarrow$Restart) and then **run all cells** (in the menubar, select Cell$\\rightarrow$Run All).\n",
    "\n",
    "Make sure you fill in any place that says `YOUR CODE HERE` or \"YOUR ANSWER HERE\", as well as your name and collaborators below:"
   ]
  },
  {
   "cell_type": "code",
   "execution_count": null,
   "metadata": {},
   "outputs": [],
   "source": [
    "NAME = \"\"\n",
    "COLLABORATORS = \"\""
   ]
  },
  {
   "cell_type": "markdown",
   "metadata": {},
   "source": [
    "---"
   ]
  },
  {
   "cell_type": "markdown",
   "metadata": {},
   "source": [
    "# XPath\n",
    "\n",
    "The cell below is the same set-up cell as we had in the previous in-class worksheet, i.e., gets our data either from a local file or over the network. In this worksheet, we use local files, but we still provide the general set-up. \n",
    "\n",
    "Please execute the cell below. The `print_results` function can be a useful way to print out nodes in a node set matched by an XPath expression."
   ]
  },
  {
   "cell_type": "code",
   "execution_count": 3,
   "metadata": {},
   "outputs": [],
   "source": [
    "import io\n",
    "import os.path\n",
    "\n",
    "import pandas as pd\n",
    "import requests\n",
    "from lxml import etree\n",
    "\n",
    "\n",
    "def print_tree(node, pretty_print=True, encoding=\"utf-8\"):\n",
    "    \"\"\"\n",
    "    This function prints the subtree indicated by a given\n",
    "    Element, node, decoding if necessary.\n",
    "\n",
    "    Parameters:\n",
    "    node is an Element\n",
    "    pretty_print is a flag variable, True by default\n",
    "    encoding is a string, 'utf-8' by default\n",
    "    \"\"\"\n",
    "    result = etree.tostring(node, pretty_print=pretty_print)\n",
    "    if isinstance(result, bytes):\n",
    "        result = result.decode(encoding)\n",
    "    print(result)\n",
    "\n",
    "\n",
    "def print_results(nodeset):\n",
    "    \"\"\"\n",
    "    This function iterates over all Elements in a given list\n",
    "    of Elements, printing the tag, text, and attributes of each.\n",
    "\n",
    "    Parameters:\n",
    "    nodeset - a list of Elements\n",
    "    \"\"\"\n",
    "    print(\"Length of nodeset result:\", len(nodeset))\n",
    "    for node in nodeset:\n",
    "        print(\"Type:\", type(node))\n",
    "        if type(node) == etree._Element:\n",
    "            print(\"Tag:\", node.tag)\n",
    "            print(\"  Text:\", node.text)\n",
    "            print(\"  Attrib:\", node.attrib)\n",
    "        else:\n",
    "            print(node)\n",
    "        print()\n",
    "\n",
    "\n",
    "protocol = \"http\"\n",
    "location = \"personal.denison.edu\"\n",
    "resourcepath = \"/~bressoud/datasystems/data/{}\"\n",
    "\n",
    "buildURL = lambda s: \"{}://{}{}\".format(protocol, location, resourcepath.format(s))\n",
    "\n",
    "datadir = \"public_data\"\n",
    "filename = \"ind0.xml\"  # Text file encoded as UTF-8\n",
    "path = os.path.join(datadir, filename)\n",
    "\n",
    "\n",
    "indtree = etree.parse(path)\n",
    "indroot = indtree.getroot()\n",
    "\n",
    "filename = \"topnames.xml\"\n",
    "path = os.path.join(datadir, filename)\n",
    "\n",
    "toptree = etree.parse(path)\n",
    "toproot = toptree.getroot()\n",
    "\n",
    "filename = \"school.xml\"\n",
    "path = os.path.join(datadir, filename)\n",
    "\n",
    "schtree = etree.parse(path)\n",
    "schroot = schtree.getroot()"
   ]
  },
  {
   "cell_type": "markdown",
   "metadata": {},
   "source": [
    "## Core XPath operations\n",
    "\n",
    "1. Get root node by xpath \n",
    "2. Get **single node** (in a list) by specifying a complete element path. The path can lead to:\n",
    "\n",
    "    a. an Element node (by leading to its tag)  \n",
    "    b. the text of a node (via `.../text()`)  \n",
    "    c. an attribute (via `@`)  \n",
    "    \n",
    "3. Match multiple nodes **at a single level of the hierarchy** using an element path to that level. Such a path can lead to:\n",
    "\n",
    "    a. an Element node (by leading to its tag)  \n",
    "    b. the text of a node (via `.../text()`)  \n",
    "    c. an attribute (via `@`)  \n",
    "    \n",
    "4. Match all nodes with a particular element + attribute match\n",
    "\n",
    "    a. Specify the element with the path, and use a **predicate** to specify the attribute match.  \n",
    "    b. Can also specify a set of attribute values, e.g., using an inequality in a predicate.  \n",
    "    c. Can do the same with a set of text values.  \n",
    "    d. Can match at multiple levels of the hierarchy (depending on tag names in your tree), if you use `//`.  \n",
    "    e. Can match all nodes in the tree (`//node()`), all elements (`//*`), all text nodes (`//text()`), or all attributes (`//@*`)  \n",
    "    \n",
    "5. Match all nodes with a particular element + attribute combination \n",
    "\n",
    "    a. Can use `and`/`or` keywords inside a predicate.  \n",
    "    b. Can use `not` inside a predicate, to see if an attribute or child is present or not.  \n",
    "    c. Can use a **predicate that includes a path**, e.g., to match all nodes whose child (with given element specification) has a text or attribute matching some given value.  \n",
    "    d. Can use `|` between two XPath expressions to match one or the other (or both).  \n",
    "    \n",
    "6. Climb back up the tree from a nodeset by adding a parent specification (`..`) to a set of found nodes\n",
    "\n",
    "Syntax:\n",
    "\n",
    "Expression | Meaning\n",
    ":---------:|:------------\n",
    "`/`        | When the first character, means the traversal starts at the root of the tree.  If not the first character, is used to separate location-steps in the set of possible traversals.\n",
    "`.`        | Refers to the current node of the traversal.\n",
    "`..`       | Means the parent of the current node of the traversal.  Every node has a parent, and the parent of the root is the root itself.\n",
    "`@`        | Used to reference/match an **attribute** (instead of an element tag).\n",
    "`[]`       | Used, relative to the node of the current location-step, to specify a predicate (i.e. something that results in a boolean true/false, often involving an attribute of the current node).\n",
    "`or, and` | Used inside a `[]` expression to specify logical operators.\n",
    "`vert bar`        | Used between XPaths in the same string to combine the nodeset results from the first XPath with the nodeset results from the second XPath.\n",
    "`//` | Matches **all** descendent traversals/paths from the node of the current location-step.\n",
    "`*` | Matches all the element siblings relative to the current location-step level.\n",
    "`@*` | Matches all the attributes relative to the current location-step level (or predicate, if used with `[]`).\n",
    "`text()` | Extracts the text of the current node.\n",
    "`position()` | Refers to the index (1-relative) of a child from its parent.\n",
    "`contains` | Arguments of a string (attribute or text()) and a substring and gives a boolean for a predicate that is true if the string contains the substring."
   ]
  },
  {
   "cell_type": "markdown",
   "metadata": {},
   "source": [
    "### XPath Exercises\n",
    "\n",
    "For each of the following exercises, create a correct XPath expression to identify the node set described, then use the `xpath()` method to extract this node set from the relevant tree, storing your answer in a list of Elements `nodeset`.\n",
    "\n",
    "1. Get root node by xpath \n",
    "\n",
    "**Example 1** Create a nodeset consisting of the root node of the `topnames` tree, then use the `print_results` function we created above to print the results. Then use `print_tree` to print the information from the Element in the nodeset. We see that `print_results` gives us a more compact output."
   ]
  },
  {
   "cell_type": "code",
   "execution_count": 2,
   "metadata": {},
   "outputs": [
    {
     "name": "stdout",
     "output_type": "stream",
     "text": [
      "Length of nodeset result: 1\n",
      "Type: <class 'lxml.etree._Element'>\n",
      "Tag: topnames\n",
      "  Text: \n",
      "  \n",
      "  Attrib: {}\n",
      "\n"
     ]
    }
   ],
   "source": [
    "nodeset = toproot.xpath(\".\")\n",
    "print_results(nodeset)"
   ]
  },
  {
   "cell_type": "markdown",
   "metadata": {},
   "source": [
    "**Q1** Create a nodeset consisting of the root node of the `indicators0` tree, then use the `print_results` function we created above to print the results. Please mimic the above, but use `indroot.xpath`."
   ]
  },
  {
   "cell_type": "code",
   "execution_count": 5,
   "metadata": {
    "deletable": false,
    "nbgrader": {
     "cell_type": "code",
     "checksum": "4cf9054b62e148df0290c614163d608b",
     "grade": true,
     "grade_id": "cell-cb72bd423e1f75bd",
     "locked": false,
     "points": 0,
     "schema_version": 3,
     "solution": true,
     "task": false
    }
   },
   "outputs": [
    {
     "name": "stdout",
     "output_type": "stream",
     "text": [
      "Length of nodeset result: 1\n",
      "Type: <class 'lxml.etree._Element'>\n",
      "Tag: indicators\n",
      "  Text: \n",
      "  \n",
      "  Attrib: {}\n",
      "\n"
     ]
    }
   ],
   "source": [
    "nodeset = indroot.xpath(\"/indicators\")\n",
    "\n",
    "\n",
    "print_results(nodeset)  # should just have one node, indicators"
   ]
  },
  {
   "cell_type": "markdown",
   "metadata": {},
   "source": [
    "2. Get **single node** (in a list) by specifying a complete element path. The path can lead to:\n",
    "    a. an Element node (by leading to its tag)\n",
    "    b. the text of a node (via `.../text()`)\n",
    "    c. an attribute (via `@`)\n",
    "\n",
    "When there are multiple children with the same tag, use a predicate to specify the relevant attribute value, e.g. `node/child[@attributeName=...]/grandchild`\n",
    "\n",
    "**Example 2a** Find the count of the number of top female births in 1882. First find the node then extract the count itself as an integer `c`."
   ]
  },
  {
   "cell_type": "code",
   "execution_count": 6,
   "metadata": {},
   "outputs": [
    {
     "name": "stdout",
     "output_type": "stream",
     "text": [
      "Length of nodeset result: 1\n",
      "Type: <class 'lxml.etree._Element'>\n",
      "Tag: count\n",
      "  Text: 8148\n",
      "  Attrib: {}\n",
      "\n",
      "8148\n",
      "<class 'int'>\n",
      "\n"
     ]
    }
   ],
   "source": [
    "# Finding the relevant node\n",
    "\n",
    "nodeset = toproot.xpath(\"/topnames/year[@value='1882']/sex[@value='Female']/count\")\n",
    "print_results(nodeset)\n",
    "\n",
    "# Extracting the actual count\n",
    "c = int(nodeset[0].text)\n",
    "print(c)\n",
    "print(type(c))\n",
    "print()"
   ]
  },
  {
   "cell_type": "markdown",
   "metadata": {},
   "source": [
    "**Example 2b** Repeat the above, but using a path that goes all the way to the text of the leaf node in question."
   ]
  },
  {
   "cell_type": "code",
   "execution_count": 7,
   "metadata": {},
   "outputs": [
    {
     "name": "stdout",
     "output_type": "stream",
     "text": [
      "8148\n",
      "<class 'int'>\n"
     ]
    }
   ],
   "source": [
    "# Alternative way that uses a path to the text of the node\n",
    "results = toproot.xpath(\n",
    "    \"/topnames/year[@value='1882']/sex[@value='Female']/count/text()\"\n",
    ")\n",
    "c2 = int(results[0])\n",
    "print(c2)\n",
    "print(type(c2))"
   ]
  },
  {
   "cell_type": "markdown",
   "metadata": {},
   "source": [
    "**Q2a** Find the gdp of the USA in 2017. First find the node then extract the gdp itself as a float `f`."
   ]
  },
  {
   "cell_type": "code",
   "execution_count": 13,
   "metadata": {
    "deletable": false,
    "nbgrader": {
     "cell_type": "code",
     "checksum": "5eca4197a6198167ffc65390178204d1",
     "grade": true,
     "grade_id": "cell-a76f1173e6ade097",
     "locked": false,
     "points": 0,
     "schema_version": 3,
     "solution": true,
     "task": false
    }
   },
   "outputs": [
    {
     "name": "stdout",
     "output_type": "stream",
     "text": [
      "Length of nodeset result: 1\n",
      "Type: <class 'lxml.etree._Element'>\n",
      "Tag: gdp\n",
      "  Text: 19485.4\n",
      "  Attrib: {}\n",
      "\n",
      "19485.4\n",
      "<class 'float'>\n"
     ]
    }
   ],
   "source": [
    "nodeset = indroot.xpath(\"/indicators/country[@code = 'USA']/timedata[@year='2017']/gdp\")\n",
    "f = float(nodeset[0].text)\n",
    "\n",
    "\n",
    "print_results(nodeset)\n",
    "print(f)  # should be 19485.4\n",
    "print(type(f))  # should be float"
   ]
  },
  {
   "cell_type": "markdown",
   "metadata": {},
   "source": [
    "**Q2b** Solve this problem again, but with an XPath expression that leads to the `text()` of the node in question."
   ]
  },
  {
   "cell_type": "code",
   "execution_count": 15,
   "metadata": {
    "deletable": false,
    "nbgrader": {
     "cell_type": "code",
     "checksum": "4fdc54c78398aecf3792d5fda77509ba",
     "grade": true,
     "grade_id": "cell-7c93bec5129fe9b2",
     "locked": false,
     "points": 0,
     "schema_version": 3,
     "solution": true,
     "task": false
    }
   },
   "outputs": [
    {
     "name": "stdout",
     "output_type": "stream",
     "text": [
      "Length of nodeset result: 1\n",
      "Type: <class 'lxml.etree._Element'>\n",
      "Tag: gdp\n",
      "  Text: 19485.4\n",
      "  Attrib: {}\n",
      "\n",
      "19485.4\n",
      "<class 'float'>\n"
     ]
    }
   ],
   "source": [
    "f = float(\n",
    "    indroot.xpath(\n",
    "        \"/indicators/country[@code = 'USA']/timedata[@year='2017']/gdp/text()\"\n",
    "    )[0]\n",
    ")\n",
    "\n",
    "\n",
    "print_results(nodeset)\n",
    "\n",
    "print(f)  # should be 19485.4\n",
    "print(type(f))  # should be float"
   ]
  },
  {
   "cell_type": "markdown",
   "metadata": {},
   "source": [
    "**Example 2c** Find the first year in the `topnames` dataset. Note that this information is stored in an attribute, so your path should end at an attribute."
   ]
  },
  {
   "cell_type": "code",
   "execution_count": 17,
   "metadata": {},
   "outputs": [
    {
     "name": "stdout",
     "output_type": "stream",
     "text": [
      "1880\n"
     ]
    }
   ],
   "source": [
    "nodeset = toproot.xpath(\"/topnames/year/@value\")\n",
    "firstyear = nodeset[0]\n",
    "print(firstyear)"
   ]
  },
  {
   "cell_type": "markdown",
   "metadata": {},
   "source": [
    "**Q2c** Find the `name` of the first country in `indicators0`."
   ]
  },
  {
   "cell_type": "code",
   "execution_count": 21,
   "metadata": {
    "deletable": false,
    "nbgrader": {
     "cell_type": "code",
     "checksum": "89d81a06376459d41ba484089d0aeede",
     "grade": true,
     "grade_id": "cell-9fad8e71b460148e",
     "locked": false,
     "points": 0,
     "schema_version": 3,
     "solution": true,
     "task": false
    }
   },
   "outputs": [
    {
     "name": "stdout",
     "output_type": "stream",
     "text": [
      "['France', 'United Kingdom', 'United States']\n"
     ]
    }
   ],
   "source": [
    "nodeset = indroot.xpath(\"/indicators/country/@name\")\n",
    "\n",
    "\n",
    "print(nodeset[:5])  # Should be France"
   ]
  },
  {
   "cell_type": "markdown",
   "metadata": {},
   "source": [
    "3. Match multiple nodes **at a single level of the hierarchy** using an element path to that level. Such a path can lead to:\n",
    "    a. an Element node (by leading to its tag)\n",
    "    b. the text of a node (via `.../text()`)\n",
    "    c. an attribute (via `@`)\n",
    "\n",
    "**Example 3a** Find a list of all nodes in `topnames` tagged `count`. This includes both male and female counts, over all years. Print the length of the resulting list, and the first item in it."
   ]
  },
  {
   "cell_type": "code",
   "execution_count": 22,
   "metadata": {},
   "outputs": [
    {
     "name": "stdout",
     "output_type": "stream",
     "text": [
      "278\n",
      "<Element count at 0x7f9cc3377280>\n",
      "\n",
      "Length of nodeset result: 1\n",
      "Type: <class 'lxml.etree._Element'>\n",
      "Tag: count\n",
      "  Text: 7065\n",
      "  Attrib: {}\n",
      "\n"
     ]
    }
   ],
   "source": [
    "nodeset = toproot.xpath(\"/topnames/year/sex/count\")\n",
    "print(len(nodeset))\n",
    "print(nodeset[0])\n",
    "print()\n",
    "print_results(nodeset[0:1])"
   ]
  },
  {
   "cell_type": "markdown",
   "metadata": {},
   "source": [
    "**Q3a** Find a list of all department names that appear in `school`. Please print the length of your nodeset and the first element in it."
   ]
  },
  {
   "cell_type": "code",
   "execution_count": 24,
   "metadata": {
    "deletable": false,
    "nbgrader": {
     "cell_type": "code",
     "checksum": "0026f4d48d4dc099d803c99f98d1a2cc",
     "grade": true,
     "grade_id": "cell-3c50b73882a413ea",
     "locked": false,
     "points": 0,
     "schema_version": 3,
     "solution": true,
     "task": false
    }
   },
   "outputs": [
    {
     "name": "stdout",
     "output_type": "stream",
     "text": [
      "36\n",
      "<Element name at 0x7f9cc32c0540>\n",
      "\n",
      "Length of nodeset result: 1\n",
      "Type: <class 'lxml.etree._Element'>\n",
      "Tag: name\n",
      "  Text: Anthropology and Sociology\n",
      "  Attrib: {}\n",
      "\n",
      "['Anthropology and Sociology', 'Art History and Visual Culture', 'Biology', 'Black Studies', 'Chemistry and Biochemistry']\n"
     ]
    }
   ],
   "source": [
    "nodeset = schroot.xpath(\"/school/departments/department/name\")\n",
    "\n",
    "\n",
    "print(len(nodeset))  # should be 36\n",
    "print(nodeset[0])  # should be an element\n",
    "print()\n",
    "print_results(nodeset[0:1])\n",
    "\n",
    "nametext = [node.text for node in nodeset]\n",
    "print(nametext[:5])"
   ]
  },
  {
   "cell_type": "markdown",
   "metadata": {},
   "source": [
    "**Example 3b** Find a list of all names that appear in `topnames` (over all years, and both genders). You should achieve a list of strings instead of a list of Elements."
   ]
  },
  {
   "cell_type": "code",
   "execution_count": 25,
   "metadata": {},
   "outputs": [
    {
     "name": "stdout",
     "output_type": "stream",
     "text": [
      "278\n",
      "Mary\n",
      "Liam\n"
     ]
    }
   ],
   "source": [
    "nodeset = toproot.xpath(\"/topnames/year/sex/name/text()\")\n",
    "print(len(nodeset))  # should be 278\n",
    "print(nodeset[0])  # should be Mary\n",
    "print(nodeset[-1])"
   ]
  },
  {
   "cell_type": "markdown",
   "metadata": {},
   "source": [
    "**Q3b** Find a list of all instructor last names that appear in `school` (one per `instructor`, ignoring the `department` and `courses` branches). You should achieve a list of strings instead of a list of Elements."
   ]
  },
  {
   "cell_type": "code",
   "execution_count": 26,
   "metadata": {
    "deletable": false,
    "nbgrader": {
     "cell_type": "code",
     "checksum": "bbdbce1b940085dcbd881c07e2dc908f",
     "grade": true,
     "grade_id": "cell-c12aeb246faac44e",
     "locked": false,
     "points": 0,
     "schema_version": 3,
     "solution": true,
     "task": false
    }
   },
   "outputs": [
    {
     "name": "stdout",
     "output_type": "stream",
     "text": [
      "292\n",
      "Boyd\n",
      "Schultz\n"
     ]
    }
   ],
   "source": [
    "nodeset = schroot.xpath(\"/school/instructors/instructor/last/text()\")\n",
    "\n",
    "\n",
    "print(len(nodeset))  # should be 292\n",
    "print(nodeset[20])\n",
    "print(nodeset[21])"
   ]
  },
  {
   "cell_type": "markdown",
   "metadata": {},
   "source": [
    "**Example 3c** Extract the list of years from the `topnames` dataset. Note that this information is stored in attributes. You should end up with a list of strings."
   ]
  },
  {
   "cell_type": "code",
   "execution_count": 27,
   "metadata": {},
   "outputs": [
    {
     "name": "stdout",
     "output_type": "stream",
     "text": [
      "139\n",
      "1880\n",
      "2018\n"
     ]
    }
   ],
   "source": [
    "nodeset = toproot.xpath(\"/topnames/year/@value\")\n",
    "print(len(nodeset))\n",
    "print(nodeset[0])\n",
    "print(nodeset[-1])"
   ]
  },
  {
   "cell_type": "markdown",
   "metadata": {},
   "source": [
    "**Q3c** Extract the list of subject names from the `school` dataset. Note that this information is stored in attributes. You should end up with a list of strings."
   ]
  },
  {
   "cell_type": "code",
   "execution_count": 33,
   "metadata": {
    "deletable": false,
    "nbgrader": {
     "cell_type": "code",
     "checksum": "89377e3f34524ffc2439226be88c6798",
     "grade": true,
     "grade_id": "cell-b11b49dfc73ab07b",
     "locked": false,
     "points": 0,
     "schema_version": 3,
     "solution": true,
     "task": false
    }
   },
   "outputs": [
    {
     "name": "stdout",
     "output_type": "stream",
     "text": [
      "32\n",
      "['Art History', 'Art Studio', 'Biochemistry']\n",
      "Physics\n"
     ]
    }
   ],
   "source": [
    "nodeset = schroot.xpath(\"/school/departments/department/subject/@name\")\n",
    "\n",
    "\n",
    "print(len(nodeset))  # should be 32\n",
    "print(nodeset[:3])  # Art History\n",
    "print(nodeset[-1])"
   ]
  },
  {
   "cell_type": "markdown",
   "metadata": {},
   "source": [
    "4. Match all nodes with a particular element + attribute match\n",
    "    a. Specify the element with the path, and use a **predicate** to specify the attribute match.\n",
    "    b. Can also specify a set of attribute values, e.g., using an inequality in a predicate.\n",
    "    c. Can do the same with a set of text values.\n",
    "    d. Can match at multiple levels of the hierarchy (depending on tag names in your tree), if you use `//`.\n",
    "    e. Can match all nodes in the tree (`//node()`), all elements (`//*`), all text nodes (`//text()`), or all attributes (`//@*`)\n",
    "\n",
    "**Example 4a** Find a list of all Female names that appear in `topnames` (duplicates allowed). Note that we want data from every year, so we do NOT use a predicate to restrict the years. Please print the length of your nodeset and the first element in it."
   ]
  },
  {
   "cell_type": "code",
   "execution_count": 32,
   "metadata": {},
   "outputs": [
    {
     "name": "stdout",
     "output_type": "stream",
     "text": [
      "139\n",
      "<Element name at 0x7f9cc32d0980>\n",
      "\n",
      "Length of nodeset result: 1\n",
      "Type: <class 'lxml.etree._Element'>\n",
      "Tag: name\n",
      "  Text: Mary\n",
      "  Attrib: {}\n",
      "\n"
     ]
    }
   ],
   "source": [
    "nodeset = toproot.xpath(\"/topnames/year/sex[@value='Female']/name\")\n",
    "print(len(nodeset))\n",
    "print(nodeset[0])\n",
    "print()\n",
    "print_results(nodeset[0:1])"
   ]
  },
  {
   "cell_type": "markdown",
   "metadata": {},
   "source": [
    "**Q4a** Find a list of all subjects that appear in `school` as part of the Modern Language department. Hint: this department has an `id` of `'LANG'`."
   ]
  },
  {
   "cell_type": "code",
   "execution_count": 37,
   "metadata": {
    "deletable": false,
    "nbgrader": {
     "cell_type": "code",
     "checksum": "3681fe8bc3fc49b4c305c1ef5d76fc68",
     "grade": true,
     "grade_id": "cell-cb837fcf04f07f36",
     "locked": false,
     "points": 0,
     "schema_version": 3,
     "solution": true,
     "task": false
    }
   },
   "outputs": [
    {
     "name": "stdout",
     "output_type": "stream",
     "text": [
      "Length of nodeset result: 8\n",
      "Type: <class 'lxml.etree._ElementUnicodeResult'>\n",
      "Arabic\n",
      "\n",
      "Type: <class 'lxml.etree._ElementUnicodeResult'>\n",
      "Chinese\n",
      "\n",
      "Type: <class 'lxml.etree._ElementUnicodeResult'>\n",
      "French\n",
      "\n",
      "Type: <class 'lxml.etree._ElementUnicodeResult'>\n",
      "German\n",
      "\n",
      "Type: <class 'lxml.etree._ElementUnicodeResult'>\n",
      "Japanese\n",
      "\n",
      "Type: <class 'lxml.etree._ElementUnicodeResult'>\n",
      "Modern Language\n",
      "\n",
      "Type: <class 'lxml.etree._ElementUnicodeResult'>\n",
      "Portuguese\n",
      "\n",
      "Type: <class 'lxml.etree._ElementUnicodeResult'>\n",
      "Spanish\n",
      "\n"
     ]
    }
   ],
   "source": [
    "nodeset = schroot.xpath(\"/school/departments/department[@id = 'LANG']/subject/@name\")\n",
    "\n",
    "\n",
    "print_results(nodeset)  # should have 8 things"
   ]
  },
  {
   "cell_type": "markdown",
   "metadata": {},
   "source": [
    "**Example 4b** Find all `country` nodes in `indicators` where the code contains an 'A'. Hint: in your predicate, use the function `contains()`"
   ]
  },
  {
   "cell_type": "code",
   "execution_count": 38,
   "metadata": {},
   "outputs": [
    {
     "name": "stdout",
     "output_type": "stream",
     "text": [
      "Length of nodeset result: 2\n",
      "Type: <class 'lxml.etree._Element'>\n",
      "Tag: country\n",
      "  Text: \n",
      "    \n",
      "  Attrib: {'code': 'FRA', 'name': 'France'}\n",
      "\n",
      "Type: <class 'lxml.etree._Element'>\n",
      "Tag: country\n",
      "  Text: \n",
      "    \n",
      "  Attrib: {'code': 'USA', 'name': 'United States'}\n",
      "\n"
     ]
    }
   ],
   "source": [
    "nodeset = indroot.xpath(\"/indicators/country[contains(@code,'A')]\")\n",
    "print_results(nodeset)"
   ]
  },
  {
   "cell_type": "markdown",
   "metadata": {},
   "source": [
    "**Q4b** Find all courses in `school` where the course number is 400 or above. This information is stored in an attribute."
   ]
  },
  {
   "cell_type": "code",
   "execution_count": 41,
   "metadata": {
    "deletable": false,
    "nbgrader": {
     "cell_type": "code",
     "checksum": "a082dd453d8b1381e4d4d40b8d15c14d",
     "grade": true,
     "grade_id": "cell-6a1183f254e889d9",
     "locked": false,
     "points": 0,
     "schema_version": 3,
     "solution": true,
     "task": false
    }
   },
   "outputs": [
    {
     "name": "stdout",
     "output_type": "stream",
     "text": [
      "145\n",
      "Length of nodeset result: 5\n",
      "Type: <class 'lxml.etree._ElementUnicodeResult'>\n",
      "ARTH\n",
      "\n",
      "Type: <class 'lxml.etree._ElementUnicodeResult'>\n",
      "ARTH\n",
      "\n",
      "Type: <class 'lxml.etree._ElementUnicodeResult'>\n",
      "ARTH\n",
      "\n",
      "Type: <class 'lxml.etree._ElementUnicodeResult'>\n",
      "ARTS\n",
      "\n",
      "Type: <class 'lxml.etree._ElementUnicodeResult'>\n",
      "ARTS\n",
      "\n"
     ]
    }
   ],
   "source": [
    "nodeset = schroot.xpath(\"/school/courses/course[@num >= 400]/@subject\")\n",
    "\n",
    "\n",
    "print(len(nodeset))  # should be 145\n",
    "print_results(nodeset[0:5])"
   ]
  },
  {
   "cell_type": "markdown",
   "metadata": {},
   "source": [
    "**Example 4c** Find all gdp nodes in `indicators0` where the gdp was less than 3000."
   ]
  },
  {
   "cell_type": "code",
   "execution_count": 42,
   "metadata": {},
   "outputs": [
    {
     "name": "stdout",
     "output_type": "stream",
     "text": [
      "Length of nodeset result: 3\n",
      "Type: <class 'lxml.etree._Element'>\n",
      "Tag: gdp\n",
      "  Text: 2657.21\n",
      "  Attrib: {}\n",
      "\n",
      "Type: <class 'lxml.etree._Element'>\n",
      "Tag: gdp\n",
      "  Text: 2586.29\n",
      "  Attrib: {}\n",
      "\n",
      "Type: <class 'lxml.etree._Element'>\n",
      "Tag: gdp\n",
      "  Text: 2637.87\n",
      "  Attrib: {}\n",
      "\n"
     ]
    }
   ],
   "source": [
    "nodeset = indroot.xpath(\"/indicators/country/timedata/gdp[text()<'3000']\")\n",
    "print_results(nodeset)"
   ]
  },
  {
   "cell_type": "markdown",
   "metadata": {},
   "source": [
    "**Q4c** Find all city nodes under `instructors` where the city is \"Columbus\"."
   ]
  },
  {
   "cell_type": "code",
   "execution_count": 44,
   "metadata": {
    "deletable": false,
    "nbgrader": {
     "cell_type": "code",
     "checksum": "f7c236b92e3738fd5871cbe8819b2a0d",
     "grade": true,
     "grade_id": "cell-d753cc6dec3660f3",
     "locked": false,
     "points": 0,
     "schema_version": 3,
     "solution": true,
     "task": false
    }
   },
   "outputs": [
    {
     "name": "stdout",
     "output_type": "stream",
     "text": [
      "28\n",
      "<city>Columbus</city>\n",
      "      \n",
      "\n"
     ]
    }
   ],
   "source": [
    "nodeset = schroot.xpath(\"/school/instructors/instructor/city[text() = 'Columbus']\")\n",
    "\n",
    "\n",
    "print(len(nodeset))  # should be 28\n",
    "print_tree(nodeset[0])"
   ]
  },
  {
   "cell_type": "markdown",
   "metadata": {},
   "source": [
    "**Example 4d** Find all nodes in `school` tagged `title`. Return a list of elements and print information from the first and last, to see that some \"title\" nodes refer to course titles and others refer to instructors' titles.\n",
    "\n",
    "We can distinguish the two types of `title` nodes by naming each of the three subtrees of `school` and then using paths relative to either `instructors` or `courses`."
   ]
  },
  {
   "cell_type": "code",
   "execution_count": 46,
   "metadata": {},
   "outputs": [
    {
     "name": "stdout",
     "output_type": "stream",
     "text": [
      "1196\n",
      "Length of nodeset result: 2\n",
      "Type: <class 'lxml.etree._Element'>\n",
      "Tag: title\n",
      "  Text: Beginning Arabic I\n",
      "  Attrib: {}\n",
      "\n",
      "Type: <class 'lxml.etree._Element'>\n",
      "Tag: title\n",
      "  Text: Vis. Ass't Prof. PT, Chemistry\n",
      "  Attrib: {}\n",
      "\n",
      "292\n",
      "292\n"
     ]
    }
   ],
   "source": [
    "nodeset = schroot.xpath(\"//title\")\n",
    "print(len(nodeset))\n",
    "print_results([nodeset[0]] + [nodeset[-1]])\n",
    "\n",
    "# Making the three subtrees\n",
    "dept_subtree = schroot[0]\n",
    "courses_subtree = schroot[1]\n",
    "instr_subtree = schroot[2]\n",
    "\n",
    "# Getting just the \"title\" nodes under instructors\n",
    "# Method 1\n",
    "nodeset = schroot.xpath(\"/school/instructors//title\")\n",
    "print(len(nodeset))\n",
    "\n",
    "# Method 2\n",
    "inst_nodeset = instr_subtree.xpath(\".//title\")\n",
    "print(len(inst_nodeset))  # same list as above!"
   ]
  },
  {
   "cell_type": "markdown",
   "metadata": {},
   "source": [
    "**Q4d** Use an XPath expression with `//` to find all nodes in `school` tagged instructorid. Why does this only match nodes under the `courses` subtree and not under the `instructors` subtree?"
   ]
  },
  {
   "cell_type": "code",
   "execution_count": 47,
   "metadata": {
    "deletable": false,
    "nbgrader": {
     "cell_type": "code",
     "checksum": "ff8bd16e2ad2298e7dc47e659f0a7929",
     "grade": true,
     "grade_id": "cell-c91dd08743d2e23b",
     "locked": false,
     "points": 0,
     "schema_version": 3,
     "solution": true,
     "task": false
    }
   },
   "outputs": [
    {
     "name": "stdout",
     "output_type": "stream",
     "text": [
      "1634\n",
      "<instructorid>D01349259</instructorid>\n",
      "      \n",
      "\n",
      "<instructorid>D01349036</instructorid>\n",
      "      \n",
      "\n"
     ]
    }
   ],
   "source": [
    "nodeset = schroot.xpath(\"//instructorid\")\n",
    "\n",
    "\n",
    "print(len(nodeset))  # should be 1634\n",
    "print_tree(nodeset[0])\n",
    "print_tree(nodeset[-1])\n",
    "\n",
    "# The tag instructorid only appears under courses\n",
    "# The tag id appears under instructors"
   ]
  },
  {
   "cell_type": "markdown",
   "metadata": {},
   "source": [
    "**Example 4e** Find the number of nodes, element nodes, text nodes, and attributes, in `indicators`."
   ]
  },
  {
   "cell_type": "code",
   "execution_count": 48,
   "metadata": {},
   "outputs": [
    {
     "name": "stdout",
     "output_type": "stream",
     "text": [
      "nodes:           65\n",
      "element nodes:   22\n",
      "text nodes:      43\n",
      "attributes:      12\n"
     ]
    }
   ],
   "source": [
    "print(\"nodes:          \", len(indroot.xpath(\"//node()\")))\n",
    "print(\"element nodes:  \", len(indroot.xpath(\"//*\")))\n",
    "print(\"text nodes:     \", len(indroot.xpath(\"//text()\")))\n",
    "print(\"attributes:     \", len(indroot.xpath(\"//@*\")))"
   ]
  },
  {
   "cell_type": "markdown",
   "metadata": {},
   "source": [
    "**Q4e** Find the number of nodes, element nodes, text nodes, and attributes, in `school`."
   ]
  },
  {
   "cell_type": "code",
   "execution_count": 49,
   "metadata": {
    "deletable": false,
    "nbgrader": {
     "cell_type": "code",
     "checksum": "429e8561440ea9d69675a159cc24e586",
     "grade": true,
     "grade_id": "cell-778ed23585b79811",
     "locked": false,
     "points": 0,
     "schema_version": 3,
     "solution": true,
     "task": false
    }
   },
   "outputs": [
    {
     "name": "stdout",
     "output_type": "stream",
     "text": [
      "nodes:           38991\n",
      "element nodes:   13008\n",
      "text nodes:      25983\n",
      "attributes:      4006\n"
     ]
    }
   ],
   "source": [
    "print(\"nodes:          \", len(schroot.xpath(\"//node()\")))\n",
    "print(\"element nodes:  \", len(schroot.xpath(\"//*\")))\n",
    "print(\"text nodes:     \", len(schroot.xpath(\"//text()\")))\n",
    "print(\"attributes:     \", len(schroot.xpath(\"//@*\")))\n",
    "\n",
    "# 38991 nodes, 13008 element nodes, 25983 text, 4006 attrib"
   ]
  },
  {
   "cell_type": "markdown",
   "metadata": {},
   "source": [
    "5. Match all nodes with a particular element + attribute combination\n",
    "\n",
    "    a. Can use `and`/`or` keywords inside a predicate.  \n",
    "    b. Can use `not` inside a predicate, to see if an attribute or child is present or not.  \n",
    "    c. Can use a **predicate that includes a path**, e.g., to match all nodes whose child (with given element specification) has a text or attribute matching some given value.  \n",
    "    d. Can use `|` between two XPath expressions to match one or the other (or both).\n",
    "    \n",
    "For this entire set, please refer to `school`.\n",
    "    \n",
    "**Example 5a** Find all course titles containing either 'Directed' or 'Independent'."
   ]
  },
  {
   "cell_type": "code",
   "execution_count": 50,
   "metadata": {},
   "outputs": [
    {
     "name": "stdout",
     "output_type": "stream",
     "text": [
      "150\n",
      "<title>Directed Study</title>\n",
      "      \n",
      "\n"
     ]
    }
   ],
   "source": [
    "nodeset = schroot.xpath(\n",
    "    \"/school/courses/course/title[contains(text(),'Directed') or contains(text(),'Independent')]\"\n",
    ")\n",
    "\n",
    "print(len(nodeset))\n",
    "print_tree(nodeset[0])"
   ]
  },
  {
   "cell_type": "markdown",
   "metadata": {},
   "source": [
    "**Q5a** Find all `departmentid` nodes under `instructors`, where the department is either MATH or BIOL.\n"
   ]
  },
  {
   "cell_type": "code",
   "execution_count": 64,
   "metadata": {
    "deletable": false,
    "nbgrader": {
     "cell_type": "code",
     "checksum": "8f4c23e7132d0b6d9cbb336128e878b6",
     "grade": true,
     "grade_id": "cell-d80bf438e8c795a7",
     "locked": false,
     "points": 0,
     "schema_version": 3,
     "solution": true,
     "task": false
    }
   },
   "outputs": [
    {
     "name": "stdout",
     "output_type": "stream",
     "text": [
      "29\n",
      "<departmentid>MATH</departmentid>\n",
      "      \n",
      "\n",
      "<departmentid>MATH</departmentid>\n",
      "      \n",
      "\n",
      "<departmentid>MATH</departmentid>\n",
      "      \n",
      "\n"
     ]
    }
   ],
   "source": [
    "nodeset = schroot.xpath(\n",
    "    \"/school/instructors/instructor/departmentid[contains(text(), 'MATH') or contains(text(), 'BIOL')]\"\n",
    ")\n",
    "\n",
    "\n",
    "print(len(nodeset))  # 29\n",
    "print_tree(nodeset[0])\n",
    "a = list(map(print_tree, nodeset[:2]))"
   ]
  },
  {
   "cell_type": "markdown",
   "metadata": {},
   "source": [
    "**Example 5b** Find all departments that do not have a chair listed."
   ]
  },
  {
   "cell_type": "code",
   "execution_count": 66,
   "metadata": {},
   "outputs": [
    {
     "ename": "XPathEvalError",
     "evalue": "Invalid expression",
     "output_type": "error",
     "traceback": [
      "\u001b[0;31m---------------------------------------------------------------------------\u001b[0m",
      "\u001b[0;31mXPathEvalError\u001b[0m                            Traceback (most recent call last)",
      "\u001b[0;32m/tmp/ipykernel_2755187/2566701311.py\u001b[0m in \u001b[0;36m<module>\u001b[0;34m\u001b[0m\n\u001b[0;32m----> 1\u001b[0;31m \u001b[0mnodeset\u001b[0m \u001b[0;34m=\u001b[0m \u001b[0mschroot\u001b[0m\u001b[0;34m.\u001b[0m\u001b[0mxpath\u001b[0m\u001b[0;34m(\u001b[0m\u001b[0;34m\"/school/departments/department[count(./subject/*)]) > 1]\"\u001b[0m\u001b[0;34m)\u001b[0m\u001b[0;34m\u001b[0m\u001b[0;34m\u001b[0m\u001b[0m\n\u001b[0m\u001b[1;32m      2\u001b[0m \u001b[0mprint\u001b[0m\u001b[0;34m(\u001b[0m\u001b[0mlen\u001b[0m\u001b[0;34m(\u001b[0m\u001b[0mnodeset\u001b[0m\u001b[0;34m)\u001b[0m\u001b[0;34m)\u001b[0m\u001b[0;34m\u001b[0m\u001b[0;34m\u001b[0m\u001b[0m\n\u001b[1;32m      3\u001b[0m \u001b[0mprint_tree\u001b[0m\u001b[0;34m(\u001b[0m\u001b[0mnodeset\u001b[0m\u001b[0;34m[\u001b[0m\u001b[0;36m0\u001b[0m\u001b[0;34m]\u001b[0m\u001b[0;34m)\u001b[0m\u001b[0;34m\u001b[0m\u001b[0;34m\u001b[0m\u001b[0m\n",
      "\u001b[0;32msrc/lxml/etree.pyx\u001b[0m in \u001b[0;36mlxml.etree._Element.xpath\u001b[0;34m()\u001b[0m\n",
      "\u001b[0;32msrc/lxml/xpath.pxi\u001b[0m in \u001b[0;36mlxml.etree.XPathElementEvaluator.__call__\u001b[0;34m()\u001b[0m\n",
      "\u001b[0;32msrc/lxml/xpath.pxi\u001b[0m in \u001b[0;36mlxml.etree._XPathEvaluatorBase._handle_result\u001b[0;34m()\u001b[0m\n",
      "\u001b[0;31mXPathEvalError\u001b[0m: Invalid expression"
     ]
    }
   ],
   "source": [
    "nodeset = schroot.xpath(\"/school/departments/department[not(chair)]\")\n",
    "print(len(nodeset))\n",
    "print_tree(nodeset[0])"
   ]
  },
  {
   "cell_type": "markdown",
   "metadata": {},
   "source": [
    "**Q5b** Find all departments that do have at least one subject node."
   ]
  },
  {
   "cell_type": "code",
   "execution_count": 72,
   "metadata": {
    "deletable": false,
    "nbgrader": {
     "cell_type": "code",
     "checksum": "8c9c8a3073fc68cb575fdee486c265ff",
     "grade": true,
     "grade_id": "cell-dd26b2472913f0ac",
     "locked": false,
     "points": 0,
     "schema_version": 3,
     "solution": true,
     "task": false
    }
   },
   "outputs": [
    {
     "name": "stdout",
     "output_type": "stream",
     "text": [
      "11\n",
      "<department id=\"ART\">\n",
      "      <name>Art History and Visual Culture</name>\n",
      "      <division>Fine Arts</division>\n",
      "      <subject id=\"ARTH\" name=\"Art History\"/>\n",
      "      <subject id=\"ARTS\" name=\"Art Studio\"/>\n",
      "    </department>\n",
      "    \n",
      "\n"
     ]
    }
   ],
   "source": [
    "nodeset = schroot.xpath(\"/school/departments/department[subject]\")\n",
    "\n",
    "\n",
    "print(len(nodeset))  # 11\n",
    "print_tree(nodeset[0])"
   ]
  },
  {
   "cell_type": "markdown",
   "metadata": {},
   "source": [
    "**Example 5c** Find all `course` nodes worth zero credits (i.e. where `hours` is 0.0). Here we are trying to match nodes with tag `course` based on the `text()` of a child with tag `hours`, so the predicate on `course` must include a path that goes one level deeper."
   ]
  },
  {
   "cell_type": "code",
   "execution_count": 73,
   "metadata": {},
   "outputs": [
    {
     "name": "stdout",
     "output_type": "stream",
     "text": [
      "32\n",
      "<course subject=\"BIOL\" num=\"300\">\n",
      "      <title>Biology Assessment I</title>\n",
      "      <hours>0.0</hours>\n",
      "      <class id=\"21089\">\n",
      "        <term>SPRING</term>\n",
      "        <section>01</section>\n",
      "        <instructorid>D00122772</instructorid>\n",
      "      </class>\n",
      "      <class id=\"40570\">\n",
      "        <term>FALL</term>\n",
      "        <section>01</section>\n",
      "        <instructorid>D00122772</instructorid>\n",
      "      </class>\n",
      "    </course>\n",
      "    \n",
      "\n"
     ]
    }
   ],
   "source": [
    "nodeset = schroot.xpath(\"/school/courses/course[hours[text() = '0.0']]\")\n",
    "print(len(nodeset))\n",
    "print_tree(nodeset[0])"
   ]
  },
  {
   "cell_type": "markdown",
   "metadata": {},
   "source": [
    "**Q5c** Find all `department` nodes where the `division` is 'Interdisciplinary'."
   ]
  },
  {
   "cell_type": "code",
   "execution_count": 75,
   "metadata": {
    "deletable": false,
    "nbgrader": {
     "cell_type": "code",
     "checksum": "0d1d073eea879d0b751fd972bdc22ee2",
     "grade": true,
     "grade_id": "cell-c984635ea0e8f780",
     "locked": false,
     "points": 0,
     "schema_version": 3,
     "solution": true,
     "task": false
    }
   },
   "outputs": [
    {
     "name": "stdout",
     "output_type": "stream",
     "text": [
      "13\n",
      "<department id=\"BLST\">\n",
      "      <name>Black Studies</name>\n",
      "      <division>Interdisciplinary</division>\n",
      "    </department>\n",
      "    \n",
      "\n"
     ]
    }
   ],
   "source": [
    "nodeset = schroot.xpath(\n",
    "    \"/school/departments/department[division[text() = 'Interdisciplinary']]\"\n",
    ")\n",
    "\n",
    "\n",
    "print(len(nodeset))  # 13\n",
    "print_tree(nodeset[0])"
   ]
  },
  {
   "cell_type": "markdown",
   "metadata": {},
   "source": [
    "**Example 5d** Find all courses where the subject is \"CS\" or there is a class section meeting `11:30-12:20 MWF` in the FALL term. This is the kind of query you might do during registration. In the example below, we break it into two separate queries, and use the `|` to get all entries matching either of them."
   ]
  },
  {
   "cell_type": "code",
   "execution_count": 81,
   "metadata": {},
   "outputs": [
    {
     "name": "stdout",
     "output_type": "stream",
     "text": [
      "17\n",
      "<course subject=\"CS\" num=\"110\">\n",
      "      <title>Computing/Digital Media</title>\n",
      "      <hours>4.0</hours>\n",
      "      <class id=\"21709\">\n",
      "        <term>SPRING</term>\n",
      "        <section>01</section>\n",
      "        <meeting>10:30-11:20 MWRF</meeting>\n",
      "        <instructorid>D01014580</instructorid>\n",
      "      </class>\n",
      "      <class id=\"40336\">\n",
      "        <term>FALL</term>\n",
      "        <section>01</section>\n",
      "        <meeting>10:30-11:20 MWRF</meeting>\n",
      "        <instructorid>D01014580</instructorid>\n",
      "      </class>\n",
      "      <class id=\"40744\">\n",
      "        <term>FALL</term>\n",
      "        <section>02</section>\n",
      "        <meeting>08:30-09:20 MWRF</meeting>\n",
      "        <instructorid>D01014580</instructorid>\n",
      "      </class>\n",
      "    </course>\n",
      "    \n",
      "\n"
     ]
    }
   ],
   "source": [
    "nodeset = schroot.xpath(\n",
    "    \"\"\"\n",
    "/school/courses/course[@subject='CS'] | \n",
    "/school/courses/course[class/meeting[text()='11:30-12:20 MWF'] and term[text()='FALL']]\n",
    "\"\"\"\n",
    ")\n",
    "print(len(nodeset))\n",
    "print_tree(nodeset[0])"
   ]
  },
  {
   "cell_type": "markdown",
   "metadata": {},
   "source": [
    "**Q5d** Find all `course` nodes where either there is a class section with instructor id is 'D01014580' or where the title contains 'Computer'."
   ]
  },
  {
   "cell_type": "code",
   "execution_count": 87,
   "metadata": {
    "deletable": false,
    "nbgrader": {
     "cell_type": "code",
     "checksum": "4a996bdc89380cab1540172cac1a0158",
     "grade": true,
     "grade_id": "cell-02c0170aba9e040e",
     "locked": false,
     "points": 0,
     "schema_version": 3,
     "solution": true,
     "task": false
    }
   },
   "outputs": [
    {
     "name": "stdout",
     "output_type": "stream",
     "text": [
      "6\n",
      "<course subject=\"CS\" num=\"110\">\n",
      "      <title>Computing/Digital Media</title>\n",
      "      <hours>4.0</hours>\n",
      "      <class id=\"21709\">\n",
      "        <term>SPRING</term>\n",
      "        <section>01</section>\n",
      "        <meeting>10:30-11:20 MWRF</meeting>\n",
      "        <instructorid>D01014580</instructorid>\n",
      "      </class>\n",
      "      <class id=\"40336\">\n",
      "        <term>FALL</term>\n",
      "        <section>01</section>\n",
      "        <meeting>10:30-11:20 MWRF</meeting>\n",
      "        <instructorid>D01014580</instructorid>\n",
      "      </class>\n",
      "      <class id=\"40744\">\n",
      "        <term>FALL</term>\n",
      "        <section>02</section>\n",
      "        <meeting>08:30-09:20 MWRF</meeting>\n",
      "        <instructorid>D01014580</instructorid>\n",
      "      </class>\n",
      "    </course>\n",
      "    \n",
      "\n"
     ]
    }
   ],
   "source": [
    "nodeset = schroot.xpath(\n",
    "    \"\"\"\n",
    "    /school/courses/course[class/instructorid[text() = 'D01014580']] |\n",
    "    /school/courses/course[title[contains(text(), 'Computer')]]\n",
    "\"\"\"\n",
    ")\n",
    "\n",
    "\n",
    "print(len(nodeset))  # 6\n",
    "print_tree(nodeset[0])"
   ]
  },
  {
   "cell_type": "markdown",
   "metadata": {},
   "source": [
    "6. Climb back up the tree from a nodeset by adding a parent specification (`..`) to the set of found nodes, or by using the axis `ancestor` to climb up more levels.\n",
    "\n",
    "**Example 6a** Find the first and last names of all instructors who live in Columbus. Do this via a path to `city` and then backtracking."
   ]
  },
  {
   "cell_type": "code",
   "execution_count": 88,
   "metadata": {},
   "outputs": [
    {
     "name": "stdout",
     "output_type": "stream",
     "text": [
      "56\n",
      "<first>Mitchell</first>\n",
      "      \n",
      "\n",
      "<last>Snay</last>\n",
      "      \n",
      "\n"
     ]
    }
   ],
   "source": [
    "nodeset = schroot.xpath(\n",
    "    \"\"\"\n",
    "/school/instructors/instructor/city[text() = 'Columbus']/../first | \n",
    "/school/instructors/instructor/city[text() = 'Columbus']/../last\n",
    "\"\"\"\n",
    ")\n",
    "print(len(nodeset))\n",
    "print_tree(nodeset[0])\n",
    "print_tree(nodeset[1])"
   ]
  },
  {
   "cell_type": "markdown",
   "metadata": {},
   "source": [
    "**Q6a** Find all `course` nodes where `title` contains 'Computer'. Do this with an XPath that leads to `title` then backtracks."
   ]
  },
  {
   "cell_type": "code",
   "execution_count": 96,
   "metadata": {
    "deletable": false,
    "nbgrader": {
     "cell_type": "code",
     "checksum": "861eb2b6f8684b4d6bcff039e11bcb0c",
     "grade": true,
     "grade_id": "cell-41ed248db3d12779",
     "locked": false,
     "points": 0,
     "schema_version": 3,
     "solution": true,
     "task": false
    }
   },
   "outputs": [
    {
     "name": "stdout",
     "output_type": "stream",
     "text": [
      "4\n",
      "<course subject=\"CS\" num=\"173\">\n",
      "      <title>Intermediate Computer Science</title>\n",
      "      <hours>4.0</hours>\n",
      "      <class id=\"21711\">\n",
      "        <term>SPRING</term>\n",
      "        <section>01</section>\n",
      "        <meeting>11:30-12:20 MTWF</meeting>\n",
      "        <instructorid>D00118952</instructorid>\n",
      "      </class>\n",
      "    </course>\n",
      "    \n",
      "\n"
     ]
    }
   ],
   "source": [
    "nodeset = schroot.xpath(\"/school/courses/course/title[contains(text(), 'Computer')]/..\")\n",
    "\n",
    "\n",
    "print(len(nodeset))  # 4\n",
    "print_tree(nodeset[0])"
   ]
  },
  {
   "cell_type": "markdown",
   "metadata": {},
   "source": [
    "**Example 6a** Use `ancestor` to find all nodes along the path to the course title of 'Empowering Girls/Literature'."
   ]
  },
  {
   "cell_type": "code",
   "execution_count": 97,
   "metadata": {},
   "outputs": [
    {
     "name": "stdout",
     "output_type": "stream",
     "text": [
      "Length of nodeset result: 3\n",
      "Type: <class 'lxml.etree._Element'>\n",
      "Tag: school\n",
      "  Text: \n",
      "  \n",
      "  Attrib: {}\n",
      "\n",
      "Type: <class 'lxml.etree._Element'>\n",
      "Tag: courses\n",
      "  Text: \n",
      "    \n",
      "  Attrib: {}\n",
      "\n",
      "Type: <class 'lxml.etree._Element'>\n",
      "Tag: course\n",
      "  Text: \n",
      "      \n",
      "  Attrib: {'subject': 'WMST', 'num': '390'}\n",
      "\n"
     ]
    }
   ],
   "source": [
    "nodeset = schroot.xpath(\n",
    "    \"\"\"\n",
    "//title[text()='Empowering Girls/Literature']/ancestor::*\n",
    "\"\"\"\n",
    ")\n",
    "print_results(nodeset)"
   ]
  },
  {
   "cell_type": "markdown",
   "metadata": {},
   "source": [
    "**Q6b** Use `ancestor` to find all nodes along the path to the datum where the top male name was 'David'.\n"
   ]
  },
  {
   "cell_type": "code",
   "execution_count": 100,
   "metadata": {
    "deletable": false,
    "nbgrader": {
     "cell_type": "code",
     "checksum": "7119c32e56c0b720e01145909f3c2474",
     "grade": true,
     "grade_id": "cell-e0ce4f17a7400a61",
     "locked": false,
     "points": 0,
     "schema_version": 3,
     "solution": true,
     "task": false
    }
   },
   "outputs": [
    {
     "name": "stdout",
     "output_type": "stream",
     "text": [
      "Length of nodeset result: 3\n",
      "Type: <class 'lxml.etree._Element'>\n",
      "Tag: topnames\n",
      "  Text: \n",
      "  \n",
      "  Attrib: {}\n",
      "\n",
      "Type: <class 'lxml.etree._Element'>\n",
      "Tag: year\n",
      "  Text: \n",
      "    \n",
      "  Attrib: {'value': '1960'}\n",
      "\n",
      "Type: <class 'lxml.etree._Element'>\n",
      "Tag: sex\n",
      "  Text: \n",
      "      \n",
      "  Attrib: {'value': 'Male'}\n",
      "\n"
     ]
    }
   ],
   "source": [
    "nodeset = toproot.xpath(\n",
    "    \"/topnames/year/sex[@value = 'Male']/name[text() = 'David']/ancestor::*\"\n",
    ")\n",
    "\n",
    "\n",
    "print_results(nodeset)  # 3 on the path"
   ]
  },
  {
   "cell_type": "markdown",
   "metadata": {},
   "source": [
    "**Q6c** Find all departments that offer courses that meet `'08:30-09:20 MWF'`. Hint: navigate to `meeting` nodes satisfying the condition, then back up (more than once!) to the `course` level, then extract the `subject` attribute."
   ]
  },
  {
   "cell_type": "code",
   "execution_count": 103,
   "metadata": {
    "deletable": false,
    "nbgrader": {
     "cell_type": "code",
     "checksum": "d5c36ceb93d377de0f93efb496f4012b",
     "grade": true,
     "grade_id": "cell-51df1134c7396c1d",
     "locked": false,
     "points": 0,
     "schema_version": 3,
     "solution": true,
     "task": false
    }
   },
   "outputs": [
    {
     "name": "stdout",
     "output_type": "stream",
     "text": [
      "29\n",
      "BIOL\n"
     ]
    }
   ],
   "source": [
    "nodeset = schroot.xpath(\n",
    "    \"/school/courses/course/class/meeting[text() = '08:30-09:20 MWF']/../../@subject\"\n",
    ")\n",
    "\n",
    "\n",
    "print(len(nodeset))  # 29\n",
    "print(nodeset[0])"
   ]
  },
  {
   "cell_type": "markdown",
   "metadata": {},
   "source": [
    "## Using XPath to Build a Data Frame\n",
    "\n",
    "We have previously seen how to build a `pandas` dataframe using XML programming, by iterating over the children of an Element. We now show how to accomplish the same goal using XPath. We take as our example `indicators0`. The plan is:\n",
    "\n",
    "1. Use XPath to give a list of values of country code  \n",
    "2. For each, use XPath to give a list of years.  \n",
    "3. For every (code,year) pair, use XPath to find the associated name, pop, and gdp. \n",
    "\n",
    "We break this into a series of functions. The reader is encouraged to peek ahead to see how these functions will be used in the final solution."
   ]
  },
  {
   "cell_type": "markdown",
   "metadata": {},
   "source": [
    "**Q7** Write a function `getCodeList(root)` that uses an XPath expression to return a list of codes that appear in the `indicators` tree given by the Element `root` (e.g., this could be `ind0` or the full dataset). Your function should return a list of strings."
   ]
  },
  {
   "cell_type": "code",
   "execution_count": 106,
   "metadata": {
    "deletable": false,
    "nbgrader": {
     "cell_type": "code",
     "checksum": "5d946fb298daeacca004e43f5ca88978",
     "grade": true,
     "grade_id": "cell-c4003ae1cd43409c",
     "locked": false,
     "points": 0,
     "schema_version": 3,
     "solution": true,
     "task": false
    }
   },
   "outputs": [],
   "source": [
    "def getCodeList(root):\n",
    "    return root.xpath(\"/indicators/country/@code\")\n",
    "\n",
    "\n",
    "assert getCodeList(indroot) == [\"FRA\", \"GBR\", \"USA\"]"
   ]
  },
  {
   "cell_type": "markdown",
   "metadata": {},
   "source": [
    "**Q8** Write a function `getName(root,code)` that gets the `name` associated with a given `code` in a tree given by the Element `root`. Your function should return a string. Your function MUST use XPath. For example, `getName(indroot,'FRA')` navigates the path `/indicators/country[@code='FRA']/@name` to extract the name associated with the code 'FRA'. Hint: you can create the correct XPath expression using a format string."
   ]
  },
  {
   "cell_type": "code",
   "execution_count": 115,
   "metadata": {
    "deletable": false,
    "nbgrader": {
     "cell_type": "code",
     "checksum": "b803e017afe4dafdb4bdfed9cd05bfb2",
     "grade": true,
     "grade_id": "cell-bf5f694b5f89c8da",
     "locked": false,
     "points": 0,
     "schema_version": 3,
     "solution": true,
     "task": false
    },
    "tags": []
   },
   "outputs": [
    {
     "data": {
      "text/plain": [
       "'France'"
      ]
     },
     "execution_count": 115,
     "metadata": {},
     "output_type": "execute_result"
    }
   ],
   "source": [
    "def getName(root, code):\n",
    "    return root.xpath(\"/indicators/country[@code = '{}']/@name\".format(code))[0]\n",
    "\n",
    "\n",
    "assert getName(indroot, \"FRA\") == \"France\"\n",
    "getName(indroot, \"FRA\")"
   ]
  },
  {
   "cell_type": "markdown",
   "metadata": {},
   "source": [
    "**Q9** Write a function `getYearList(root,code)` that gets the list of years that appear as attributes of the `timedata` children of the country node given by `code` in  the tree given by the Element `root`. Your function should return a list of strings, e.g., `['2007','2017']`. Your function MUST use XPath. Hint: you can create the correct XPath expression using a format string."
   ]
  },
  {
   "cell_type": "code",
   "execution_count": 117,
   "metadata": {
    "deletable": false,
    "nbgrader": {
     "cell_type": "code",
     "checksum": "eb3cd1fe5197d5113f37aefa66ea0c8e",
     "grade": true,
     "grade_id": "cell-2c984f037e2e57aa",
     "locked": false,
     "points": 0,
     "schema_version": 3,
     "solution": true,
     "task": false
    }
   },
   "outputs": [
    {
     "data": {
      "text/plain": [
       "['2007', '2017']"
      ]
     },
     "execution_count": 117,
     "metadata": {},
     "output_type": "execute_result"
    }
   ],
   "source": [
    "def getYearList(root, code):\n",
    "    return root.xpath(\"/indicators/country[@code = '{}']/timedata/@year\".format(code))\n",
    "\n",
    "\n",
    "assert getYearList(indroot, \"FRA\") == [\"2007\", \"2017\"]\n",
    "getYearList(indroot, \"USA\")"
   ]
  },
  {
   "cell_type": "markdown",
   "metadata": {},
   "source": [
    "**Q10** Write a function `getValue(root,code,year,var)` that gets the value (as a float) of the given variable along the given path. Your function MUST use XPath. For example, `getValue(indroot,'FRA','2007','pop')` traverses the path `/indicators/country[@code='FRA']/timedata[@year='2007']/pop/text()` then casts the resulting string as a float and returns it. Hint: you can create the correct XPath expression using a format string."
   ]
  },
  {
   "cell_type": "code",
   "execution_count": 127,
   "metadata": {
    "deletable": false,
    "nbgrader": {
     "cell_type": "code",
     "checksum": "65446eb1b73027e542dd5ed35f5a101e",
     "grade": true,
     "grade_id": "cell-977915bf290e5104",
     "locked": false,
     "points": 0,
     "schema_version": 3,
     "solution": true,
     "task": false
    }
   },
   "outputs": [
    {
     "name": "stdout",
     "output_type": "stream",
     "text": [
      "64.02\n",
      "19485.4\n"
     ]
    }
   ],
   "source": [
    "def getValue(root, code, year, var):\n",
    "    return float(\n",
    "        root.xpath(\n",
    "            \"/indicators/country[@code = '{}']/timedata[@year = '{}']/{}/text()\".format(\n",
    "                code, year, var\n",
    "            )\n",
    "        )[0]\n",
    "    )\n",
    "\n",
    "\n",
    "print(getValue(indroot, \"FRA\", \"2007\", \"pop\"))  # 64.02\n",
    "print(getValue(indroot, \"USA\", \"2017\", \"gdp\"))  # 19485.4"
   ]
  },
  {
   "cell_type": "markdown",
   "metadata": {},
   "source": [
    "**Q11** For the final step, write a function `ind2df(root)` that takes a given Element `root` representing an indicators tree, and produces the corresponding `pandas` dataframe, with index `['code','year']`. Please follow the plan laid out at the start:\n",
    "\n",
    "1. Invoke `getCodeList()` to get a list of country codes  \n",
    "2. For each, use `getYearList()` to give a list of years.  \n",
    "3. Iterate over `(code,year)` pairs, and use `getValue()` to fill a `LoD` with the data.  \n",
    "4. Pass that `LoD` to pandas to create and return the dataframe.  \n",
    "\n",
    "Hint: when the root is `indroot`, the first dictionary in my LoD is `{'code': 'FRA', 'name': 'France', 'year': '2007', 'pop': 64.02, 'gdp': 2657.21}`\n"
   ]
  },
  {
   "cell_type": "code",
   "execution_count": 144,
   "metadata": {
    "deletable": false,
    "nbgrader": {
     "cell_type": "code",
     "checksum": "5949b61d8361b566ef4a0c1965f84606",
     "grade": true,
     "grade_id": "cell-3d639a5da96a0717",
     "locked": false,
     "points": 0,
     "schema_version": 3,
     "solution": true,
     "task": false
    }
   },
   "outputs": [
    {
     "data": {
      "text/html": [
       "<div>\n",
       "<style scoped>\n",
       "    .dataframe tbody tr th:only-of-type {\n",
       "        vertical-align: middle;\n",
       "    }\n",
       "\n",
       "    .dataframe tbody tr th {\n",
       "        vertical-align: top;\n",
       "    }\n",
       "\n",
       "    .dataframe thead th {\n",
       "        text-align: right;\n",
       "    }\n",
       "</style>\n",
       "<table border=\"1\" class=\"dataframe\">\n",
       "  <thead>\n",
       "    <tr style=\"text-align: right;\">\n",
       "      <th></th>\n",
       "      <th></th>\n",
       "      <th>name</th>\n",
       "      <th>pop</th>\n",
       "      <th>gdp</th>\n",
       "    </tr>\n",
       "    <tr>\n",
       "      <th>code</th>\n",
       "      <th>year</th>\n",
       "      <th></th>\n",
       "      <th></th>\n",
       "      <th></th>\n",
       "    </tr>\n",
       "  </thead>\n",
       "  <tbody>\n",
       "    <tr>\n",
       "      <th rowspan=\"2\" valign=\"top\">FRA</th>\n",
       "      <th>2017</th>\n",
       "      <td>France</td>\n",
       "      <td>66.87</td>\n",
       "      <td>2586.29</td>\n",
       "    </tr>\n",
       "    <tr>\n",
       "      <th>2017</th>\n",
       "      <td>France</td>\n",
       "      <td>66.87</td>\n",
       "      <td>2586.29</td>\n",
       "    </tr>\n",
       "    <tr>\n",
       "      <th rowspan=\"2\" valign=\"top\">GBR</th>\n",
       "      <th>2017</th>\n",
       "      <td>United Kingdom</td>\n",
       "      <td>66.06</td>\n",
       "      <td>2637.87</td>\n",
       "    </tr>\n",
       "    <tr>\n",
       "      <th>2017</th>\n",
       "      <td>United Kingdom</td>\n",
       "      <td>66.06</td>\n",
       "      <td>2637.87</td>\n",
       "    </tr>\n",
       "    <tr>\n",
       "      <th rowspan=\"2\" valign=\"top\">USA</th>\n",
       "      <th>2017</th>\n",
       "      <td>United States</td>\n",
       "      <td>325.15</td>\n",
       "      <td>19485.4</td>\n",
       "    </tr>\n",
       "    <tr>\n",
       "      <th>2017</th>\n",
       "      <td>United States</td>\n",
       "      <td>325.15</td>\n",
       "      <td>19485.4</td>\n",
       "    </tr>\n",
       "  </tbody>\n",
       "</table>\n",
       "</div>"
      ],
      "text/plain": [
       "                     name     pop      gdp\n",
       "code year                                 \n",
       "FRA  2017          France   66.87  2586.29\n",
       "     2017          France   66.87  2586.29\n",
       "GBR  2017  United Kingdom   66.06  2637.87\n",
       "     2017  United Kingdom   66.06  2637.87\n",
       "USA  2017   United States  325.15  19485.4\n",
       "     2017   United States  325.15  19485.4"
      ]
     },
     "execution_count": 144,
     "metadata": {},
     "output_type": "execute_result"
    }
   ],
   "source": [
    "def ind2df(root):\n",
    "    LoD = []\n",
    "    code_list = getCodeList(root)\n",
    "    for code in code_list:\n",
    "        row = {\"code\": code}\n",
    "        row[\"name\"] = getName(root, code)\n",
    "\n",
    "        year_list = getYearList(root, code)\n",
    "        for year in year_list:\n",
    "            row[\"year\"] = year\n",
    "            row[\"pop\"] = getValue(root, code, year, \"pop\")\n",
    "            row[\"gdp\"] = getValue(root, code, year, \"gdp\")\n",
    "            LoD.append(row)\n",
    "\n",
    "    df = pd.DataFrame(LoD)\n",
    "    df.set_index([\"code\", \"year\"], inplace=True)\n",
    "    return df\n",
    "\n",
    "\n",
    "df = ind2df(indroot)\n",
    "df"
   ]
  },
  {
   "cell_type": "code",
   "execution_count": 143,
   "metadata": {
    "deletable": false,
    "editable": false,
    "nbgrader": {
     "cell_type": "code",
     "checksum": "e3ee1eec85911728cfd5b01833fa680e",
     "grade": true,
     "grade_id": "cell-6ae351e1b2016497",
     "locked": true,
     "points": 0,
     "schema_version": 3,
     "solution": false,
     "task": false
    }
   },
   "outputs": [],
   "source": [
    "assert df.shape == (6, 3)"
   ]
  },
  {
   "cell_type": "code",
   "execution_count": null,
   "metadata": {},
   "outputs": [],
   "source": []
  }
 ],
 "metadata": {
  "kernelspec": {
   "display_name": "Python 3 (ipykernel)",
   "language": "python",
   "name": "python3"
  },
  "language_info": {
   "codemirror_mode": {
    "name": "ipython",
    "version": 3
   },
   "file_extension": ".py",
   "mimetype": "text/x-python",
   "name": "python",
   "nbconvert_exporter": "python",
   "pygments_lexer": "ipython3",
   "version": "3.8.10"
  }
 },
 "nbformat": 4,
 "nbformat_minor": 4
}

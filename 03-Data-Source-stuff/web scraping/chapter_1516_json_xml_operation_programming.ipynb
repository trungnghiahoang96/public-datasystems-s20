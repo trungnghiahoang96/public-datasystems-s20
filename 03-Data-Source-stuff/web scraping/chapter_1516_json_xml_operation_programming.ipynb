{
 "cells": [
  {
   "cell_type": "code",
   "execution_count": null,
   "id": "d01903ab-7f44-4874-94c7-f75424b99b79",
   "metadata": {},
   "outputs": [],
   "source": [
    "import json\n",
    "\n",
    "import util\n",
    "from lxml import etree\n",
    "\n",
    "# a print_data() and print_xml()."
   ]
  },
  {
   "cell_type": "code",
   "execution_count": null,
   "id": "1c4f7af7-4267-4e47-94cb-78287e15c229",
   "metadata": {},
   "outputs": [],
   "source": []
  },
  {
   "cell_type": "code",
   "execution_count": null,
   "id": "cb061bc2-f913-4dfb-9748-2e37bd49371e",
   "metadata": {},
   "outputs": [],
   "source": []
  },
  {
   "cell_type": "code",
   "execution_count": 31,
   "id": "d0ec55de-f544-4f5f-a43b-83ea4e1c19d5",
   "metadata": {},
   "outputs": [],
   "source": [
    "from lxml import etree\n",
    "\n",
    "datadir = \"04_16-first/public_data\"\n",
    "pathInd = os.path.join(datadir, \"ind0.xml\")\n",
    "stripparser = etree.XMLParser(remove_blank_text=True)\n",
    "indtree = etree.parse(pathInd, stripparser)\n",
    "indroot = indtree.getroot()"
   ]
  },
  {
   "cell_type": "code",
   "execution_count": 32,
   "id": "b21a0c23-2f1f-4ef6-bb17-bbeadf907f70",
   "metadata": {},
   "outputs": [
    {
     "name": "stdout",
     "output_type": "stream",
     "text": [
      "Type: <class 'lxml.etree._Element'> Length: 3\n"
     ]
    }
   ],
   "source": [
    "print(\"Type:\", type(indroot), \"Length:\", len(indroot))"
   ]
  },
  {
   "cell_type": "code",
   "execution_count": 33,
   "id": "faa7dbd5-1617-4b2d-8a33-7abdc0b6a6ba",
   "metadata": {},
   "outputs": [
    {
     "name": "stdout",
     "output_type": "stream",
     "text": [
      "Root Tag: indicators\n"
     ]
    }
   ],
   "source": [
    "print(\"Root Tag:\", indroot.tag)"
   ]
  },
  {
   "cell_type": "code",
   "execution_count": 34,
   "id": "ac0eb494-5bbb-446d-aa0b-dbb8c75e31a3",
   "metadata": {},
   "outputs": [
    {
     "name": "stdout",
     "output_type": "stream",
     "text": [
      "Root Element Attributes {}\n"
     ]
    }
   ],
   "source": [
    "print(\"Root Element Attributes\", indroot.attrib)"
   ]
  },
  {
   "cell_type": "code",
   "execution_count": 35,
   "id": "79bdede5-d30c-49d5-babb-77fad30437eb",
   "metadata": {},
   "outputs": [
    {
     "name": "stdout",
     "output_type": "stream",
     "text": [
      "<indicators>\n",
      "  <country code=\"FRA\" name=\"France\">\n",
      "    <timedata year=\"2007\">\n",
      "      <pop>64.02</pop>\n",
      "      <gdp>2657.21</gdp>\n",
      "    </timedata>\n",
      "    <timedata year=\"2017\">\n",
      "      <pop>66.87</pop>\n",
      "      <gdp>2586.29</gdp>\n",
      "    </timedata>\n",
      "  </country>\n",
      "  <country code=\"GBR\" name=\"United Kingdom\">\n",
      "    <timedata year=\"2007\">\n",
      "      <pop>61.32</pop>\n",
      "      <gdp>3084.12</gdp>\n",
      "    </timedata>\n",
      "    <timedata year=\"2017\">\n",
      "      <pop>66.06</pop>\n",
      "      <gdp>2637.87</gdp>\n",
      "    </timedata>\n",
      "  </country>\n",
      "  <country code=\"USA\" name=\"United States\">\n",
      "    <timedata year=\"2007\">\n",
      "      <pop>301.23</pop>\n",
      "      <gdp>14451.9</gdp>\n",
      "    </timedata>\n",
      "    <timedata year=\"2017\">\n",
      "      <pop>325.15</pop>\n",
      "      <gdp>19485.4</gdp>\n",
      "    </timedata>\n",
      "  </country>\n",
      "</indicators>\n",
      "\n"
     ]
    }
   ],
   "source": [
    "s = etree.tostring(indroot, pretty_print=True).decode(\"utf-8\")\n",
    "print(s)"
   ]
  },
  {
   "cell_type": "code",
   "execution_count": 25,
   "id": "5995042d-9870-430e-b3b9-3e99a4151fc0",
   "metadata": {},
   "outputs": [
    {
     "data": {
      "text/plain": [
       "{'code': 'FRA', 'name': 'France'}"
      ]
     },
     "execution_count": 25,
     "metadata": {},
     "output_type": "execute_result"
    }
   ],
   "source": [
    "findCountry = indroot.find(\"country\")\n",
    "findCountry.attrib"
   ]
  },
  {
   "cell_type": "code",
   "execution_count": 26,
   "id": "46aa99ff-bea9-472c-935d-7cd61e52b7c5",
   "metadata": {},
   "outputs": [
    {
     "data": {
      "text/plain": [
       "{'code': 'GBR', 'name': 'United Kingdom'}"
      ]
     },
     "execution_count": 26,
     "metadata": {},
     "output_type": "execute_result"
    }
   ],
   "source": [
    "nextCountry = findCountry.getnext()\n",
    "nextCountry.attrib"
   ]
  },
  {
   "cell_type": "code",
   "execution_count": 28,
   "id": "e3f4829d-37e5-44a4-b327-7662d2eb537c",
   "metadata": {},
   "outputs": [
    {
     "data": {
      "text/plain": [
       "[<Element country at 0x7fae06543f80>,\n",
       " <Element country at 0x7fae45d255c0>,\n",
       " <Element country at 0x7fae064d2a40>]"
      ]
     },
     "execution_count": 28,
     "metadata": {},
     "output_type": "execute_result"
    }
   ],
   "source": [
    "countrylist = indroot.findall(\"country\")\n",
    "countrylist"
   ]
  },
  {
   "cell_type": "code",
   "execution_count": null,
   "id": "c22fb1c6-70a2-417d-88d0-ec14c88b3aad",
   "metadata": {},
   "outputs": [],
   "source": []
  },
  {
   "cell_type": "code",
   "execution_count": 45,
   "id": "cfcc1c14-ea2b-410e-956b-242225ebbcee",
   "metadata": {},
   "outputs": [
    {
     "data": {
      "text/plain": [
       "<module 'util' from '/home/nghiaht7/data-engineer/public-datasystems-s20/03-Data-Source-stuff/web scraping/util.py'>"
      ]
     },
     "execution_count": 45,
     "metadata": {},
     "output_type": "execute_result"
    }
   ],
   "source": [
    "import importlib\n",
    "import json\n",
    "\n",
    "import util\n",
    "from lxml import etree\n",
    "\n",
    "importlib.reload(util)"
   ]
  },
  {
   "cell_type": "code",
   "execution_count": null,
   "id": "935ba438-395d-4cc5-9290-4df6fd79a7bd",
   "metadata": {},
   "outputs": [],
   "source": []
  },
  {
   "cell_type": "markdown",
   "id": "119ce1ab-8f31-4d43-9165-77f12a8927fd",
   "metadata": {},
   "source": [
    "## **JSON**"
   ]
  },
  {
   "cell_type": "code",
   "execution_count": 46,
   "id": "5255c5fd-1428-46e5-b161-9ab652cc17b8",
   "metadata": {},
   "outputs": [],
   "source": [
    "path = os.path.join(\"ind2016.json\")\n",
    "with open(path) as f:\n",
    "    ind2016 = json.load(f)"
   ]
  },
  {
   "cell_type": "code",
   "execution_count": 50,
   "id": "15456914-cdd8-42fd-8568-fa0ff061047c",
   "metadata": {},
   "outputs": [
    {
     "name": "stdout",
     "output_type": "stream",
     "text": [
      "     {\n",
      "      \"CAN\": \n",
      "       {\n",
      "        \"country\": \"Canada\"\n",
      "        \"pop\": 36.26\n",
      "        \"gdp\": 1535.77\n",
      "        \"life\": 82.3\n",
      "        \"cell\": 30.75\n",
      "       }\n",
      "      \"CHN\": \n",
      "       {\n",
      "        \"country\": \"China\"\n",
      "        \"pop\": 1378.66\n",
      "        \"gdp\": 11199.15\n",
      "        \"life\": 76.25\n",
      "        \"cell\": 1364.93\n",
      "       }\n",
      "      \"IND\": \n",
      "       {\n",
      "        \"country\": \"India\"\n",
      "        \"pop\": 1324.17\n",
      "        \"gdp\": 2263.79\n",
      "        \"life\": 68.56\n",
      "        \"cell\": 1127.81\n",
      "       }\n",
      "      \"RUS\": \n",
      "       {\n",
      "        \"country\": \"Russia\"\n",
      "        \"pop\": 144.34\n",
      "        \"gdp\": 1283.16\n",
      "        \"life\": 71.59\n",
      "        \"cell\": 229.13\n",
      "       }\n",
      "      \"USA\": \n",
      "       {\n",
      "        \"country\": \"United States\"\n",
      "        \"pop\": 323.13\n",
      "        \"gdp\": 18624.47\n",
      "        \"life\": 78.69\n",
      "        \"cell\": 395.88\n",
      "       }\n",
      "       ...\n",
      "     }\n"
     ]
    }
   ],
   "source": [
    "util.print_json(ind2016, 2)"
   ]
  },
  {
   "cell_type": "code",
   "execution_count": 51,
   "id": "67f316a7-80f7-4145-8956-2a52fe345106",
   "metadata": {},
   "outputs": [
    {
     "data": {
      "text/plain": [
       "dict_items([('CAN', {'country': 'Canada', 'pop': 36.26, 'gdp': 1535.77, 'life': 82.3, 'cell': 30.75}), ('CHN', {'country': 'China', 'pop': 1378.66, 'gdp': 11199.15, 'life': 76.25, 'cell': 1364.93}), ('IND', {'country': 'India', 'pop': 1324.17, 'gdp': 2263.79, 'life': 68.56, 'cell': 1127.81}), ('RUS', {'country': 'Russia', 'pop': 144.34, 'gdp': 1283.16, 'life': 71.59, 'cell': 229.13}), ('USA', {'country': 'United States', 'pop': 323.13, 'gdp': 18624.47, 'life': 78.69, 'cell': 395.88}), ('VNM', {'country': 'Vietnam', 'pop': 94.57, 'gdp': 205.28, 'life': 76.25, 'cell': 120.6})])"
      ]
     },
     "execution_count": 51,
     "metadata": {},
     "output_type": "execute_result"
    }
   ],
   "source": [
    "ind2016.items()"
   ]
  },
  {
   "cell_type": "code",
   "execution_count": 59,
   "id": "9e6bd832-dd5b-486f-81c1-c6d3ad462ffc",
   "metadata": {},
   "outputs": [
    {
     "data": {
      "text/html": [
       "<div>\n",
       "<style scoped>\n",
       "    .dataframe tbody tr th:only-of-type {\n",
       "        vertical-align: middle;\n",
       "    }\n",
       "\n",
       "    .dataframe tbody tr th {\n",
       "        vertical-align: top;\n",
       "    }\n",
       "\n",
       "    .dataframe thead th {\n",
       "        text-align: right;\n",
       "    }\n",
       "</style>\n",
       "<table border=\"1\" class=\"dataframe\">\n",
       "  <thead>\n",
       "    <tr style=\"text-align: right;\">\n",
       "      <th></th>\n",
       "      <th>country</th>\n",
       "      <th>pop</th>\n",
       "      <th>gdp</th>\n",
       "      <th>life</th>\n",
       "      <th>cell</th>\n",
       "      <th>code</th>\n",
       "    </tr>\n",
       "  </thead>\n",
       "  <tbody>\n",
       "    <tr>\n",
       "      <th>0</th>\n",
       "      <td>Canada</td>\n",
       "      <td>36.26</td>\n",
       "      <td>1535.77</td>\n",
       "      <td>82.30</td>\n",
       "      <td>30.75</td>\n",
       "      <td>CAN</td>\n",
       "    </tr>\n",
       "    <tr>\n",
       "      <th>1</th>\n",
       "      <td>China</td>\n",
       "      <td>1378.66</td>\n",
       "      <td>11199.15</td>\n",
       "      <td>76.25</td>\n",
       "      <td>1364.93</td>\n",
       "      <td>CHN</td>\n",
       "    </tr>\n",
       "    <tr>\n",
       "      <th>2</th>\n",
       "      <td>India</td>\n",
       "      <td>1324.17</td>\n",
       "      <td>2263.79</td>\n",
       "      <td>68.56</td>\n",
       "      <td>1127.81</td>\n",
       "      <td>IND</td>\n",
       "    </tr>\n",
       "    <tr>\n",
       "      <th>3</th>\n",
       "      <td>Russia</td>\n",
       "      <td>144.34</td>\n",
       "      <td>1283.16</td>\n",
       "      <td>71.59</td>\n",
       "      <td>229.13</td>\n",
       "      <td>RUS</td>\n",
       "    </tr>\n",
       "    <tr>\n",
       "      <th>4</th>\n",
       "      <td>United States</td>\n",
       "      <td>323.13</td>\n",
       "      <td>18624.47</td>\n",
       "      <td>78.69</td>\n",
       "      <td>395.88</td>\n",
       "      <td>USA</td>\n",
       "    </tr>\n",
       "    <tr>\n",
       "      <th>5</th>\n",
       "      <td>Vietnam</td>\n",
       "      <td>94.57</td>\n",
       "      <td>205.28</td>\n",
       "      <td>76.25</td>\n",
       "      <td>120.60</td>\n",
       "      <td>VNM</td>\n",
       "    </tr>\n",
       "  </tbody>\n",
       "</table>\n",
       "</div>"
      ],
      "text/plain": [
       "         country      pop       gdp   life     cell code\n",
       "0         Canada    36.26   1535.77  82.30    30.75  CAN\n",
       "1          China  1378.66  11199.15  76.25  1364.93  CHN\n",
       "2          India  1324.17   2263.79  68.56  1127.81  IND\n",
       "3         Russia   144.34   1283.16  71.59   229.13  RUS\n",
       "4  United States   323.13  18624.47  78.69   395.88  USA\n",
       "5        Vietnam    94.57    205.28  76.25   120.60  VNM"
      ]
     },
     "execution_count": 59,
     "metadata": {},
     "output_type": "execute_result"
    }
   ],
   "source": [
    "LoD = []\n",
    "for code, rowD in ind2016.items():\n",
    "    rowD = rowD.copy()\n",
    "    rowD[\"code\"] = code\n",
    "    LoD.append(rowD)\n",
    "\n",
    "import pandas as pd\n",
    "\n",
    "df = pd.DataFrame(LoD)\n",
    "df"
   ]
  },
  {
   "cell_type": "code",
   "execution_count": 77,
   "id": "38026e2b-f47d-4f07-bca4-1416a9697841",
   "metadata": {},
   "outputs": [
    {
     "name": "stdout",
     "output_type": "stream",
     "text": [
      "['code', 'country', 'pop', 'gdp', 'life', 'cell'] [['CAN', 'Canada', 36.26, 1535.77, 82.3, 30.75], ['CHN', 'China', 1378.66, 11199.15, 76.25, 1364.93], ['IND', 'India', 1324.17, 2263.79, 68.56, 1127.81], ['RUS', 'Russia', 144.34, 1283.16, 71.59, 229.13], ['USA', 'United States', 323.13, 18624.47, 78.69, 395.88], ['VNM', 'Vietnam', 94.57, 205.28, 76.25, 120.6]]\n"
     ]
    },
    {
     "data": {
      "text/html": [
       "<div>\n",
       "<style scoped>\n",
       "    .dataframe tbody tr th:only-of-type {\n",
       "        vertical-align: middle;\n",
       "    }\n",
       "\n",
       "    .dataframe tbody tr th {\n",
       "        vertical-align: top;\n",
       "    }\n",
       "\n",
       "    .dataframe thead th {\n",
       "        text-align: right;\n",
       "    }\n",
       "</style>\n",
       "<table border=\"1\" class=\"dataframe\">\n",
       "  <thead>\n",
       "    <tr style=\"text-align: right;\">\n",
       "      <th></th>\n",
       "      <th>code</th>\n",
       "      <th>country</th>\n",
       "      <th>pop</th>\n",
       "      <th>gdp</th>\n",
       "      <th>life</th>\n",
       "      <th>cell</th>\n",
       "    </tr>\n",
       "  </thead>\n",
       "  <tbody>\n",
       "    <tr>\n",
       "      <th>0</th>\n",
       "      <td>CAN</td>\n",
       "      <td>Canada</td>\n",
       "      <td>36.26</td>\n",
       "      <td>1535.77</td>\n",
       "      <td>82.30</td>\n",
       "      <td>30.75</td>\n",
       "    </tr>\n",
       "    <tr>\n",
       "      <th>1</th>\n",
       "      <td>CHN</td>\n",
       "      <td>China</td>\n",
       "      <td>1378.66</td>\n",
       "      <td>11199.15</td>\n",
       "      <td>76.25</td>\n",
       "      <td>1364.93</td>\n",
       "    </tr>\n",
       "    <tr>\n",
       "      <th>2</th>\n",
       "      <td>IND</td>\n",
       "      <td>India</td>\n",
       "      <td>1324.17</td>\n",
       "      <td>2263.79</td>\n",
       "      <td>68.56</td>\n",
       "      <td>1127.81</td>\n",
       "    </tr>\n",
       "    <tr>\n",
       "      <th>3</th>\n",
       "      <td>RUS</td>\n",
       "      <td>Russia</td>\n",
       "      <td>144.34</td>\n",
       "      <td>1283.16</td>\n",
       "      <td>71.59</td>\n",
       "      <td>229.13</td>\n",
       "    </tr>\n",
       "    <tr>\n",
       "      <th>4</th>\n",
       "      <td>USA</td>\n",
       "      <td>United States</td>\n",
       "      <td>323.13</td>\n",
       "      <td>18624.47</td>\n",
       "      <td>78.69</td>\n",
       "      <td>395.88</td>\n",
       "    </tr>\n",
       "    <tr>\n",
       "      <th>5</th>\n",
       "      <td>VNM</td>\n",
       "      <td>Vietnam</td>\n",
       "      <td>94.57</td>\n",
       "      <td>205.28</td>\n",
       "      <td>76.25</td>\n",
       "      <td>120.60</td>\n",
       "    </tr>\n",
       "  </tbody>\n",
       "</table>\n",
       "</div>"
      ],
      "text/plain": [
       "  code        country      pop       gdp   life     cell\n",
       "0  CAN         Canada    36.26   1535.77  82.30    30.75\n",
       "1  CHN          China  1378.66  11199.15  76.25  1364.93\n",
       "2  IND          India  1324.17   2263.79  68.56  1127.81\n",
       "3  RUS         Russia   144.34   1283.16  71.59   229.13\n",
       "4  USA  United States   323.13  18624.47  78.69   395.88\n",
       "5  VNM        Vietnam    94.57    205.28  76.25   120.60"
      ]
     },
     "execution_count": 77,
     "metadata": {},
     "output_type": "execute_result"
    }
   ],
   "source": [
    "LoL = []\n",
    "\n",
    "first = True\n",
    "\n",
    "\n",
    "for code, row in ind2016.items():\n",
    "    if first:\n",
    "        headers = [\"code\"] + list(row.keys())\n",
    "        first = False\n",
    "    LoL.append([code] + list(row.values()))\n",
    "\n",
    "print(headers, LoL)\n",
    "df = pd.DataFrame(LoL, columns=headers)\n",
    "df"
   ]
  },
  {
   "cell_type": "code",
   "execution_count": null,
   "id": "875b2c5f-fd17-43cb-a841-296bc3af0c5b",
   "metadata": {},
   "outputs": [],
   "source": []
  },
  {
   "cell_type": "markdown",
   "id": "8848ae92-7f27-40ef-81e1-3694d4c16696",
   "metadata": {},
   "source": [
    "## **XML**"
   ]
  },
  {
   "cell_type": "code",
   "execution_count": 79,
   "id": "b3bc306b-c1f7-45e8-9fa8-29b5fcb6debd",
   "metadata": {},
   "outputs": [],
   "source": [
    "xmlparser = etree.XMLParser(remove_blank_text=True)\n",
    "ind0_path = os.path.join(\"ind0.xml\")\n",
    "try:\n",
    "    tree0 = etree.parse(ind0_path)\n",
    "    root0 = tree0.getroot()\n",
    "except:\n",
    "    print(\"Exception in parsing XML\")"
   ]
  },
  {
   "cell_type": "code",
   "execution_count": 80,
   "id": "d0385565-2dae-4863-b6e4-ae63f3a68da1",
   "metadata": {},
   "outputs": [
    {
     "data": {
      "text/plain": [
       "<lxml.etree._ElementTree at 0x7fae064a7880>"
      ]
     },
     "execution_count": 80,
     "metadata": {},
     "output_type": "execute_result"
    }
   ],
   "source": [
    "tree0"
   ]
  },
  {
   "cell_type": "code",
   "execution_count": 81,
   "id": "37125b24-8ee3-4274-9a43-8e9fd27cd6c1",
   "metadata": {},
   "outputs": [
    {
     "data": {
      "text/plain": [
       "<Element indicators at 0x7fae064e9940>"
      ]
     },
     "execution_count": 81,
     "metadata": {},
     "output_type": "execute_result"
    }
   ],
   "source": [
    "root0"
   ]
  },
  {
   "cell_type": "code",
   "execution_count": 9,
   "id": "e84bf8f1-a513-487e-b15b-4b6f776f9e80",
   "metadata": {},
   "outputs": [
    {
     "name": "stdout",
     "output_type": "stream",
     "text": [
      "[{'code': 'FRA', 'name': 'France', 'year': 2007, 'pop': 64.02, 'gdp': 2657.21}, {'code': 'FRA', 'name': 'France', 'year': 2017, 'pop': 66.87, 'gdp': 2586.29}, {'code': 'GBR', 'name': 'United Kingdom', 'year': 2007, 'pop': 61.32, 'gdp': 3084.12}, {'code': 'GBR', 'name': 'United Kingdom', 'year': 2017, 'pop': 66.06, 'gdp': 2637.87}, {'code': 'USA', 'name': 'United States', 'year': 2007, 'pop': 301.23, 'gdp': 14451.9}, {'code': 'USA', 'name': 'United States', 'year': 2017, 'pop': 325.15, 'gdp': 19485.4}]\n"
     ]
    },
    {
     "data": {
      "text/html": [
       "<div>\n",
       "<style scoped>\n",
       "    .dataframe tbody tr th:only-of-type {\n",
       "        vertical-align: middle;\n",
       "    }\n",
       "\n",
       "    .dataframe tbody tr th {\n",
       "        vertical-align: top;\n",
       "    }\n",
       "\n",
       "    .dataframe thead th {\n",
       "        text-align: right;\n",
       "    }\n",
       "</style>\n",
       "<table border=\"1\" class=\"dataframe\">\n",
       "  <thead>\n",
       "    <tr style=\"text-align: right;\">\n",
       "      <th></th>\n",
       "      <th></th>\n",
       "      <th>name</th>\n",
       "      <th>pop</th>\n",
       "      <th>gdp</th>\n",
       "    </tr>\n",
       "    <tr>\n",
       "      <th>code</th>\n",
       "      <th>year</th>\n",
       "      <th></th>\n",
       "      <th></th>\n",
       "      <th></th>\n",
       "    </tr>\n",
       "  </thead>\n",
       "  <tbody>\n",
       "    <tr>\n",
       "      <th rowspan=\"2\" valign=\"top\">FRA</th>\n",
       "      <th>2007</th>\n",
       "      <td>France</td>\n",
       "      <td>64.02</td>\n",
       "      <td>2657.21</td>\n",
       "    </tr>\n",
       "    <tr>\n",
       "      <th>2017</th>\n",
       "      <td>France</td>\n",
       "      <td>66.87</td>\n",
       "      <td>2586.29</td>\n",
       "    </tr>\n",
       "    <tr>\n",
       "      <th rowspan=\"2\" valign=\"top\">GBR</th>\n",
       "      <th>2007</th>\n",
       "      <td>United Kingdom</td>\n",
       "      <td>61.32</td>\n",
       "      <td>3084.12</td>\n",
       "    </tr>\n",
       "    <tr>\n",
       "      <th>2017</th>\n",
       "      <td>United Kingdom</td>\n",
       "      <td>66.06</td>\n",
       "      <td>2637.87</td>\n",
       "    </tr>\n",
       "    <tr>\n",
       "      <th rowspan=\"2\" valign=\"top\">USA</th>\n",
       "      <th>2007</th>\n",
       "      <td>United States</td>\n",
       "      <td>301.23</td>\n",
       "      <td>14451.90</td>\n",
       "    </tr>\n",
       "    <tr>\n",
       "      <th>2017</th>\n",
       "      <td>United States</td>\n",
       "      <td>325.15</td>\n",
       "      <td>19485.40</td>\n",
       "    </tr>\n",
       "  </tbody>\n",
       "</table>\n",
       "</div>"
      ],
      "text/plain": [
       "                     name     pop       gdp\n",
       "code year                                  \n",
       "FRA  2007          France   64.02   2657.21\n",
       "     2017          France   66.87   2586.29\n",
       "GBR  2007  United Kingdom   61.32   3084.12\n",
       "     2017  United Kingdom   66.06   2637.87\n",
       "USA  2007   United States  301.23  14451.90\n",
       "     2017   United States  325.15  19485.40"
      ]
     },
     "execution_count": 9,
     "metadata": {},
     "output_type": "execute_result"
    }
   ],
   "source": [
    "LoD = []\n",
    "for country_node in root0:\n",
    "    code = country_node.get(\"code\")\n",
    "    name = country_node.get(\"name\")\n",
    "    for timedata_node in country_node:\n",
    "        year = int(timedata_node.get(\"year\"))\n",
    "        rowD = {\"code\": code, \"name\": name, \"year\": year}\n",
    "        for indicator_node in timedata_node:\n",
    "            rowD[indicator_node.tag] = float(indicator_node.text)\n",
    "        LoD.append(rowD)\n",
    "\n",
    "\n",
    "print(LoD)\n",
    "df = pd.DataFrame(LoD)\n",
    "df.set_index([\"code\", \"year\"], inplace=True)\n",
    "df"
   ]
  },
  {
   "cell_type": "code",
   "execution_count": 6,
   "id": "b3135d4f-65df-440f-809d-559837ef8017",
   "metadata": {},
   "outputs": [],
   "source": [
    "import importlib\n",
    "import json\n",
    "import os\n",
    "\n",
    "import util\n",
    "from lxml import etree\n",
    "\n",
    "importlib.reload(util)\n",
    "import pandas as pd"
   ]
  },
  {
   "cell_type": "code",
   "execution_count": 23,
   "id": "57e59d09-cd72-4f53-944f-81f638fd0163",
   "metadata": {},
   "outputs": [],
   "source": [
    "def xml_indicators(root_node):\n",
    "    LoD = []\n",
    "    for country_node in root0:\n",
    "        code = country_node.get(\"code\")\n",
    "        name = country_node.get(\"name\")\n",
    "        for timedata_node in country_node:\n",
    "            year = int(timedata_node.get(\"year\"))\n",
    "            rowD = {\"code\": code, \"name\": name, \"year\": year}\n",
    "            for indicator_node in timedata_node:\n",
    "                rowD[indicator_node.tag] = float(indicator_node.text)\n",
    "            LoD.append(rowD)\n",
    "    #     print(LoD)\n",
    "    df = pd.DataFrame(LoD)\n",
    "    df.set_index([\"code\", \"year\"], inplace=True)\n",
    "    return df"
   ]
  },
  {
   "cell_type": "code",
   "execution_count": null,
   "id": "3c1e717f-47b6-48af-bfd2-5bdfc9f7fed2",
   "metadata": {},
   "outputs": [],
   "source": []
  },
  {
   "cell_type": "code",
   "execution_count": 25,
   "id": "03000653-f983-405f-b7bd-599f6a36e582",
   "metadata": {},
   "outputs": [
    {
     "name": "stdout",
     "output_type": "stream",
     "text": [
      "Exception in parsing XML\n"
     ]
    },
    {
     "data": {
      "text/html": [
       "<div>\n",
       "<style scoped>\n",
       "    .dataframe tbody tr th:only-of-type {\n",
       "        vertical-align: middle;\n",
       "    }\n",
       "\n",
       "    .dataframe tbody tr th {\n",
       "        vertical-align: top;\n",
       "    }\n",
       "\n",
       "    .dataframe thead th {\n",
       "        text-align: right;\n",
       "    }\n",
       "</style>\n",
       "<table border=\"1\" class=\"dataframe\">\n",
       "  <thead>\n",
       "    <tr style=\"text-align: right;\">\n",
       "      <th></th>\n",
       "      <th></th>\n",
       "      <th>name</th>\n",
       "      <th>pop</th>\n",
       "      <th>gdp</th>\n",
       "    </tr>\n",
       "    <tr>\n",
       "      <th>code</th>\n",
       "      <th>year</th>\n",
       "      <th></th>\n",
       "      <th></th>\n",
       "      <th></th>\n",
       "    </tr>\n",
       "  </thead>\n",
       "  <tbody>\n",
       "    <tr>\n",
       "      <th rowspan=\"2\" valign=\"top\">FRA</th>\n",
       "      <th>2007</th>\n",
       "      <td>France</td>\n",
       "      <td>64.02</td>\n",
       "      <td>2657.21</td>\n",
       "    </tr>\n",
       "    <tr>\n",
       "      <th>2017</th>\n",
       "      <td>France</td>\n",
       "      <td>66.87</td>\n",
       "      <td>2586.29</td>\n",
       "    </tr>\n",
       "    <tr>\n",
       "      <th rowspan=\"2\" valign=\"top\">GBR</th>\n",
       "      <th>2007</th>\n",
       "      <td>United Kingdom</td>\n",
       "      <td>61.32</td>\n",
       "      <td>3084.12</td>\n",
       "    </tr>\n",
       "    <tr>\n",
       "      <th>2017</th>\n",
       "      <td>United Kingdom</td>\n",
       "      <td>66.06</td>\n",
       "      <td>2637.87</td>\n",
       "    </tr>\n",
       "    <tr>\n",
       "      <th>USA</th>\n",
       "      <th>2007</th>\n",
       "      <td>United States</td>\n",
       "      <td>301.23</td>\n",
       "      <td>14451.90</td>\n",
       "    </tr>\n",
       "  </tbody>\n",
       "</table>\n",
       "</div>"
      ],
      "text/plain": [
       "                     name     pop       gdp\n",
       "code year                                  \n",
       "FRA  2007          France   64.02   2657.21\n",
       "     2017          France   66.87   2586.29\n",
       "GBR  2007  United Kingdom   61.32   3084.12\n",
       "     2017  United Kingdom   66.06   2637.87\n",
       "USA  2007   United States  301.23  14451.90"
      ]
     },
     "execution_count": 25,
     "metadata": {},
     "output_type": "execute_result"
    }
   ],
   "source": [
    "xmlparser = etree.XMLParser(remove_blank_text=True)\n",
    "ind0_path = os.path.join(\"indicator.xml\")\n",
    "try:\n",
    "    tree0 = etree.parse(ind0_path)\n",
    "    root0 = tree0.getroot()\n",
    "except:\n",
    "    print(\"Exception in parsing XML\")\n",
    "\n",
    "\n",
    "df = xml_indicators(root0)\n",
    "df.head()"
   ]
  },
  {
   "cell_type": "code",
   "execution_count": 27,
   "id": "215415d9-e7c6-4cf6-8203-d668d1384eaf",
   "metadata": {},
   "outputs": [
    {
     "name": "stdout",
     "output_type": "stream",
     "text": [
      "Exception in parsing XML\n"
     ]
    },
    {
     "ename": "NameError",
     "evalue": "name 'root' is not defined",
     "output_type": "error",
     "traceback": [
      "\u001b[0;31m---------------------------------------------------------------------------\u001b[0m",
      "\u001b[0;31mNameError\u001b[0m                                 Traceback (most recent call last)",
      "\u001b[0;32m/tmp/ipykernel_3580957/1880929526.py\u001b[0m in \u001b[0;36m<module>\u001b[0;34m\u001b[0m\n\u001b[1;32m      6\u001b[0m \u001b[0;32mexcept\u001b[0m\u001b[0;34m:\u001b[0m\u001b[0;34m\u001b[0m\u001b[0;34m\u001b[0m\u001b[0m\n\u001b[1;32m      7\u001b[0m     \u001b[0mprint\u001b[0m\u001b[0;34m(\u001b[0m\u001b[0;34m\"Exception in parsing XML\"\u001b[0m\u001b[0;34m)\u001b[0m\u001b[0;34m\u001b[0m\u001b[0;34m\u001b[0m\u001b[0m\n\u001b[0;32m----> 8\u001b[0;31m \u001b[0mdf\u001b[0m \u001b[0;34m=\u001b[0m \u001b[0mxml_indicators\u001b[0m\u001b[0;34m(\u001b[0m\u001b[0mroot\u001b[0m\u001b[0;34m)\u001b[0m\u001b[0;34m\u001b[0m\u001b[0;34m\u001b[0m\u001b[0m\n\u001b[0m\u001b[1;32m      9\u001b[0m \u001b[0;34m\u001b[0m\u001b[0m\n\u001b[1;32m     10\u001b[0m \u001b[0mdf\u001b[0m\u001b[0;34m.\u001b[0m\u001b[0miloc\u001b[0m\u001b[0;34m[\u001b[0m\u001b[0;36m200\u001b[0m\u001b[0;34m:\u001b[0m\u001b[0;36m205\u001b[0m\u001b[0;34m,\u001b[0m\u001b[0;36m0\u001b[0m\u001b[0;34m:\u001b[0m\u001b[0;36m4\u001b[0m\u001b[0;34m]\u001b[0m\u001b[0;34m\u001b[0m\u001b[0;34m\u001b[0m\u001b[0m\n",
      "\u001b[0;31mNameError\u001b[0m: name 'root' is not defined"
     ]
    }
   ],
   "source": [
    "import os\n",
    "\n",
    "ind_path = os.path.join(\"indicators.xml\")\n",
    "try:\n",
    "    tree = etree.parse(ind_path)\n",
    "    root = tree.getroot()\n",
    "except:\n",
    "    print(\"Exception in parsing XML\")\n",
    "df = xml_indicators(root)\n",
    "\n",
    "df.iloc[200:205, 0:4]"
   ]
  },
  {
   "cell_type": "markdown",
   "id": "ad52bf24-52e3-4bb3-8f17-2a65284efb45",
   "metadata": {},
   "source": [
    "### **school.xml**"
   ]
  },
  {
   "cell_type": "markdown",
   "id": "3c54a9d1-dfbc-4cac-aa63-55ed4103c8e0",
   "metadata": {},
   "source": [
    "- school is the root, with three children: departments, courses, and instructors\n",
    "- **Each child of departments** represents a single department, and can have children such as **name, division, chair, subject, etc**.\n",
    "    - Each department has an id attribute, e.g., <department id=\"MATH\">,\n",
    "that we can use to distinguish it from its siblings (which each have a tag of\n",
    "department).\n",
    "    - We allow chair to have children, for first and last name of the current\n",
    "department chair\n",
    "   \n",
    "-**Each child of courses** represents a single course, and can have children such\n",
    "as **title, hours, and class**.\n",
    "     - Each course has attributes including subject and num to distinguish it from\n",
    "its siblings.\n",
    "    - Each class has an attribute id to distinguish it from other class offerings of its parent\n",
    "course\n",
    "    - A class node can have children such as term, section, meeting (time),\n",
    "and instructorid.\n",
    "    \n",
    "-**Each child of instructors** represents an individual instructor, and can have\n",
    "children such as **first, last, departmentid, city, state, title, etc.**\n",
    "       - Each instructor has an id attribute, to distinguish it from its siblings and for\n",
    "use in table joins.\n",
    "   \n",
    "    \n",
    "**we should be careful in our solution to avoid assuming that each subtree contains some fixed set of tag names**"
   ]
  },
  {
   "cell_type": "code",
   "execution_count": 32,
   "id": "10371103-40fe-48b6-ba25-3ad7169617ae",
   "metadata": {},
   "outputs": [],
   "source": [
    "school0_path = os.path.join(\"school0.xml\")\n",
    "try:\n",
    "    school0_tree = etree.parse(school0_path)\n",
    "    school0_root = school0_tree.getroot()\n",
    "except:\n",
    "    print(\"Exception in parsing XML\")\n",
    "departments = school0_root[0]\n",
    "courses = school0_root[1]\n",
    "instructors = school0_root[2]"
   ]
  },
  {
   "cell_type": "markdown",
   "id": "7369c51a-b433-419e-8fda-0c223d32e27c",
   "metadata": {},
   "source": []
  },
  {
   "cell_type": "markdown",
   "id": "86493c1e-5f54-4b40-afa0-dfdbe3ddbaf0",
   "metadata": {},
   "source": [
    "**16.3.1.3 Wrangling Instructors**"
   ]
  },
  {
   "cell_type": "raw",
   "id": "40b66631-1cb9-47ee-b0e7-9c537b64a65d",
   "metadata": {},
   "source": [
    "<instructor id=\"9106\">\n",
    "    <first>Kathleen</first>\n",
    "    <last>Campbell</last>\n",
    "    <departmentid>MATH</departmentid>\n",
    "    <city>Granville</city>\n",
    "    <state>OH</state>\n",
    "    <title>Associate Professor, Math &amp; CS</title>\n",
    "</instructor>"
   ]
  },
  {
   "cell_type": "code",
   "execution_count": 39,
   "id": "9aa05ed9-d5cc-487a-b200-eb4c11e43cce",
   "metadata": {},
   "outputs": [
    {
     "data": {
      "text/html": [
       "<div>\n",
       "<style scoped>\n",
       "    .dataframe tbody tr th:only-of-type {\n",
       "        vertical-align: middle;\n",
       "    }\n",
       "\n",
       "    .dataframe tbody tr th {\n",
       "        vertical-align: top;\n",
       "    }\n",
       "\n",
       "    .dataframe thead th {\n",
       "        text-align: right;\n",
       "    }\n",
       "</style>\n",
       "<table border=\"1\" class=\"dataframe\">\n",
       "  <thead>\n",
       "    <tr style=\"text-align: right;\">\n",
       "      <th></th>\n",
       "      <th>firstname</th>\n",
       "      <th>lastname</th>\n",
       "      <th>departmentid</th>\n",
       "      <th>city</th>\n",
       "      <th>state</th>\n",
       "      <th>title</th>\n",
       "    </tr>\n",
       "    <tr>\n",
       "      <th>id</th>\n",
       "      <th></th>\n",
       "      <th></th>\n",
       "      <th></th>\n",
       "      <th></th>\n",
       "      <th></th>\n",
       "      <th></th>\n",
       "    </tr>\n",
       "  </thead>\n",
       "  <tbody>\n",
       "    <tr>\n",
       "      <th>9024</th>\n",
       "      <td>Lori</td>\n",
       "      <td>Williams</td>\n",
       "      <td>MATH</td>\n",
       "      <td>Granville</td>\n",
       "      <td>OH</td>\n",
       "      <td>Professor, Math &amp; CS</td>\n",
       "    </tr>\n",
       "    <tr>\n",
       "      <th>9031</th>\n",
       "      <td>Ankita</td>\n",
       "      <td>Jayaraman</td>\n",
       "      <td>MATH</td>\n",
       "      <td>Granville</td>\n",
       "      <td>OH</td>\n",
       "      <td>Associate Professor, Math &amp; CS</td>\n",
       "    </tr>\n",
       "    <tr>\n",
       "      <th>9059</th>\n",
       "      <td>Arthur</td>\n",
       "      <td>Chapman</td>\n",
       "      <td>MATH</td>\n",
       "      <td>Granville</td>\n",
       "      <td>OH</td>\n",
       "      <td>Vis. Instructor, Math &amp; CS</td>\n",
       "    </tr>\n",
       "    <tr>\n",
       "      <th>9077</th>\n",
       "      <td>Jordan</td>\n",
       "      <td>Ray</td>\n",
       "      <td>MATH</td>\n",
       "      <td>Granville</td>\n",
       "      <td>OH</td>\n",
       "      <td>Provessor, Mathematics</td>\n",
       "    </tr>\n",
       "    <tr>\n",
       "      <th>9106</th>\n",
       "      <td>Kathleen</td>\n",
       "      <td>Campbell</td>\n",
       "      <td>MATH</td>\n",
       "      <td>Granville</td>\n",
       "      <td>OH</td>\n",
       "      <td>Associate Professor, Math &amp; CS</td>\n",
       "    </tr>\n",
       "    <tr>\n",
       "      <th>9139</th>\n",
       "      <td>Caitlin</td>\n",
       "      <td>Fox</td>\n",
       "      <td>MATH</td>\n",
       "      <td>Granville</td>\n",
       "      <td>OH</td>\n",
       "      <td>Associate Professor, Math &amp; CS</td>\n",
       "    </tr>\n",
       "    <tr>\n",
       "      <th>9140</th>\n",
       "      <td>Betty</td>\n",
       "      <td>Bradley</td>\n",
       "      <td>MATH</td>\n",
       "      <td>Granville</td>\n",
       "      <td>OH</td>\n",
       "      <td>Professor, Math &amp; CS</td>\n",
       "    </tr>\n",
       "    <tr>\n",
       "      <th>9160</th>\n",
       "      <td>Barbara</td>\n",
       "      <td>Wong</td>\n",
       "      <td>MATH</td>\n",
       "      <td>Granville</td>\n",
       "      <td>OH</td>\n",
       "      <td>Associate Professor, Math &amp; CS</td>\n",
       "    </tr>\n",
       "    <tr>\n",
       "      <th>9171</th>\n",
       "      <td>Rose</td>\n",
       "      <td>James</td>\n",
       "      <td>MATH</td>\n",
       "      <td>Clarksville</td>\n",
       "      <td>MD</td>\n",
       "      <td>Vis. Ass't Prof. PT, Math &amp; CS</td>\n",
       "    </tr>\n",
       "    <tr>\n",
       "      <th>9192</th>\n",
       "      <td>Brian</td>\n",
       "      <td>Edwards</td>\n",
       "      <td>MATH</td>\n",
       "      <td>Granville</td>\n",
       "      <td>OH</td>\n",
       "      <td>Associate Professor, Math &amp; CS</td>\n",
       "    </tr>\n",
       "    <tr>\n",
       "      <th>9231</th>\n",
       "      <td>Raymond</td>\n",
       "      <td>Nguyen</td>\n",
       "      <td>MATH</td>\n",
       "      <td>Granville</td>\n",
       "      <td>OH</td>\n",
       "      <td>Ass't Prof., Math Sciences</td>\n",
       "    </tr>\n",
       "    <tr>\n",
       "      <th>9279</th>\n",
       "      <td>Cynthia</td>\n",
       "      <td>Castro</td>\n",
       "      <td>MATH</td>\n",
       "      <td>Granville</td>\n",
       "      <td>OH</td>\n",
       "      <td>Professor, Math &amp; CS</td>\n",
       "    </tr>\n",
       "    <tr>\n",
       "      <th>9042</th>\n",
       "      <td>Theresa</td>\n",
       "      <td>Rice</td>\n",
       "      <td>CINE</td>\n",
       "      <td>Granville</td>\n",
       "      <td>OH</td>\n",
       "      <td>Professor, Cinema</td>\n",
       "    </tr>\n",
       "    <tr>\n",
       "      <th>9097</th>\n",
       "      <td>Shirley</td>\n",
       "      <td>Morgan</td>\n",
       "      <td>CINE</td>\n",
       "      <td>Columbus</td>\n",
       "      <td>OH</td>\n",
       "      <td>Ass't Prof., Cinema</td>\n",
       "    </tr>\n",
       "    <tr>\n",
       "      <th>9273</th>\n",
       "      <td>Austin</td>\n",
       "      <td>Gray</td>\n",
       "      <td>CINE</td>\n",
       "      <td>Columbus</td>\n",
       "      <td>OH</td>\n",
       "      <td>Ass't Prof., Cinema</td>\n",
       "    </tr>\n",
       "    <tr>\n",
       "      <th>9284</th>\n",
       "      <td>Sarah</td>\n",
       "      <td>Woods</td>\n",
       "      <td>CINE</td>\n",
       "      <td>Galena</td>\n",
       "      <td>OH</td>\n",
       "      <td>Ass't, Professor, Cinema</td>\n",
       "    </tr>\n",
       "  </tbody>\n",
       "</table>\n",
       "</div>"
      ],
      "text/plain": [
       "     firstname   lastname departmentid         city state  \\\n",
       "id                                                          \n",
       "9024      Lori   Williams         MATH    Granville    OH   \n",
       "9031    Ankita  Jayaraman         MATH    Granville    OH   \n",
       "9059    Arthur    Chapman         MATH    Granville    OH   \n",
       "9077    Jordan        Ray         MATH    Granville    OH   \n",
       "9106  Kathleen   Campbell         MATH    Granville    OH   \n",
       "9139   Caitlin        Fox         MATH    Granville    OH   \n",
       "9140     Betty    Bradley         MATH    Granville    OH   \n",
       "9160   Barbara       Wong         MATH    Granville    OH   \n",
       "9171      Rose      James         MATH  Clarksville    MD   \n",
       "9192     Brian    Edwards         MATH    Granville    OH   \n",
       "9231   Raymond     Nguyen         MATH    Granville    OH   \n",
       "9279   Cynthia     Castro         MATH    Granville    OH   \n",
       "9042   Theresa       Rice         CINE    Granville    OH   \n",
       "9097   Shirley     Morgan         CINE     Columbus    OH   \n",
       "9273    Austin       Gray         CINE     Columbus    OH   \n",
       "9284     Sarah      Woods         CINE       Galena    OH   \n",
       "\n",
       "                               title  \n",
       "id                                    \n",
       "9024            Professor, Math & CS  \n",
       "9031  Associate Professor, Math & CS  \n",
       "9059      Vis. Instructor, Math & CS  \n",
       "9077          Provessor, Mathematics  \n",
       "9106  Associate Professor, Math & CS  \n",
       "9139  Associate Professor, Math & CS  \n",
       "9140            Professor, Math & CS  \n",
       "9160  Associate Professor, Math & CS  \n",
       "9171  Vis. Ass't Prof. PT, Math & CS  \n",
       "9192  Associate Professor, Math & CS  \n",
       "9231      Ass't Prof., Math Sciences  \n",
       "9279            Professor, Math & CS  \n",
       "9042               Professor, Cinema  \n",
       "9097             Ass't Prof., Cinema  \n",
       "9273             Ass't Prof., Cinema  \n",
       "9284        Ass't, Professor, Cinema  "
      ]
     },
     "execution_count": 39,
     "metadata": {},
     "output_type": "execute_result"
    }
   ],
   "source": [
    "def xml_instructors(instructors_root):\n",
    "    import pandas as pd\n",
    "\n",
    "    LoL = []\n",
    "    #     headers = [\"id\", \"firstname\", \"lastname\", \"departmentid\", \"city\", \"state\", \"title\"]\n",
    "\n",
    "    def child_value(node, tag):\n",
    "        first_find = node.find(tag)\n",
    "        if first_find != None:\n",
    "            return first_find.text\n",
    "\n",
    "    for instructor in instructors_root:\n",
    "        row = {\"id\": instructor.get(\"id\")}\n",
    "        for child in instructor:\n",
    "            row[\"firstname\"] = child_value(instructor, \"first\")\n",
    "            row[\"lastname\"] = child_value(instructor, \"last\")\n",
    "            row[\"departmentid\"] = child_value(instructor, \"departmentid\")\n",
    "            row[\"city\"] = child_value(instructor, \"city\")\n",
    "            row[\"state\"] = child_value(instructor, \"state\")\n",
    "            row[\"title\"] = child_value(instructor, \"title\")\n",
    "\n",
    "        LoL.append(row)\n",
    "    df = pd.DataFrame(LoL)\n",
    "    df.set_index([\"id\"], inplace=True)\n",
    "    return df\n",
    "\n",
    "\n",
    "xml_instructors(instructors)"
   ]
  },
  {
   "cell_type": "markdown",
   "id": "67b496c0-7fb1-453d-a149-3b4315e55bed",
   "metadata": {},
   "source": [
    "**16.3.1.4 Wrangling Departments**"
   ]
  },
  {
   "cell_type": "raw",
   "id": "eab3b15d-3596-4615-8af3-e8b8f48b54cc",
   "metadata": {},
   "source": [
    "<department id=\"MATH\">\n",
    "    <name>Mathematics &amp; Computer Science</name>\n",
    "    <division>Natural Sciences</division>\n",
    "    <chair id=\"9140\">\n",
    "        <lastname>Bradley</lastname>\n",
    "        <firstname>Betty</firstname>\n",
    "    </chair>\n",
    "    <subject id=\"CS\" name=\"Computer Science\"/>\n",
    "    <subject id=\"MATH\" name=\"Mathematics\"/>\n",
    "</department>"
   ]
  },
  {
   "cell_type": "code",
   "execution_count": 94,
   "id": "7e71dd6a-4f9e-4885-848c-c68365cb4c34",
   "metadata": {},
   "outputs": [],
   "source": [
    "def xml_department(department_root):\n",
    "    import pandas as pd\n",
    "\n",
    "    # line of department\n",
    "    LoD = []\n",
    "    # line of subject\n",
    "    LoS = []\n",
    "\n",
    "    def child_value(node, tag):\n",
    "        first_find = node.find(tag)\n",
    "        if first_find != None:\n",
    "            return first_find.text\n",
    "\n",
    "    for department_node in department_root:\n",
    "        id_ = department_node.get(\"id\")\n",
    "        rowD = {\"id\": id_}\n",
    "\n",
    "        rowD[\"name\"] = child_value(department_node, \"name\")\n",
    "        rowD[\"division\"] = child_value(department_node, \"division\")\n",
    "        chair_node = department_node.find(\"chair\")\n",
    "        if chair_node is not None:\n",
    "            rowD[\"chair_id\"] = chair_node.get(\"id\")\n",
    "            rowD[\"chair_last\"] = child_value(chair_node, \"lastname\")\n",
    "            rowD[\"chair_first\"] = child_value(chair_node, \"firstname\")\n",
    "\n",
    "        for subject in department_node.iterchildren(tag=\"subject\"):\n",
    "            rowS = {\"department_id\": id_}\n",
    "            rowS[\"id\"] = subject.get(\"id\")\n",
    "            rowS[\"name\"] = subject.get(\"name\")\n",
    "            LoS.append(rowS)\n",
    "        LoD.append(rowD)\n",
    "\n",
    "    df_d = pd.DataFrame(LoD)\n",
    "    df_d.set_index([\"id\"], inplace=True)\n",
    "\n",
    "    df_s = pd.DataFrame(LoS)\n",
    "    df_s.set_index([\"id\"], inplace=True)\n",
    "\n",
    "    return df_d, df_s"
   ]
  },
  {
   "cell_type": "code",
   "execution_count": 95,
   "id": "89d8991f-cc57-47c0-9290-008117fe625b",
   "metadata": {},
   "outputs": [],
   "source": [
    "# xml_department(departments)/"
   ]
  },
  {
   "cell_type": "code",
   "execution_count": 96,
   "id": "1246cfd9-ad97-4387-9ed1-52abcb446fdd",
   "metadata": {},
   "outputs": [
    {
     "data": {
      "text/html": [
       "<div>\n",
       "<style scoped>\n",
       "    .dataframe tbody tr th:only-of-type {\n",
       "        vertical-align: middle;\n",
       "    }\n",
       "\n",
       "    .dataframe tbody tr th {\n",
       "        vertical-align: top;\n",
       "    }\n",
       "\n",
       "    .dataframe thead th {\n",
       "        text-align: right;\n",
       "    }\n",
       "</style>\n",
       "<table border=\"1\" class=\"dataframe\">\n",
       "  <thead>\n",
       "    <tr style=\"text-align: right;\">\n",
       "      <th></th>\n",
       "      <th>name</th>\n",
       "      <th>division</th>\n",
       "      <th>chair_id</th>\n",
       "      <th>chair_last</th>\n",
       "      <th>chair_first</th>\n",
       "    </tr>\n",
       "    <tr>\n",
       "      <th>id</th>\n",
       "      <th></th>\n",
       "      <th></th>\n",
       "      <th></th>\n",
       "      <th></th>\n",
       "      <th></th>\n",
       "    </tr>\n",
       "  </thead>\n",
       "  <tbody>\n",
       "    <tr>\n",
       "      <th>CINE</th>\n",
       "      <td>Cinema</td>\n",
       "      <td>Fine Arts</td>\n",
       "      <td>9042</td>\n",
       "      <td>Rice</td>\n",
       "      <td>Theresa</td>\n",
       "    </tr>\n",
       "    <tr>\n",
       "      <th>MATH</th>\n",
       "      <td>Mathematics &amp; Computer Science</td>\n",
       "      <td>Natural Sciences</td>\n",
       "      <td>9140</td>\n",
       "      <td>Bradley</td>\n",
       "      <td>Betty</td>\n",
       "    </tr>\n",
       "  </tbody>\n",
       "</table>\n",
       "</div>"
      ],
      "text/plain": [
       "                                name          division chair_id chair_last  \\\n",
       "id                                                                           \n",
       "CINE                          Cinema         Fine Arts     9042       Rice   \n",
       "MATH  Mathematics & Computer Science  Natural Sciences     9140    Bradley   \n",
       "\n",
       "     chair_first  \n",
       "id                \n",
       "CINE     Theresa  \n",
       "MATH       Betty  "
      ]
     },
     "execution_count": 96,
     "metadata": {},
     "output_type": "execute_result"
    }
   ],
   "source": [
    "d, s = xml_department(departments)\n",
    "d.head()"
   ]
  },
  {
   "cell_type": "code",
   "execution_count": 97,
   "id": "74cddbdd-51e8-476a-a744-ba17a4702459",
   "metadata": {},
   "outputs": [
    {
     "data": {
      "text/html": [
       "<div>\n",
       "<style scoped>\n",
       "    .dataframe tbody tr th:only-of-type {\n",
       "        vertical-align: middle;\n",
       "    }\n",
       "\n",
       "    .dataframe tbody tr th {\n",
       "        vertical-align: top;\n",
       "    }\n",
       "\n",
       "    .dataframe thead th {\n",
       "        text-align: right;\n",
       "    }\n",
       "</style>\n",
       "<table border=\"1\" class=\"dataframe\">\n",
       "  <thead>\n",
       "    <tr style=\"text-align: right;\">\n",
       "      <th></th>\n",
       "      <th>department_id</th>\n",
       "      <th>name</th>\n",
       "    </tr>\n",
       "    <tr>\n",
       "      <th>id</th>\n",
       "      <th></th>\n",
       "      <th></th>\n",
       "    </tr>\n",
       "  </thead>\n",
       "  <tbody>\n",
       "    <tr>\n",
       "      <th>CS</th>\n",
       "      <td>MATH</td>\n",
       "      <td>Computer Science</td>\n",
       "    </tr>\n",
       "    <tr>\n",
       "      <th>MATH</th>\n",
       "      <td>MATH</td>\n",
       "      <td>Mathematics</td>\n",
       "    </tr>\n",
       "  </tbody>\n",
       "</table>\n",
       "</div>"
      ],
      "text/plain": [
       "     department_id              name\n",
       "id                                  \n",
       "CS            MATH  Computer Science\n",
       "MATH          MATH       Mathematics"
      ]
     },
     "execution_count": 97,
     "metadata": {},
     "output_type": "execute_result"
    }
   ],
   "source": [
    "s.head()"
   ]
  },
  {
   "cell_type": "markdown",
   "id": "7d25bd30-f7bc-498f-b4c1-ba55e33a30aa",
   "metadata": {},
   "source": [
    "**16.3.1.5 Wrangling Courses**"
   ]
  },
  {
   "cell_type": "raw",
   "id": "172c6a12-1d65-49f2-802a-12ead555b4d0",
   "metadata": {},
   "source": [
    "<course subject=\"CINE\" num=\"104\">\n",
    "    <title>Film Aesthetics/Analysis</title>\n",
    "    <hours>4.0</hours>\n",
    "    <class id=\"40371\">\n",
    "        <term>FALL</term>\n",
    "        <section>01</section>\n",
    "        <meeting>13:30-14:20 MWF</meeting>\n",
    "        <instructorid>9273.0</instructorid>\n",
    "    </class>\n",
    "    <class id=\"40372\">\n",
    "        <term>FALL</term>\n",
    "        <section>02</section>\n",
    "        <meeting>10:30-11:20 MWF</meeting>\n",
    "        <instructorid>9097.0</instructorid>\n",
    "    </class>\n",
    "    <class id=\"21636\">\n",
    "        <term>SPRING</term>\n",
    "        <section>01</section>\n",
    "        <meeting>10:30-11:20 MWF</meeting>\n",
    "        <instructorid>9097.0</instructorid>\n",
    "    </class>\n",
    "</course>"
   ]
  },
  {
   "cell_type": "code",
   "execution_count": 101,
   "id": "1da82bf8-97aa-48fd-a31a-99e1ccdcadab",
   "metadata": {},
   "outputs": [],
   "source": [
    "def xml_courses(courses_root):\n",
    "    import pandas as pd\n",
    "\n",
    "    # line of courses\n",
    "    LoC = []\n",
    "    # line of class\n",
    "    Loc = []\n",
    "\n",
    "    def child_value(node, tag):\n",
    "        first_find = node.find(tag)\n",
    "        if first_find != None:\n",
    "            return first_find.text\n",
    "\n",
    "    for course_node in courses_root:\n",
    "        course_subject = course_node.get(\"subject\")\n",
    "        course_num = course_node.get(\"num\")\n",
    "        rowC = {\"course_subject\": course_subject, \"course_num\": course_num}\n",
    "\n",
    "        rowC[\"title\"] = child_value(course_node, \"title\")\n",
    "        rowD[\"hours\"] = child_value(course_node, \"hours\")\n",
    "        class_node = course_node.find(\"class\")\n",
    "        if class_node is not None:\n",
    "            rowc = {\"course_subject\": course_subject, \"course_num\": course_num}\n",
    "            rowc[\"classid\"] = class_node.get(\"id\")\n",
    "            rowc[\"term\"] = child_value(class_node, \"term\")\n",
    "            rowc[\"section\"] = child_value(class_node, \"section\")\n",
    "            rowc[\"meeting\"] = child_value(class_node, \"meeting\")\n",
    "            rowc[\"instructorid\"] = child_value(class_node, \"instuctorid\")\n",
    "            Loc.append(rowc)\n",
    "\n",
    "        LoC.append(rowC)\n",
    "\n",
    "    df_C = pd.DataFrame(LoC)\n",
    "    df_C.set_index([\"course_subject\", \"course_num\"], inplace=True)\n",
    "\n",
    "    df_c = pd.DataFrame(Loc)\n",
    "    df_c.set_index([\"course_subject\", \"course_num\"], inplace=True)\n",
    "\n",
    "    return df_C, df_c"
   ]
  },
  {
   "cell_type": "code",
   "execution_count": 102,
   "id": "e939a8c2-b96a-4ebd-bd27-38d96e4bcad5",
   "metadata": {},
   "outputs": [
    {
     "data": {
      "text/html": [
       "<div>\n",
       "<style scoped>\n",
       "    .dataframe tbody tr th:only-of-type {\n",
       "        vertical-align: middle;\n",
       "    }\n",
       "\n",
       "    .dataframe tbody tr th {\n",
       "        vertical-align: top;\n",
       "    }\n",
       "\n",
       "    .dataframe thead th {\n",
       "        text-align: right;\n",
       "    }\n",
       "</style>\n",
       "<table border=\"1\" class=\"dataframe\">\n",
       "  <thead>\n",
       "    <tr style=\"text-align: right;\">\n",
       "      <th></th>\n",
       "      <th></th>\n",
       "      <th>title</th>\n",
       "    </tr>\n",
       "    <tr>\n",
       "      <th>course_subject</th>\n",
       "      <th>course_num</th>\n",
       "      <th></th>\n",
       "    </tr>\n",
       "  </thead>\n",
       "  <tbody>\n",
       "    <tr>\n",
       "      <th rowspan=\"5\" valign=\"top\">CINE</th>\n",
       "      <th>104</th>\n",
       "      <td>Film Aesthetics/Analysis</td>\n",
       "    </tr>\n",
       "    <tr>\n",
       "      <th>219</th>\n",
       "      <td>Elementary Cinema Prod</td>\n",
       "    </tr>\n",
       "    <tr>\n",
       "      <th>310</th>\n",
       "      <td>Intermediate Cinema Prod</td>\n",
       "    </tr>\n",
       "    <tr>\n",
       "      <th>326</th>\n",
       "      <td>History of Cinema</td>\n",
       "    </tr>\n",
       "    <tr>\n",
       "      <th>361</th>\n",
       "      <td>Directed Study</td>\n",
       "    </tr>\n",
       "  </tbody>\n",
       "</table>\n",
       "</div>"
      ],
      "text/plain": [
       "                                              title\n",
       "course_subject course_num                          \n",
       "CINE           104         Film Aesthetics/Analysis\n",
       "               219           Elementary Cinema Prod\n",
       "               310         Intermediate Cinema Prod\n",
       "               326                History of Cinema\n",
       "               361                   Directed Study"
      ]
     },
     "execution_count": 102,
     "metadata": {},
     "output_type": "execute_result"
    }
   ],
   "source": [
    "d, f = xml_courses(courses)\n",
    "d.head()"
   ]
  },
  {
   "cell_type": "code",
   "execution_count": 103,
   "id": "e3fe7088-869a-402d-91a8-afcbfbb91e4e",
   "metadata": {},
   "outputs": [
    {
     "data": {
      "text/html": [
       "<div>\n",
       "<style scoped>\n",
       "    .dataframe tbody tr th:only-of-type {\n",
       "        vertical-align: middle;\n",
       "    }\n",
       "\n",
       "    .dataframe tbody tr th {\n",
       "        vertical-align: top;\n",
       "    }\n",
       "\n",
       "    .dataframe thead th {\n",
       "        text-align: right;\n",
       "    }\n",
       "</style>\n",
       "<table border=\"1\" class=\"dataframe\">\n",
       "  <thead>\n",
       "    <tr style=\"text-align: right;\">\n",
       "      <th></th>\n",
       "      <th></th>\n",
       "      <th>classid</th>\n",
       "      <th>term</th>\n",
       "      <th>section</th>\n",
       "      <th>meeting</th>\n",
       "      <th>instructorid</th>\n",
       "    </tr>\n",
       "    <tr>\n",
       "      <th>course_subject</th>\n",
       "      <th>course_num</th>\n",
       "      <th></th>\n",
       "      <th></th>\n",
       "      <th></th>\n",
       "      <th></th>\n",
       "      <th></th>\n",
       "    </tr>\n",
       "  </thead>\n",
       "  <tbody>\n",
       "    <tr>\n",
       "      <th rowspan=\"5\" valign=\"top\">CINE</th>\n",
       "      <th>104</th>\n",
       "      <td>40371</td>\n",
       "      <td>FALL</td>\n",
       "      <td>01</td>\n",
       "      <td>13:30-14:20 MWF</td>\n",
       "      <td>None</td>\n",
       "    </tr>\n",
       "    <tr>\n",
       "      <th>219</th>\n",
       "      <td>40373</td>\n",
       "      <td>FALL</td>\n",
       "      <td>01</td>\n",
       "      <td>13:30-16:20 R</td>\n",
       "      <td>None</td>\n",
       "    </tr>\n",
       "    <tr>\n",
       "      <th>310</th>\n",
       "      <td>40374</td>\n",
       "      <td>FALL</td>\n",
       "      <td>01</td>\n",
       "      <td>14:30-17:20 W</td>\n",
       "      <td>None</td>\n",
       "    </tr>\n",
       "    <tr>\n",
       "      <th>326</th>\n",
       "      <td>21642</td>\n",
       "      <td>SPRING</td>\n",
       "      <td>01</td>\n",
       "      <td>12:30-13:20 MWF</td>\n",
       "      <td>None</td>\n",
       "    </tr>\n",
       "    <tr>\n",
       "      <th>407</th>\n",
       "      <td>40375</td>\n",
       "      <td>FALL</td>\n",
       "      <td>01</td>\n",
       "      <td>10:00-11:20 TR</td>\n",
       "      <td>None</td>\n",
       "    </tr>\n",
       "  </tbody>\n",
       "</table>\n",
       "</div>"
      ],
      "text/plain": [
       "                          classid    term section          meeting  \\\n",
       "course_subject course_num                                            \n",
       "CINE           104          40371    FALL      01  13:30-14:20 MWF   \n",
       "               219          40373    FALL      01    13:30-16:20 R   \n",
       "               310          40374    FALL      01    14:30-17:20 W   \n",
       "               326          21642  SPRING      01  12:30-13:20 MWF   \n",
       "               407          40375    FALL      01   10:00-11:20 TR   \n",
       "\n",
       "                          instructorid  \n",
       "course_subject course_num               \n",
       "CINE           104                None  \n",
       "               219                None  \n",
       "               310                None  \n",
       "               326                None  \n",
       "               407                None  "
      ]
     },
     "execution_count": 103,
     "metadata": {},
     "output_type": "execute_result"
    }
   ],
   "source": [
    "f.head()"
   ]
  },
  {
   "cell_type": "markdown",
   "id": "a11944b7-0ee2-4785-b69d-0e1e51506a92",
   "metadata": {},
   "source": [
    "# 16.3.2 Creating XML Data "
   ]
  },
  {
   "cell_type": "raw",
   "id": "533ad209-cbae-454e-a091-fdb7688808a8",
   "metadata": {},
   "source": [
    " {\"pop\": 64.02, \"gdp\": 2657.21} to xml"
   ]
  },
  {
   "cell_type": "code",
   "execution_count": 110,
   "id": "8ce700ea-b211-4ac1-930e-f148b6956098",
   "metadata": {},
   "outputs": [],
   "source": [
    "import numpy\n",
    "\n",
    "\n",
    "def buildTimedata(year, indvars):\n",
    "    \"\"\"\n",
    "    Given a year (as a string or as an int), create an\n",
    "    Element whose tag is timedata, with attribute of a\n",
    "    year set to the given year, and with a set of\n",
    "    children, one for each key-value pair in indvars.\n",
    "    \"\"\"\n",
    "\n",
    "    # create element timedata with attribute year\n",
    "    timedata = etree.Element(\"timedata\", year=str(year))\n",
    "    for key, value in indvars.items():\n",
    "        if not numpy.isnan(value):\n",
    "            # create node with key is tag, value is text\n",
    "            node = etree.Element(key)\n",
    "            node.text = str(value)\n",
    "        timedata.append(node)\n",
    "    return timedata"
   ]
  },
  {
   "cell_type": "code",
   "execution_count": 111,
   "id": "4c47d6f0-d5c1-484b-aed9-ce717d82b1fd",
   "metadata": {},
   "outputs": [
    {
     "name": "stdout",
     "output_type": "stream",
     "text": [
      "<timedata year=\"2007\">\n",
      "  <pop>64.02</pop>\n",
      "  <gdp>2657.21</gdp>\n",
      "</timedata>\n",
      "\n"
     ]
    }
   ],
   "source": [
    "node = buildTimedata(\"2007\", {\"pop\": 64.02, \"gdp\": 2657.21})\n",
    "util.print_tree(node)"
   ]
  },
  {
   "cell_type": "code",
   "execution_count": 108,
   "id": "b5549767-2a3f-4e39-aa8b-ae86f541c6f8",
   "metadata": {},
   "outputs": [],
   "source": [
    "def buildCountry(code, years):\n",
    "    \"\"\"\n",
    "    Build a country xml subtree. Country node is tagged\n",
    "    ’country’ and has an attribute of the country’s code.\n",
    "    \"\"\"\n",
    "\n",
    "    # create country element with attribute code\n",
    "    country_node = etree.Element(\"country\", code=code)\n",
    "    for year, indvars in years.items():\n",
    "        timedata = buildTimedata(year, indvars)\n",
    "        country_node.append(timedata)\n",
    "    return country_node"
   ]
  },
  {
   "cell_type": "code",
   "execution_count": 109,
   "id": "be031cff-e7a8-4690-9450-4e5408f6dfa9",
   "metadata": {},
   "outputs": [
    {
     "name": "stdout",
     "output_type": "stream",
     "text": [
      "<country code=\"FRA\">\n",
      "  <timedata year=\"2007\">\n",
      "    <pop>64.02</pop>\n",
      "    <gdp>2657.21</gdp>\n",
      "  </timedata>\n",
      "  <timedata year=\"2017\">\n",
      "    <pop>66.87</pop>\n",
      "    <gdp>2586.29</gdp>\n",
      "  </timedata>\n",
      "</country>\n",
      "\n"
     ]
    }
   ],
   "source": [
    "data = {\"2007\": {\"pop\": 64.02, \"gdp\": 2657.21}, \"2017\": {\"pop\": 66.87, \"gdp\": 2586.29}}\n",
    "node = buildCountry(\"FRA\", data)\n",
    "util.print_tree(node)"
   ]
  },
  {
   "cell_type": "markdown",
   "id": "18154512-c6f8-486c-a14f-5e9992ad7afb",
   "metadata": {},
   "source": [
    "## **XML Exercises**"
   ]
  },
  {
   "cell_type": "code",
   "execution_count": null,
   "id": "5e50bce8-ea4b-48eb-beb5-26810ba574b7",
   "metadata": {},
   "outputs": [],
   "source": []
  },
  {
   "cell_type": "markdown",
   "id": "d4274a13-690c-4ae8-a502-654689901664",
   "metadata": {},
   "source": [
    "# **16.4 XPath**"
   ]
  },
  {
   "cell_type": "code",
   "execution_count": 112,
   "id": "639dcb4a-1dc7-4c34-a0ca-5480d28690ee",
   "metadata": {},
   "outputs": [],
   "source": [
    "import util\n",
    "from lxml import etree\n",
    "\n",
    "myparser = etree.XMLParser(remove_blank_text=True)\n",
    "indtree = etree.parse(os.path.join(\"ind0.xml\"), myparser)\n",
    "indroot = indtree.getroot()\n",
    "toptree = etree.parse(os.path.join(\"topnames.xml\"), myparser)\n",
    "toproot = toptree.getroot()\n",
    "schtree = etree.parse(os.path.join(\"school.xml\"), myparser)\n",
    "schroot = schtree.getroot()"
   ]
  },
  {
   "cell_type": "raw",
   "id": "de8a8196-f980-435f-85d0-a56b341c880e",
   "metadata": {},
   "source": [
    "<?xml version='1.0' encoding='UTF-8'?>\n",
    "<indicators>\n",
    "  <country code=\"FRA\" name=\"France\">\n",
    "    <timedata year=\"2007\">\n",
    "      <pop>64.02</pop>\n",
    "      <gdp>2657.21</gdp>\n",
    "    </timedata>\n",
    "    <timedata year=\"2017\">\n",
    "      <pop>66.87</pop>\n",
    "      <gdp>2586.29</gdp>\n",
    "    </timedata>\n",
    "  </country>\n",
    "  <country code=\"GBR\" name=\"United Kingdom\">\n",
    "    <timedata year=\"2007\">\n",
    "      <pop>61.32</pop>\n",
    "      <gdp>3084.12</gdp>\n",
    "    </timedata>\n",
    "    <timedata year=\"2017\">\n",
    "      <pop>66.06</pop>\n",
    "      <gdp>2637.87</gdp>\n",
    "    </timedata>\n",
    "  </country>\n",
    "  <country code=\"USA\" name=\"United States\">\n",
    "    <timedata year=\"2007\">\n",
    "      <pop>301.23</pop>\n",
    "      <gdp>14451.9</gdp>\n",
    "    </timedata>\n",
    "    <timedata year=\"2017\">\n",
    "      <pop>325.15</pop>\n",
    "      <gdp>19485.4</gdp>\n",
    "    </timedata>\n",
    "  </country>\n",
    "</indicators>"
   ]
  },
  {
   "cell_type": "code",
   "execution_count": 118,
   "id": "f8455874-36b5-405e-9120-6e53d156d9a0",
   "metadata": {},
   "outputs": [
    {
     "name": "stdout",
     "output_type": "stream",
     "text": [
      "Length: 6 Type: <class 'lxml.etree._Element'>\n"
     ]
    }
   ],
   "source": [
    "nodeset = indroot.xpath(\"/indicators/country/timedata\")\n",
    "print(\"Length:\", len(nodeset), \"Type:\", type(nodeset[0]))"
   ]
  },
  {
   "cell_type": "code",
   "execution_count": 119,
   "id": "e17d4b7d-276e-44e5-b687-bfab27aab1f9",
   "metadata": {},
   "outputs": [
    {
     "name": "stdout",
     "output_type": "stream",
     "text": [
      "{'year': '2007'}\n"
     ]
    }
   ],
   "source": [
    "print(nodeset[0].attrib)"
   ]
  },
  {
   "cell_type": "code",
   "execution_count": 120,
   "id": "29391956-d9c8-4cf3-a210-5fdecd483bb2",
   "metadata": {},
   "outputs": [
    {
     "name": "stdout",
     "output_type": "stream",
     "text": [
      "<timedata year=\"2007\">\n",
      "  <pop>64.02</pop>\n",
      "  <gdp>2657.21</gdp>\n",
      "</timedata>\n",
      "\n",
      "<timedata year=\"2017\">\n",
      "  <pop>66.87</pop>\n",
      "  <gdp>2586.29</gdp>\n",
      "</timedata>\n",
      "\n",
      "<timedata year=\"2007\">\n",
      "  <pop>61.32</pop>\n",
      "  <gdp>3084.12</gdp>\n",
      "</timedata>\n",
      "\n",
      "<timedata year=\"2017\">\n",
      "  <pop>66.06</pop>\n",
      "  <gdp>2637.87</gdp>\n",
      "</timedata>\n",
      "\n",
      "<timedata year=\"2007\">\n",
      "  <pop>301.23</pop>\n",
      "  <gdp>14451.9</gdp>\n",
      "</timedata>\n",
      "\n",
      "<timedata year=\"2017\">\n",
      "  <pop>325.15</pop>\n",
      "  <gdp>19485.4</gdp>\n",
      "</timedata>\n",
      "\n"
     ]
    }
   ],
   "source": [
    "for node in nodeset:\n",
    "    util.print_tree(node)"
   ]
  },
  {
   "cell_type": "code",
   "execution_count": 134,
   "id": "4b678ed9-ae92-48ac-a8c9-5f646147810d",
   "metadata": {},
   "outputs": [
    {
     "name": "stdout",
     "output_type": "stream",
     "text": [
      "Length: 3 Type: <class 'lxml.etree._Element'>\n",
      "<timedata year=\"2007\">\n",
      "  <pop>64.02</pop>\n",
      "  <gdp>2657.21</gdp>\n",
      "</timedata>\n",
      "\n",
      "<timedata year=\"2007\">\n",
      "  <pop>61.32</pop>\n",
      "  <gdp>3084.12</gdp>\n",
      "</timedata>\n",
      "\n",
      "<timedata year=\"2007\">\n",
      "  <pop>301.23</pop>\n",
      "  <gdp>14451.9</gdp>\n",
      "</timedata>\n",
      "\n"
     ]
    }
   ],
   "source": [
    "# find a nodeset timedata with attribute year = 2007\n",
    "nodeset = indroot.xpath(\"/indicators/country/timedata[@year = 2007]\")\n",
    "print(\"Length:\", len(nodeset), \"Type:\", type(nodeset[0]))\n",
    "\n",
    "for node in nodeset:\n",
    "    util.print_tree(node)"
   ]
  },
  {
   "cell_type": "code",
   "execution_count": 135,
   "id": "3b1fc8dc-8531-418d-906e-bae76fc91a96",
   "metadata": {},
   "outputs": [
    {
     "name": "stdout",
     "output_type": "stream",
     "text": [
      "['64.02', '66.87', '61.32', '66.06', '301.23', '325.15']\n"
     ]
    }
   ],
   "source": [
    "# find all text of pop node\n",
    "popText = indroot.xpath(\"//pop/text()\")\n",
    "print(popText)"
   ]
  },
  {
   "cell_type": "code",
   "execution_count": 136,
   "id": "d9139f90-6e90-4158-aa58-0a3b7d0ceb95",
   "metadata": {},
   "outputs": [
    {
     "data": {
      "text/plain": [
       "[64.02, 61.32, 301.23]"
      ]
     },
     "execution_count": 136,
     "metadata": {},
     "output_type": "execute_result"
    }
   ],
   "source": [
    "path = \"//timedata[@year='2007']/pop/text()\"\n",
    "popListText2007 = indroot.xpath(path)\n",
    "popList2007 = list(map(float, popListText2007))\n",
    "popList2007"
   ]
  },
  {
   "cell_type": "code",
   "execution_count": 137,
   "id": "cb09fb6a-8a5b-4c1f-97f9-afda403997a9",
   "metadata": {},
   "outputs": [
    {
     "data": {
      "text/plain": [
       "['64.02', '61.32', '301.23']"
      ]
     },
     "execution_count": 137,
     "metadata": {},
     "output_type": "execute_result"
    }
   ],
   "source": [
    "indroot.xpath(\"\"\"//timedata[@year=\"2007\"]/pop/text()\"\"\")"
   ]
  },
  {
   "cell_type": "code",
   "execution_count": 138,
   "id": "8e7e053f-13d6-401f-bd5c-45ecb0fc8c18",
   "metadata": {},
   "outputs": [
    {
     "name": "stdout",
     "output_type": "stream",
     "text": [
      "['66.87', '66.06', '325.15']\n"
     ]
    }
   ],
   "source": [
    "def popList(tree, year):\n",
    "    path = \"//timedata[@year= {} ]/pop/text()\".format(2017)\n",
    "    popList = tree.xpath(path)\n",
    "    return popList\n",
    "\n",
    "\n",
    "popList = popList(indroot, 2017)\n",
    "print(popList)"
   ]
  },
  {
   "cell_type": "code",
   "execution_count": 139,
   "id": "461acdea-0af8-4fca-ab7b-9bbd367fe48f",
   "metadata": {},
   "outputs": [],
   "source": [
    "# find node with that attributes ?\n",
    "codeList = indroot.xpath(\"//@code\")\n",
    "nameList = indroot.xpath(\"//@name\")"
   ]
  },
  {
   "cell_type": "code",
   "execution_count": 141,
   "id": "6818214f-fc5c-40ac-bd6d-b5220c355272",
   "metadata": {},
   "outputs": [
    {
     "name": "stdout",
     "output_type": "stream",
     "text": [
      "['FRA', 'GBR', 'USA'] ['France', 'United Kingdom', 'United States']\n"
     ]
    }
   ],
   "source": [
    "print(codeList, nameList)"
   ]
  },
  {
   "cell_type": "raw",
   "id": "d20ddf7b-c4eb-4e9f-94b6-99974f337ca9",
   "metadata": {},
   "source": [
    "<?xml version='1.0' encoding='UTF-8'?>\n",
    "<topnames>\n",
    "  <year value=\"1880\">\n",
    "    <sex value=\"Female\">\n",
    "      <name>Mary</name>\n",
    "      <count>7065</count>\n",
    "    </sex>\n",
    "    <sex value=\"Male\">\n",
    "      <name>John</name>\n",
    "      <count>9655</count>\n",
    "    </sex>\n",
    "  </year>\n",
    "  <year value=\"1881\">\n",
    "    <sex value=\"Female\">\n",
    "      <name>Mary</name>\n",
    "      <count>6919</count>\n",
    "    </sex>"
   ]
  },
  {
   "cell_type": "code",
   "execution_count": 166,
   "id": "646c0c4f-d29e-4e44-98e1-497d000a7812",
   "metadata": {},
   "outputs": [
    {
     "name": "stdout",
     "output_type": "stream",
     "text": [
      "[9655, 8769, 9557, 8894, 9388, 8756, 9026, 8110, 9247, 8548, 8502, 7680, 9039, 8049, 8238, 8320, 8138, 7550, 8159, 6990, 9829, 6900, 7907, 7608, 8108, 8060, 8265, 8983, 9342, 9591, 11450, 13446, 24587, 29329, 37948, 47576, 50043, 51853, 56558, 53528, 56913, 58217, 57277, 57470, 60801, 60897, 61130, 61669, 60699, 59798, 62149, 60508, 59266, 54218, 55829, 56524, 58492, 61835, 62268, 59645, 62473, 66736, 77176, 80261, 76951, 74449, 87436, 94757, 88584, 86857, 86224, 87261, 87063, 86256, 88528, 88327, 90656, 92704, 90517, 85251, 85929, 86917, 85034, 83782, 82646, 81021, 79990, 82436, 82008, 85203, 85302, 77594, 71405, 67847, 67578, 68454, 66954, 67616, 67158, 67739, 68696, 68763, 68235, 68000, 67741, 64912, 64208, 63655, 64143, 65389, 65290, 60785, 54392, 49549, 44469, 41402, 38364, 37549, 36615, 35363, 34477, 32545, 30574, 29638, 27881, 25833, 24845, 24282, 22594, 21175, 22127, 20371, 19074, 18257, 19305, 19635, 19117, 18798, 19837]\n",
      "47597.81294964029\n"
     ]
    }
   ],
   "source": [
    "# find average number male over years\n",
    "\n",
    "male_path = \"//sex[@value = 'Male']/count/text()\"\n",
    "\n",
    "male_list = toproot.xpath(male_path)\n",
    "new_male_list = list(map(int, male_list))\n",
    "print(new_male_list)\n",
    "print(sum(new_male_list) / len(new_male_list))"
   ]
  },
  {
   "cell_type": "code",
   "execution_count": 171,
   "id": "1173c000-d95c-462f-83ee-91965ffe31eb",
   "metadata": {},
   "outputs": [
    {
     "data": {
      "text/plain": [
       "94757"
      ]
     },
     "execution_count": 171,
     "metadata": {},
     "output_type": "execute_result"
    }
   ],
   "source": [
    "max_ = max(new_male_list)\n",
    "max_"
   ]
  },
  {
   "cell_type": "code",
   "execution_count": 175,
   "id": "bbd85589-ad49-42c6-b7f6-e625416809a9",
   "metadata": {},
   "outputs": [
    {
     "name": "stdout",
     "output_type": "stream",
     "text": [
      "Tag: topnames\n",
      " Text: None\n",
      " Attrib: {}\n",
      "Tag: year\n",
      " Text: None\n",
      " Attrib: {'value': '1947'}\n",
      "Tag: sex\n",
      " Text: None\n",
      " Attrib: {'value': 'Male'}\n"
     ]
    }
   ],
   "source": [
    "node_max = toproot.xpath(\"//count[text() = '{}']/ancestor::*\".format(max_))\n",
    "# print(len(node_max))\n",
    "for node in node_max:\n",
    "    if type(node) == etree._Element:\n",
    "        print(\"Tag:\", node.tag)\n",
    "        print(\" Text:\", node.text)\n",
    "        print(\" Attrib:\", node.attrib)"
   ]
  },
  {
   "cell_type": "raw",
   "id": "28bc260a-a712-4f7c-a57f-759a943b25a9",
   "metadata": {},
   "source": [
    "  <instructors>\n",
    "    <instructor id=\"9024\">\n",
    "      <first>Lori</first>\n",
    "      <last>Williams</last>\n",
    "      <departmentid>MATH</departmentid>\n",
    "      <city>Granville</city>\n",
    "      <state>OH</state>\n",
    "      <title>Professor, Math &amp; CS</title>\n",
    "    </instructor>\n",
    "    <instructor id=\"9031\">\n",
    "      <first>Ankita</first>\n",
    "      <last>Jayaraman</last>\n",
    "      <departmentid>MATH</departmentid>\n",
    "      <city>Granville</city>\n",
    "      <state>OH</state>\n",
    "      <title>Associate Professor, Math &amp; CS</title>\n",
    "    </instructor>"
   ]
  },
  {
   "cell_type": "markdown",
   "id": "3c75a616-7310-40af-a73b-5a50b48004b3",
   "metadata": {},
   "source": [
    "because using Xpath we can match entire list. Create list of  the list of all instructor\n",
    "first names, or the list of all instructor titles. Each such list is a column of the\n",
    "data frame we seek to build \n",
    "\n",
    "-----> compare with function **xml_instructore above** - create instructor dataframe using procedure vs XPath declarative approach"
   ]
  },
  {
   "cell_type": "code",
   "execution_count": 178,
   "id": "d5fddc09-c803-4446-b4b9-17d28328bedd",
   "metadata": {},
   "outputs": [
    {
     "data": {
      "text/plain": [
       "['9024', '9031']"
      ]
     },
     "execution_count": 178,
     "metadata": {},
     "output_type": "execute_result"
    }
   ],
   "source": [
    "inst_id = \"/school/instructors/instructor/@id\"\n",
    "inst_id_list = school0_root.xpath(inst_id)\n",
    "inst_id_list[:2]"
   ]
  },
  {
   "cell_type": "code",
   "execution_count": 179,
   "id": "64858cf6-9ccd-4f45-9ac4-2adf3aa7dfdc",
   "metadata": {},
   "outputs": [
    {
     "data": {
      "text/plain": [
       "['Lori', 'Ankita']"
      ]
     },
     "execution_count": 179,
     "metadata": {},
     "output_type": "execute_result"
    }
   ],
   "source": [
    "inst_first = \"/school/instructors/instructor/first/text()\"\n",
    "inst_first_list = school0_root.xpath(inst_first)\n",
    "inst_first_list[:2]"
   ]
  },
  {
   "cell_type": "code",
   "execution_count": 180,
   "id": "dcb4e35e-f41c-4ef3-b777-abbf0ebf0bc3",
   "metadata": {},
   "outputs": [
    {
     "data": {
      "text/plain": [
       "['Williams', 'Jayaraman']"
      ]
     },
     "execution_count": 180,
     "metadata": {},
     "output_type": "execute_result"
    }
   ],
   "source": [
    "inst_last = \"/school/instructors/instructor/last/text()\"\n",
    "inst_last_list = school0_root.xpath(inst_last)\n",
    "inst_last_list[:2]"
   ]
  },
  {
   "cell_type": "code",
   "execution_count": 181,
   "id": "de296934-ef99-47e7-b45b-d8435a694c4b",
   "metadata": {},
   "outputs": [
    {
     "data": {
      "text/plain": [
       "['MATH', 'MATH']"
      ]
     },
     "execution_count": 181,
     "metadata": {},
     "output_type": "execute_result"
    }
   ],
   "source": [
    "inst_dep = \"/school/instructors/instructor/departmentid/text()\"\n",
    "inst_dep_list = school0_root.xpath(inst_dep)\n",
    "inst_dep_list[:2]"
   ]
  },
  {
   "cell_type": "code",
   "execution_count": 182,
   "id": "30d549c0-9d14-4031-9681-9e270c59980d",
   "metadata": {},
   "outputs": [
    {
     "data": {
      "text/plain": [
       "['Granville', 'Granville']"
      ]
     },
     "execution_count": 182,
     "metadata": {},
     "output_type": "execute_result"
    }
   ],
   "source": [
    "inst_city = \"/school/instructors/instructor/city/text()\"\n",
    "inst_city_list = school0_root.xpath(inst_city)\n",
    "inst_city_list[:2]"
   ]
  },
  {
   "cell_type": "code",
   "execution_count": 185,
   "id": "6fe27cb6-3193-454a-a227-99ec516b38a6",
   "metadata": {},
   "outputs": [
    {
     "data": {
      "text/plain": [
       "['OH', 'OH', 'OH']"
      ]
     },
     "execution_count": 185,
     "metadata": {},
     "output_type": "execute_result"
    }
   ],
   "source": [
    "inst_state = \"/school/instructors/instructor/state/text()\"\n",
    "inst_state_list = school0_root.xpath(inst_state)\n",
    "inst_state_list[:3]"
   ]
  },
  {
   "cell_type": "code",
   "execution_count": 186,
   "id": "fb4020bb-1e61-4196-8185-312e253d93bb",
   "metadata": {},
   "outputs": [
    {
     "data": {
      "text/plain": [
       "['Professor, Math & CS', 'Associate Professor, Math & CS']"
      ]
     },
     "execution_count": 186,
     "metadata": {},
     "output_type": "execute_result"
    }
   ],
   "source": [
    "inst_title = \"/school/instructors/instructor/title/text()\"\n",
    "inst_title_list = school0_root.xpath(inst_title)\n",
    "inst_title_list[:2]"
   ]
  },
  {
   "cell_type": "code",
   "execution_count": 195,
   "id": "4778ff4b-9320-43eb-8b62-e992771bf7ce",
   "metadata": {},
   "outputs": [
    {
     "data": {
      "text/html": [
       "<div>\n",
       "<style scoped>\n",
       "    .dataframe tbody tr th:only-of-type {\n",
       "        vertical-align: middle;\n",
       "    }\n",
       "\n",
       "    .dataframe tbody tr th {\n",
       "        vertical-align: top;\n",
       "    }\n",
       "\n",
       "    .dataframe thead th {\n",
       "        text-align: right;\n",
       "    }\n",
       "</style>\n",
       "<table border=\"1\" class=\"dataframe\">\n",
       "  <thead>\n",
       "    <tr style=\"text-align: right;\">\n",
       "      <th></th>\n",
       "      <th>firstname</th>\n",
       "      <th>lastname</th>\n",
       "      <th>department_id</th>\n",
       "      <th>city</th>\n",
       "      <th>state</th>\n",
       "      <th>title</th>\n",
       "    </tr>\n",
       "    <tr>\n",
       "      <th>id</th>\n",
       "      <th></th>\n",
       "      <th></th>\n",
       "      <th></th>\n",
       "      <th></th>\n",
       "      <th></th>\n",
       "      <th></th>\n",
       "    </tr>\n",
       "  </thead>\n",
       "  <tbody>\n",
       "    <tr>\n",
       "      <th>9024</th>\n",
       "      <td>Lori</td>\n",
       "      <td>Williams</td>\n",
       "      <td>MATH</td>\n",
       "      <td>Granville</td>\n",
       "      <td>OH</td>\n",
       "      <td>OH</td>\n",
       "    </tr>\n",
       "    <tr>\n",
       "      <th>9031</th>\n",
       "      <td>Ankita</td>\n",
       "      <td>Jayaraman</td>\n",
       "      <td>MATH</td>\n",
       "      <td>Granville</td>\n",
       "      <td>OH</td>\n",
       "      <td>OH</td>\n",
       "    </tr>\n",
       "    <tr>\n",
       "      <th>9059</th>\n",
       "      <td>Arthur</td>\n",
       "      <td>Chapman</td>\n",
       "      <td>MATH</td>\n",
       "      <td>Granville</td>\n",
       "      <td>OH</td>\n",
       "      <td>OH</td>\n",
       "    </tr>\n",
       "    <tr>\n",
       "      <th>9077</th>\n",
       "      <td>Jordan</td>\n",
       "      <td>Ray</td>\n",
       "      <td>MATH</td>\n",
       "      <td>Granville</td>\n",
       "      <td>OH</td>\n",
       "      <td>OH</td>\n",
       "    </tr>\n",
       "    <tr>\n",
       "      <th>9106</th>\n",
       "      <td>Kathleen</td>\n",
       "      <td>Campbell</td>\n",
       "      <td>MATH</td>\n",
       "      <td>Granville</td>\n",
       "      <td>OH</td>\n",
       "      <td>OH</td>\n",
       "    </tr>\n",
       "  </tbody>\n",
       "</table>\n",
       "</div>"
      ],
      "text/plain": [
       "     firstname   lastname department_id       city state title\n",
       "id                                                            \n",
       "9024      Lori   Williams          MATH  Granville    OH    OH\n",
       "9031    Ankita  Jayaraman          MATH  Granville    OH    OH\n",
       "9059    Arthur    Chapman          MATH  Granville    OH    OH\n",
       "9077    Jordan        Ray          MATH  Granville    OH    OH\n",
       "9106  Kathleen   Campbell          MATH  Granville    OH    OH"
      ]
     },
     "execution_count": 195,
     "metadata": {},
     "output_type": "execute_result"
    }
   ],
   "source": [
    "LoD = {\n",
    "    \"id\": inst_id_list,\n",
    "    \"firstname\": inst_first_list,\n",
    "    \"lastname\": inst_last_list,\n",
    "    \"department_id\": inst_dep_list,\n",
    "    \"city\": inst_city_list,\n",
    "    \"state\": inst_state_list,\n",
    "    \"title\": inst_state_list,\n",
    "}\n",
    "\n",
    "\n",
    "df = pd.DataFrame(LoD)\n",
    "df.set_index(\"id\", inplace=True)\n",
    "df.head()"
   ]
  },
  {
   "cell_type": "code",
   "execution_count": null,
   "id": "9531343e-329d-4af7-b345-d1126bcc849c",
   "metadata": {},
   "outputs": [],
   "source": []
  }
 ],
 "metadata": {
  "kernelspec": {
   "display_name": "Python 3 (ipykernel)",
   "language": "python",
   "name": "python3"
  },
  "language_info": {
   "codemirror_mode": {
    "name": "ipython",
    "version": 3
   },
   "file_extension": ".py",
   "mimetype": "text/x-python",
   "name": "python",
   "nbconvert_exporter": "python",
   "pygments_lexer": "ipython3",
   "version": "3.8.10"
  }
 },
 "nbformat": 4,
 "nbformat_minor": 5
}

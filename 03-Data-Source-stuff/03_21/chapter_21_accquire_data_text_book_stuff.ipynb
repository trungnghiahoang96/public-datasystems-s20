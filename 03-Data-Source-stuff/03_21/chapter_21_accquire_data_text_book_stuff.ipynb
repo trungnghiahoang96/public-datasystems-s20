{
 "cells": [
  {
   "cell_type": "code",
   "execution_count": 1,
   "id": "191efbcf-1209-4892-b5f9-9343eddffbaa",
   "metadata": {},
   "outputs": [
    {
     "name": "stdout",
     "output_type": "stream",
     "text": [
      "<class 'str'> <class 'bytes'> 00480065006c006c006f0021\n"
     ]
    }
   ],
   "source": [
    "s = \"Hello!\"\n",
    "b16 = s.encode(\"UTF-16BE\")\n",
    "print(type(s), type(b16), b16.hex())"
   ]
  },
  {
   "cell_type": "code",
   "execution_count": 2,
   "id": "f41135a2-8fa0-44b3-bc5c-9c222919b1e8",
   "metadata": {},
   "outputs": [
    {
     "name": "stdout",
     "output_type": "stream",
     "text": [
      "<class 'str'> <class 'bytes'> 48656c6c6f21\n"
     ]
    }
   ],
   "source": [
    "b8 = s.encode(\"UTF-8\")\n",
    "print(type(s), type(b8), b8.hex())"
   ]
  },
  {
   "cell_type": "code",
   "execution_count": 4,
   "id": "500b0ced-5436-48e1-b256-0238e7fd434c",
   "metadata": {},
   "outputs": [
    {
     "name": "stdout",
     "output_type": "stream",
     "text": [
      "<class 'int'> 72 0x48 <class 'int'> 65 0x41\n"
     ]
    }
   ],
   "source": [
    "s1 = \"H\"\n",
    "s2 = \"A\"\n",
    "b1 = ord(s1)\n",
    "b2 = ord(s2)\n",
    "print(type(b1), b1, hex(b1), type(b2), b2, hex(b2))"
   ]
  },
  {
   "cell_type": "code",
   "execution_count": 6,
   "id": "b77e2a63-d41b-48f2-b87c-797aeb515406",
   "metadata": {},
   "outputs": [
    {
     "data": {
      "text/plain": [
       "b'Hello!'"
      ]
     },
     "execution_count": 6,
     "metadata": {},
     "output_type": "execute_result"
    }
   ],
   "source": [
    "b = bytes(s, encoding=\"ascii\")\n",
    "b"
   ]
  },
  {
   "cell_type": "code",
   "execution_count": 8,
   "id": "194cf9db-4de7-42d8-ba52-7af2ec129a0e",
   "metadata": {},
   "outputs": [
    {
     "name": "stdout",
     "output_type": "stream",
     "text": [
      "Hello! Hello!\n"
     ]
    }
   ],
   "source": [
    "s16 = b16.decode(\"UTF-16BE\")\n",
    "s8 = b8.decode()\n",
    "print(s16, s8)"
   ]
  },
  {
   "cell_type": "code",
   "execution_count": null,
   "id": "43614579-034d-4a8d-92fa-15e9ece85d1c",
   "metadata": {},
   "outputs": [],
   "source": []
  },
  {
   "cell_type": "markdown",
   "id": "90037c11-3036-40bb-a6f3-360ed3ae9039",
   "metadata": {},
   "source": [
    "# Some exercises"
   ]
  },
  {
   "cell_type": "markdown",
   "id": "782bb7d6-25e0-4746-96fb-d2caf499fcdc",
   "metadata": {},
   "source": [
    "**21.8** As the files ind2016.csv and ind2016_16.csv are stored on the book\n",
    "web page, please go and download them, then try to open them in the most naive\n",
    "program possible (i.e., a simple text editor). Describe what you see."
   ]
  },
  {
   "cell_type": "code",
   "execution_count": 22,
   "id": "b3e88d12-f796-46f9-b53c-8b28f69007fe",
   "metadata": {},
   "outputs": [],
   "source": [
    "import requests\n",
    "\n",
    "ind2016_url = \"https://datasystems.denison.edu/data/ind2016.csv\"\n",
    "\n",
    "in2016_16_url = \"https://datasystems.denison.edu/data/ind2016_16.csv\"\n",
    "\n",
    "in0_url = \"https://datasystems.denison.edu/data/ind0.json\""
   ]
  },
  {
   "cell_type": "code",
   "execution_count": 23,
   "id": "1d57201c-df65-4391-970b-479dca953f43",
   "metadata": {},
   "outputs": [
    {
     "data": {
      "text/plain": [
       "'https://datasystems.denison.edu/data/ind2016.csv'"
      ]
     },
     "execution_count": 23,
     "metadata": {},
     "output_type": "execute_result"
    }
   ],
   "source": [
    "ind2016_url"
   ]
  },
  {
   "cell_type": "code",
   "execution_count": 24,
   "id": "12d2a448-8744-482a-a2aa-b510d359305a",
   "metadata": {},
   "outputs": [
    {
     "data": {
      "text/plain": [
       "'https://datasystems.denison.edu/data/ind2016_16.csv'"
      ]
     },
     "execution_count": 24,
     "metadata": {},
     "output_type": "execute_result"
    }
   ],
   "source": [
    "# not exist\n",
    "in2016_16_url"
   ]
  },
  {
   "cell_type": "code",
   "execution_count": 25,
   "id": "5f8ab471-e994-4b15-ac91-91488378a1bb",
   "metadata": {},
   "outputs": [
    {
     "data": {
      "text/plain": [
       "'https://datasystems.denison.edu/data/ind0.json'"
      ]
     },
     "execution_count": 25,
     "metadata": {},
     "output_type": "execute_result"
    }
   ],
   "source": [
    "in0_url"
   ]
  },
  {
   "cell_type": "code",
   "execution_count": 26,
   "id": "a5f06d59-1e1b-45e9-8620-f2013cd2c4c9",
   "metadata": {},
   "outputs": [],
   "source": [
    "res_in0 = requests.get(in0_url)"
   ]
  },
  {
   "cell_type": "code",
   "execution_count": 27,
   "id": "7901c052-3a82-4a61-ad90-3f37d37db19b",
   "metadata": {},
   "outputs": [
    {
     "data": {
      "text/plain": [
       "{'Date': 'Fri, 29 Oct 2021 12:36:46 GMT', 'Server': 'Apache/2.4.6 (CentOS)', 'Last-Modified': 'Wed, 16 Dec 2020 23:45:42 GMT', 'ETag': '\"10d-5b69d7922d580\"', 'Accept-Ranges': 'bytes', 'Content-Length': '269', 'Connection': 'close', 'Content-Type': 'application/json'}"
      ]
     },
     "execution_count": 27,
     "metadata": {},
     "output_type": "execute_result"
    }
   ],
   "source": [
    "res_in0.headers"
   ]
  },
  {
   "cell_type": "code",
   "execution_count": 28,
   "id": "9859fcd8-3fdd-4ee2-8e4b-41ede3daeaaa",
   "metadata": {},
   "outputs": [
    {
     "data": {
      "text/plain": [
       "'utf-8'"
      ]
     },
     "execution_count": 28,
     "metadata": {},
     "output_type": "execute_result"
    }
   ],
   "source": [
    "res_in0.encoding"
   ]
  },
  {
   "cell_type": "code",
   "execution_count": 34,
   "id": "cbdd7ad3-bfb7-498e-bd1c-bdf51d956642",
   "metadata": {},
   "outputs": [
    {
     "data": {
      "text/plain": [
       "b'{\"FRA\": {\"2007\": {\"pop\": 64.02, \"gdp\": 2657.21}, \"2017\": {\"pop\": 66.87, \"gdp\": 2586.29}}, \"GBR\": {\"2007\": {\"pop\": 61.32, \"gdp\": 3084.12}, \"2017\": {\"pop\": 66.06, \"gdp\": 2637.87}}, \"USA\": {\"2007\": {\"pop\": 301.23, \"gdp\": 14451.9}, \"2017\": {\"pop\": 325.15, \"gdp\": 19485.4}}}'"
      ]
     },
     "execution_count": 34,
     "metadata": {},
     "output_type": "execute_result"
    }
   ],
   "source": [
    "res_in0.content"
   ]
  },
  {
   "cell_type": "code",
   "execution_count": 38,
   "id": "b1313b56-160c-49ce-bf1d-45f7c4762a2a",
   "metadata": {},
   "outputs": [
    {
     "name": "stdout",
     "output_type": "stream",
     "text": [
      "<class 'str'> {\"FRA\": {\"2007\": {\"pop\": 64.02, \"gdp\": 2657.21}, \"2017\": {\"pop\": 66.87, \"gdp\": 2586.29}}, \"GBR\": {\"2007\": {\"pop\": 61.32, \"gdp\": 3084.12}, \"2017\": {\"pop\": 66.06, \"gdp\": 2637.87}}, \"USA\": {\"2007\": {\"pop\": 301.23, \"gdp\": 14451.9}, \"2017\": {\"pop\": 325.15, \"gdp\": 19485.4}}}\n"
     ]
    }
   ],
   "source": [
    "data2 = res_in0.content.decode(res_in0.encoding)\n",
    "\n",
    "print(type(data2), data2)"
   ]
  },
  {
   "cell_type": "code",
   "execution_count": 42,
   "id": "64fee278-49fa-4405-ac23-4f15b93629e2",
   "metadata": {},
   "outputs": [
    {
     "name": "stdout",
     "output_type": "stream",
     "text": [
      "<class 'dict'> {'FRA': {'2007': {'pop': 64.02, 'gdp': 2657.21}, '2017': {'pop': 66.87, 'gdp': 2586.29}}, 'GBR': {'2007': {'pop': 61.32, 'gdp': 3084.12}, '2017': {'pop': 66.06, 'gdp': 2637.87}}, 'USA': {'2007': {'pop': 301.23, 'gdp': 14451.9}, '2017': {'pop': 325.15, 'gdp': 19485.4}}}\n"
     ]
    }
   ],
   "source": [
    "realdata2 = eval(data2)\n",
    "print(type(realdata2), realdata2)"
   ]
  },
  {
   "cell_type": "code",
   "execution_count": 39,
   "id": "c47a5108-bb0d-4a74-8436-9323b0142537",
   "metadata": {},
   "outputs": [
    {
     "name": "stdout",
     "output_type": "stream",
     "text": [
      "<class 'dict'> {'FRA': {'2007': {'pop': 64.02, 'gdp': 2657.21}, '2017': {'pop': 66.87, 'gdp': 2586.29}}, 'GBR': {'2007': {'pop': 61.32, 'gdp': 3084.12}, '2017': {'pop': 66.06, 'gdp': 2637.87}}, 'USA': {'2007': {'pop': 301.23, 'gdp': 14451.9}, '2017': {'pop': 325.15, 'gdp': 19485.4}}}\n"
     ]
    }
   ],
   "source": [
    "data1 = res_in0.json()\n",
    "print(type(data1), data1)"
   ]
  },
  {
   "cell_type": "code",
   "execution_count": 37,
   "id": "2f0bcac7-0ec2-419c-976d-16019c181ac1",
   "metadata": {},
   "outputs": [
    {
     "data": {
      "text/plain": [
       "False"
      ]
     },
     "execution_count": 37,
     "metadata": {},
     "output_type": "execute_result"
    }
   ],
   "source": [
    "data2 == data1"
   ]
  },
  {
   "cell_type": "code",
   "execution_count": 44,
   "id": "c8ec3852-66ec-43b1-9d51-ed7e4ac79056",
   "metadata": {},
   "outputs": [],
   "source": [
    "res = requests.get(ind2016_url)"
   ]
  },
  {
   "cell_type": "code",
   "execution_count": 50,
   "id": "27020efb-c26a-476f-95a6-c017760e94a3",
   "metadata": {},
   "outputs": [
    {
     "data": {
      "text/plain": [
       "{'Date': 'Fri, 29 Oct 2021 12:46:36 GMT', 'Server': 'Apache/2.4.6 (CentOS)', 'Last-Modified': 'Wed, 16 Dec 2020 23:45:46 GMT', 'ETag': '\"10f-5b69d795fde80\"', 'Accept-Ranges': 'bytes', 'Content-Length': '271', 'Connection': 'close', 'Content-Type': 'text/csv'}"
      ]
     },
     "execution_count": 50,
     "metadata": {},
     "output_type": "execute_result"
    }
   ],
   "source": [
    "res.headers"
   ]
  },
  {
   "cell_type": "code",
   "execution_count": 51,
   "id": "eb0dd6a9-2497-4207-982c-b79bff89ed99",
   "metadata": {},
   "outputs": [
    {
     "data": {
      "text/plain": [
       "'code,country,pop,gdp,life,cell\\nCAN,Canada,36.26,1535.77,82.3,30.75\\nCHN,China,1378.66,11199.15,76.25,1364.93\\nIND,India,1324.17,2263.79,68.56,1127.81\\nRUS,Russia,144.34,1283.16,71.59,229.13\\nUSA,United States,323.13,18624.47,78.69,395.88\\nVNM,Vietnam,94.57,205.28,76.25,120.6\\n'"
      ]
     },
     "execution_count": 51,
     "metadata": {},
     "output_type": "execute_result"
    }
   ],
   "source": [
    "res.text"
   ]
  },
  {
   "cell_type": "code",
   "execution_count": 52,
   "id": "8daac2f2-59ac-486e-9581-82f40b8caca2",
   "metadata": {},
   "outputs": [
    {
     "name": "stdout",
     "output_type": "stream",
     "text": [
      "<class 'str'> code,country,pop,gdp,life,cell\n",
      "CAN,Canada,36.26,1535.77,82.3,30.75\n",
      "CHN,China,1378.66,11199.15,76.25,1364.93\n",
      "IND,India,1324.17,2263.79,68.56,1127.81\n",
      "RUS,Russia,144.34,1283.16,71.59,229.13\n",
      "USA,United States,323.13,18624.47,78.69,395.88\n",
      "VNM,Vietnam,94.57,205.28,76.25,120.6\n",
      "\n"
     ]
    }
   ],
   "source": [
    "data1 = res.text\n",
    "print(type(data1), data1)"
   ]
  },
  {
   "cell_type": "code",
   "execution_count": 55,
   "id": "e771a53e-de5d-4a7f-bbc9-308f803eb6e4",
   "metadata": {},
   "outputs": [
    {
     "name": "stdout",
     "output_type": "stream",
     "text": [
      "<class 'str'> code,country,pop,gdp,life,cell\n",
      "CAN,Canada,36.26,1535.77,82.3,30.75\n",
      "CHN,China,1378.66,11199.15,76.25,1364.93\n",
      "IND,India,1324.17,2263.79,68.56,1127.81\n",
      "RUS,Russia,144.34,1283.16,71.59,229.13\n",
      "USA,United States,323.13,18624.47,78.69,395.88\n",
      "VNM,Vietnam,94.57,205.28,76.25,120.6\n",
      "\n"
     ]
    }
   ],
   "source": [
    "data2 = res.content.decode(res.encoding)\n",
    "print(type(data2), data2)"
   ]
  },
  {
   "cell_type": "markdown",
   "id": "0ed8ef39-40ce-4667-95d3-0124a70c2cdc",
   "metadata": {},
   "source": [
    "**21.11**\n",
    "\n"
   ]
  },
  {
   "cell_type": "code",
   "execution_count": 1,
   "id": "901f4da6-7cb5-4a30-892f-cf79479bdfee",
   "metadata": {},
   "outputs": [],
   "source": [
    "s = \"Unicode examples: \\u2B2C and \\u266A and \\u1F60 and \" \"\\u265E and \\u0394 and \\u0402\""
   ]
  },
  {
   "cell_type": "code",
   "execution_count": 2,
   "id": "3626e1ee-4b95-46f1-b079-5dad2931852b",
   "metadata": {},
   "outputs": [
    {
     "name": "stdout",
     "output_type": "stream",
     "text": [
      "Unicode examples: ⬬ and ♪ and ὠ and ♞ and Δ and Ђ\n"
     ]
    }
   ],
   "source": [
    "print(s)"
   ]
  },
  {
   "cell_type": "code",
   "execution_count": 8,
   "id": "726763b5-04f0-4746-9fb1-24d9482133f5",
   "metadata": {},
   "outputs": [
    {
     "name": "stdout",
     "output_type": "stream",
     "text": [
      "b'Unicode examples: \\xe2\\xac\\xac and \\xe2\\x99\\xaa and \\xe1\\xbd\\xa0 and \\xe2\\x99\\x9e and \\xce\\x94 and \\xd0\\x82'\n",
      "556e69636f6465206578616d706c65733a20e2acac20616e6420e299aa20616e6420e1bda020616e6420e2999e20616e6420ce9420616e6420d082\n"
     ]
    }
   ],
   "source": [
    "b8 = s.encode(\"utf-8\")\n",
    "print(b8)\n",
    "print(b8.hex())"
   ]
  },
  {
   "cell_type": "code",
   "execution_count": 9,
   "id": "374569b6-34dd-4c43-9c40-2c6245d2e863",
   "metadata": {},
   "outputs": [
    {
     "name": "stdout",
     "output_type": "stream",
     "text": [
      "b'\\xff\\xfeU\\x00n\\x00i\\x00c\\x00o\\x00d\\x00e\\x00 \\x00e\\x00x\\x00a\\x00m\\x00p\\x00l\\x00e\\x00s\\x00:\\x00 \\x00,+ \\x00a\\x00n\\x00d\\x00 \\x00j& \\x00a\\x00n\\x00d\\x00 \\x00`\\x1f \\x00a\\x00n\\x00d\\x00 \\x00^& \\x00a\\x00n\\x00d\\x00 \\x00\\x94\\x03 \\x00a\\x00n\\x00d\\x00 \\x00\\x02\\x04'\n",
      "fffe55006e00690063006f006400650020006500780061006d0070006c00650073003a0020002c2b200061006e00640020006a26200061006e0064002000601f200061006e00640020005e26200061006e00640020009403200061006e00640020000204\n"
     ]
    }
   ],
   "source": [
    "b16 = s.encode(\"utf-16\")\n",
    "print(b16)\n",
    "print(b16.hex())"
   ]
  },
  {
   "cell_type": "code",
   "execution_count": null,
   "id": "bb3404c1-2e28-49c2-be94-515589eb70ca",
   "metadata": {},
   "outputs": [],
   "source": []
  },
  {
   "cell_type": "markdown",
   "id": "075d1923-6dc5-4130-b62d-9d9e515150dc",
   "metadata": {},
   "source": [
    "**21.12** Write a function\n",
    " - shiftLetter(letter, n)\n",
    " \n",
    "whose parameter, letter, should be a single character. If the character is between\n",
    "\"A\" and \"Z\", the function returns an uppercase character n positions further along,\n",
    "and “wrapping” if the + n mapping goes past \"Z\". Likewise, it should map the\n",
    "lower case characters between \"a\" and \"z\". If the parameter letter is anything\n",
    "else, or not of length 1, the function should return letter.\n",
    "Hint: review functions ord() and chr() from the section, as well as the\n",
    "modulus operator %."
   ]
  },
  {
   "cell_type": "code",
   "execution_count": 30,
   "id": "242dc4a5-7315-4ebe-a033-816388cf25d2",
   "metadata": {},
   "outputs": [],
   "source": [
    "def shiftLetter(letter, n):\n",
    "    if len(letter) == 1:\n",
    "        if letter.isalpha() and letter.isupper():\n",
    "            return chr((ord(letter) + n) % 65 % 26 + 65)\n",
    "        elif letter.isalpha() and letter.islower():\n",
    "            return chr((ord(letter) + n) % 97 % 26 + 97)\n",
    "        else:\n",
    "            return letter\n",
    "    else:\n",
    "        return letter\n",
    "\n",
    "\n",
    "# encrypt(plaintext, n) --> shift each letter"
   ]
  },
  {
   "cell_type": "code",
   "execution_count": 33,
   "id": "20015bc7-2d0e-4ae4-a48e-befb900c593d",
   "metadata": {},
   "outputs": [
    {
     "name": "stdout",
     "output_type": "stream",
     "text": [
      "N C d Nghia\n"
     ]
    }
   ],
   "source": [
    "print(\n",
    "    shiftLetter(\"A\", 78),\n",
    "    shiftLetter(\"X\", 5),\n",
    "    shiftLetter(\"y\", 5),\n",
    "    shiftLetter(\"Nghia\", 2),\n",
    ")"
   ]
  },
  {
   "cell_type": "markdown",
   "id": "d2885ef5-0f8c-4ad9-ac67-1042d1059306",
   "metadata": {},
   "source": [
    "**21.15** Suppose you have, in your Python program, a variable that refers to a bytes\n",
    "data type, like mystery refers to the bytes constant literal as given here:\n",
    "\n",
    " Assume that you have narrowed the encodings down to one of the\n",
    "following:\n",
    "- “UTF-8,”\n",
    "- “UTF-16BE,”\n",
    "- “cp037,”\n",
    "- “latin_1.”\n",
    "\n",
    "Write code to convert the byte sequence to a character string and determine the\n",
    "correct encoding"
   ]
  },
  {
   "cell_type": "code",
   "execution_count": 35,
   "id": "70c911e3-e3ed-4d99-b91f-3ff799483f84",
   "metadata": {},
   "outputs": [],
   "source": [
    "mystery = (\n",
    "    b\"\\xc9\\xa2\\x95}\\xa3@\\x89\\xa3@\\x87\\x99\\x85\"\n",
    "    b\"\\x81\\xa3@\\xa3\\x96@\\x82\\x85@\\xa2\\x96\\x93\"\n",
    "    b\"\\xa5\\x89\\x95\\x87@\\x97\\x99\\x96\\x82\\x93\\x85\"\n",
    "    b\"\\x94\\xa2o@@\\xe8\\x96\\xa4@\\x82\\x85\\xa3Z\"\n",
    ")"
   ]
  },
  {
   "cell_type": "code",
   "execution_count": 39,
   "id": "fe59c272-2c30-4677-b9e2-d0ca1d95ccec",
   "metadata": {},
   "outputs": [],
   "source": [
    "import chardet\n",
    "\n",
    "the_encoding = chardet.detect(mystery)"
   ]
  },
  {
   "cell_type": "code",
   "execution_count": 47,
   "id": "19f9b01e-bc51-4fcc-ad74-47a57971e245",
   "metadata": {},
   "outputs": [
    {
     "data": {
      "text/plain": [
       "'É¢\\x95}£@\\x89£@\\x87\\x99\\x85\\x81£@£\\x96@\\x82\\x85@¢\\x96\\x93¥\\x89\\x95\\x87@\\x97\\x99\\x96\\x82\\x93\\x85\\x94¢o@@è\\x96¤@\\x82\\x85£Z'"
      ]
     },
     "execution_count": 47,
     "metadata": {},
     "output_type": "execute_result"
    }
   ],
   "source": [
    "a = mystery.decode(\"latin_1\")\n",
    "a"
   ]
  },
  {
   "cell_type": "code",
   "execution_count": 49,
   "id": "668a0a13-959c-48c4-8080-1dfa70f2d0b5",
   "metadata": {},
   "outputs": [
    {
     "data": {
      "text/plain": [
       "\"Isn't it great to be solving problems?  You bet!\""
      ]
     },
     "execution_count": 49,
     "metadata": {},
     "output_type": "execute_result"
    }
   ],
   "source": [
    "b = mystery.decode(\"cp037\")\n",
    "b"
   ]
  },
  {
   "cell_type": "markdown",
   "id": "467b1620-e0c1-4735-8909-9935516afff4",
   "metadata": {},
   "source": [
    "**21.2.2 CSV from Network Data with Python IO** "
   ]
  },
  {
   "cell_type": "code",
   "execution_count": 79,
   "id": "9299df6b-de1a-42c9-96ff-e259f41542a3",
   "metadata": {},
   "outputs": [],
   "source": [
    "import io\n",
    "\n",
    "import pandas as pd\n",
    "import requests"
   ]
  },
  {
   "cell_type": "code",
   "execution_count": 80,
   "id": "ca0633ac-c3f3-4c8d-918e-4c2f1f6cf637",
   "metadata": {},
   "outputs": [],
   "source": [
    "ind2016_url = \"https://datasystems.denison.edu/data/ind2016.csv\""
   ]
  },
  {
   "cell_type": "code",
   "execution_count": 81,
   "id": "f70686ad-a23f-4514-be89-7d05f70dd952",
   "metadata": {},
   "outputs": [
    {
     "data": {
      "text/plain": [
       "'ISO-8859-1'"
      ]
     },
     "execution_count": 81,
     "metadata": {},
     "output_type": "execute_result"
    }
   ],
   "source": [
    "response = requests.get(ind2016_url)\n",
    "response.encoding"
   ]
  },
  {
   "cell_type": "code",
   "execution_count": 82,
   "id": "54ceee8f-c293-4aff-b8e5-95bcfea24723",
   "metadata": {},
   "outputs": [
    {
     "data": {
      "text/plain": [
       "{'Date': 'Sat, 30 Oct 2021 08:31:36 GMT', 'Server': 'Apache/2.4.6 (CentOS)', 'Last-Modified': 'Wed, 16 Dec 2020 23:45:46 GMT', 'ETag': '\"10f-5b69d795fde80\"', 'Accept-Ranges': 'bytes', 'Content-Length': '271', 'Connection': 'close', 'Content-Type': 'text/csv'}"
      ]
     },
     "execution_count": 82,
     "metadata": {},
     "output_type": "execute_result"
    }
   ],
   "source": [
    "response.headers"
   ]
  },
  {
   "cell_type": "code",
   "execution_count": 83,
   "id": "164b81a0-123f-4161-b389-b0a2a2d23eae",
   "metadata": {},
   "outputs": [
    {
     "data": {
      "text/plain": [
       "b'code,country,pop,gdp,life,cell\\nCAN,Canada,36.26,1535.77,82.3,30.75\\nCHN,China,1378.66,11199.15,76.25,1364.93\\nIND,India,1324.17,2263.79,68.56,1127.81\\nRUS,Russia,144.34,1283.16,71.59,229.13\\nUSA,United States,323.13,18624.47,78.69,395.88\\nVNM,Vietnam,94.57,205.28,76.25,120.6\\n'"
      ]
     },
     "execution_count": 83,
     "metadata": {},
     "output_type": "execute_result"
    }
   ],
   "source": [
    "response.content"
   ]
  },
  {
   "cell_type": "code",
   "execution_count": 91,
   "id": "f1d3fba5-5f70-4592-972c-07a121d3e27d",
   "metadata": {},
   "outputs": [],
   "source": [
    "fileLikeObj = io.StringIO(response.text)\n",
    "headerList = fileLikeObj.readline().strip().split(\",\")"
   ]
  },
  {
   "cell_type": "code",
   "execution_count": 92,
   "id": "5111e1eb-ce5b-4ba1-9523-24defbafb075",
   "metadata": {},
   "outputs": [
    {
     "data": {
      "text/plain": [
       "['code', 'country', 'pop', 'gdp', 'life', 'cell']"
      ]
     },
     "execution_count": 92,
     "metadata": {},
     "output_type": "execute_result"
    }
   ],
   "source": [
    "headerList"
   ]
  },
  {
   "cell_type": "code",
   "execution_count": 93,
   "id": "9834e273-5fb3-4258-938d-c72819be1da3",
   "metadata": {},
   "outputs": [
    {
     "data": {
      "text/html": [
       "<div>\n",
       "<style scoped>\n",
       "    .dataframe tbody tr th:only-of-type {\n",
       "        vertical-align: middle;\n",
       "    }\n",
       "\n",
       "    .dataframe tbody tr th {\n",
       "        vertical-align: top;\n",
       "    }\n",
       "\n",
       "    .dataframe thead th {\n",
       "        text-align: right;\n",
       "    }\n",
       "</style>\n",
       "<table border=\"1\" class=\"dataframe\">\n",
       "  <thead>\n",
       "    <tr style=\"text-align: right;\">\n",
       "      <th></th>\n",
       "      <th>code</th>\n",
       "      <th>country</th>\n",
       "      <th>pop</th>\n",
       "      <th>gdp</th>\n",
       "      <th>life</th>\n",
       "      <th>cell</th>\n",
       "    </tr>\n",
       "  </thead>\n",
       "  <tbody>\n",
       "    <tr>\n",
       "      <th>0</th>\n",
       "      <td>CAN</td>\n",
       "      <td>Canada</td>\n",
       "      <td>36.26</td>\n",
       "      <td>1535.77</td>\n",
       "      <td>82.30</td>\n",
       "      <td>30.75</td>\n",
       "    </tr>\n",
       "    <tr>\n",
       "      <th>1</th>\n",
       "      <td>CHN</td>\n",
       "      <td>China</td>\n",
       "      <td>1378.66</td>\n",
       "      <td>11199.15</td>\n",
       "      <td>76.25</td>\n",
       "      <td>1364.93</td>\n",
       "    </tr>\n",
       "    <tr>\n",
       "      <th>2</th>\n",
       "      <td>IND</td>\n",
       "      <td>India</td>\n",
       "      <td>1324.17</td>\n",
       "      <td>2263.79</td>\n",
       "      <td>68.56</td>\n",
       "      <td>1127.81</td>\n",
       "    </tr>\n",
       "    <tr>\n",
       "      <th>3</th>\n",
       "      <td>RUS</td>\n",
       "      <td>Russia</td>\n",
       "      <td>144.34</td>\n",
       "      <td>1283.16</td>\n",
       "      <td>71.59</td>\n",
       "      <td>229.13</td>\n",
       "    </tr>\n",
       "    <tr>\n",
       "      <th>4</th>\n",
       "      <td>USA</td>\n",
       "      <td>United States</td>\n",
       "      <td>323.13</td>\n",
       "      <td>18624.47</td>\n",
       "      <td>78.69</td>\n",
       "      <td>395.88</td>\n",
       "    </tr>\n",
       "    <tr>\n",
       "      <th>5</th>\n",
       "      <td>VNM</td>\n",
       "      <td>Vietnam</td>\n",
       "      <td>94.57</td>\n",
       "      <td>205.28</td>\n",
       "      <td>76.25</td>\n",
       "      <td>120.60</td>\n",
       "    </tr>\n",
       "  </tbody>\n",
       "</table>\n",
       "</div>"
      ],
      "text/plain": [
       "  code        country      pop       gdp   life     cell\n",
       "0  CAN         Canada    36.26   1535.77  82.30    30.75\n",
       "1  CHN          China  1378.66  11199.15  76.25  1364.93\n",
       "2  IND          India  1324.17   2263.79  68.56  1127.81\n",
       "3  RUS         Russia   144.34   1283.16  71.59   229.13\n",
       "4  USA  United States   323.13  18624.47  78.69   395.88\n",
       "5  VNM        Vietnam    94.57    205.28  76.25   120.60"
      ]
     },
     "execution_count": 93,
     "metadata": {},
     "output_type": "execute_result"
    }
   ],
   "source": [
    "LoL = []\n",
    "for line in fileLikeObj:\n",
    "    rowlist = line.strip().split(\",\")\n",
    "    LoL.append(rowlist)\n",
    "\n",
    "df = pd.DataFrame(LoL, columns=headerList)\n",
    "df = df.astype({\"pop\": float, \"gdp\": float, \"gdp\": float, \"life\": float, \"cell\": float})\n",
    "\n",
    "df"
   ]
  },
  {
   "cell_type": "code",
   "execution_count": 95,
   "id": "4e453866-ff87-444c-b709-5aaf3395e5fd",
   "metadata": {},
   "outputs": [
    {
     "data": {
      "text/html": [
       "<div>\n",
       "<style scoped>\n",
       "    .dataframe tbody tr th:only-of-type {\n",
       "        vertical-align: middle;\n",
       "    }\n",
       "\n",
       "    .dataframe tbody tr th {\n",
       "        vertical-align: top;\n",
       "    }\n",
       "\n",
       "    .dataframe thead th {\n",
       "        text-align: right;\n",
       "    }\n",
       "</style>\n",
       "<table border=\"1\" class=\"dataframe\">\n",
       "  <thead>\n",
       "    <tr style=\"text-align: right;\">\n",
       "      <th></th>\n",
       "      <th>country</th>\n",
       "      <th>pop</th>\n",
       "      <th>gdp</th>\n",
       "      <th>life</th>\n",
       "      <th>cell</th>\n",
       "    </tr>\n",
       "    <tr>\n",
       "      <th>code</th>\n",
       "      <th></th>\n",
       "      <th></th>\n",
       "      <th></th>\n",
       "      <th></th>\n",
       "      <th></th>\n",
       "    </tr>\n",
       "  </thead>\n",
       "  <tbody>\n",
       "    <tr>\n",
       "      <th>CAN</th>\n",
       "      <td>Canada</td>\n",
       "      <td>36.26</td>\n",
       "      <td>1535.77</td>\n",
       "      <td>82.30</td>\n",
       "      <td>30.75</td>\n",
       "    </tr>\n",
       "    <tr>\n",
       "      <th>CHN</th>\n",
       "      <td>China</td>\n",
       "      <td>1378.66</td>\n",
       "      <td>11199.15</td>\n",
       "      <td>76.25</td>\n",
       "      <td>1364.93</td>\n",
       "    </tr>\n",
       "    <tr>\n",
       "      <th>IND</th>\n",
       "      <td>India</td>\n",
       "      <td>1324.17</td>\n",
       "      <td>2263.79</td>\n",
       "      <td>68.56</td>\n",
       "      <td>1127.81</td>\n",
       "    </tr>\n",
       "    <tr>\n",
       "      <th>RUS</th>\n",
       "      <td>Russia</td>\n",
       "      <td>144.34</td>\n",
       "      <td>1283.16</td>\n",
       "      <td>71.59</td>\n",
       "      <td>229.13</td>\n",
       "    </tr>\n",
       "    <tr>\n",
       "      <th>USA</th>\n",
       "      <td>United States</td>\n",
       "      <td>323.13</td>\n",
       "      <td>18624.47</td>\n",
       "      <td>78.69</td>\n",
       "      <td>395.88</td>\n",
       "    </tr>\n",
       "    <tr>\n",
       "      <th>VNM</th>\n",
       "      <td>Vietnam</td>\n",
       "      <td>94.57</td>\n",
       "      <td>205.28</td>\n",
       "      <td>76.25</td>\n",
       "      <td>120.60</td>\n",
       "    </tr>\n",
       "  </tbody>\n",
       "</table>\n",
       "</div>"
      ],
      "text/plain": [
       "            country      pop       gdp   life     cell\n",
       "code                                                  \n",
       "CAN          Canada    36.26   1535.77  82.30    30.75\n",
       "CHN           China  1378.66  11199.15  76.25  1364.93\n",
       "IND           India  1324.17   2263.79  68.56  1127.81\n",
       "RUS          Russia   144.34   1283.16  71.59   229.13\n",
       "USA   United States   323.13  18624.47  78.69   395.88\n",
       "VNM         Vietnam    94.57    205.28  76.25   120.60"
      ]
     },
     "execution_count": 95,
     "metadata": {},
     "output_type": "execute_result"
    }
   ],
   "source": [
    "fileLikeObj = io.StringIO(response.text)\n",
    "df = pd.read_csv(fileLikeObj, index_col=\"code\")\n",
    "df"
   ]
  },
  {
   "cell_type": "code",
   "execution_count": 96,
   "id": "63c1e13c-405a-4337-91d4-89f0341de33a",
   "metadata": {},
   "outputs": [
    {
     "data": {
      "text/plain": [
       "'ISO-8859-1'"
      ]
     },
     "execution_count": 96,
     "metadata": {},
     "output_type": "execute_result"
    }
   ],
   "source": [
    "ind2016_url = \"https://datasystems.denison.edu/data/ind2016.csv\"\n",
    "response = requests.get(ind2016_url)\n",
    "response.encoding"
   ]
  },
  {
   "cell_type": "code",
   "execution_count": 102,
   "id": "9b46c1ca-8887-4d9e-9b95-ac5f0e837be9",
   "metadata": {},
   "outputs": [
    {
     "data": {
      "text/html": [
       "<div>\n",
       "<style scoped>\n",
       "    .dataframe tbody tr th:only-of-type {\n",
       "        vertical-align: middle;\n",
       "    }\n",
       "\n",
       "    .dataframe tbody tr th {\n",
       "        vertical-align: top;\n",
       "    }\n",
       "\n",
       "    .dataframe thead th {\n",
       "        text-align: right;\n",
       "    }\n",
       "</style>\n",
       "<table border=\"1\" class=\"dataframe\">\n",
       "  <thead>\n",
       "    <tr style=\"text-align: right;\">\n",
       "      <th></th>\n",
       "      <th>code</th>\n",
       "      <th>country</th>\n",
       "      <th>pop</th>\n",
       "      <th>gdp</th>\n",
       "      <th>life</th>\n",
       "      <th>cell</th>\n",
       "    </tr>\n",
       "  </thead>\n",
       "  <tbody>\n",
       "    <tr>\n",
       "      <th>0</th>\n",
       "      <td>CAN</td>\n",
       "      <td>Canada</td>\n",
       "      <td>36.26</td>\n",
       "      <td>1535.77</td>\n",
       "      <td>82.30</td>\n",
       "      <td>30.75</td>\n",
       "    </tr>\n",
       "    <tr>\n",
       "      <th>1</th>\n",
       "      <td>CHN</td>\n",
       "      <td>China</td>\n",
       "      <td>1378.66</td>\n",
       "      <td>11199.15</td>\n",
       "      <td>76.25</td>\n",
       "      <td>1364.93</td>\n",
       "    </tr>\n",
       "    <tr>\n",
       "      <th>2</th>\n",
       "      <td>IND</td>\n",
       "      <td>India</td>\n",
       "      <td>1324.17</td>\n",
       "      <td>2263.79</td>\n",
       "      <td>68.56</td>\n",
       "      <td>1127.81</td>\n",
       "    </tr>\n",
       "    <tr>\n",
       "      <th>3</th>\n",
       "      <td>RUS</td>\n",
       "      <td>Russia</td>\n",
       "      <td>144.34</td>\n",
       "      <td>1283.16</td>\n",
       "      <td>71.59</td>\n",
       "      <td>229.13</td>\n",
       "    </tr>\n",
       "    <tr>\n",
       "      <th>4</th>\n",
       "      <td>USA</td>\n",
       "      <td>United States</td>\n",
       "      <td>323.13</td>\n",
       "      <td>18624.47</td>\n",
       "      <td>78.69</td>\n",
       "      <td>395.88</td>\n",
       "    </tr>\n",
       "    <tr>\n",
       "      <th>5</th>\n",
       "      <td>VNM</td>\n",
       "      <td>Vietnam</td>\n",
       "      <td>94.57</td>\n",
       "      <td>205.28</td>\n",
       "      <td>76.25</td>\n",
       "      <td>120.60</td>\n",
       "    </tr>\n",
       "  </tbody>\n",
       "</table>\n",
       "</div>"
      ],
      "text/plain": [
       "  code        country      pop       gdp   life     cell\n",
       "0  CAN         Canada    36.26   1535.77  82.30    30.75\n",
       "1  CHN          China  1378.66  11199.15  76.25  1364.93\n",
       "2  IND          India  1324.17   2263.79  68.56  1127.81\n",
       "3  RUS         Russia   144.34   1283.16  71.59   229.13\n",
       "4  USA  United States   323.13  18624.47  78.69   395.88\n",
       "5  VNM        Vietnam    94.57    205.28  76.25   120.60"
      ]
     },
     "execution_count": 102,
     "metadata": {},
     "output_type": "execute_result"
    }
   ],
   "source": [
    "fileLikeObj = io.BytesIO(response.content)\n",
    "df = pd.read_csv(fileLikeObj, encoding=\"ISO-8859-1\")\n",
    "df"
   ]
  },
  {
   "cell_type": "markdown",
   "id": "24397b0f-26b4-400e-91e0-de58672e6ef8",
   "metadata": {},
   "source": [
    "## ** 21.2.4 Exercises **"
   ]
  },
  {
   "cell_type": "markdown",
   "id": "0728f2f4-18b2-475a-b331-6b67388d6c78",
   "metadata": {},
   "source": [
    "**21.22**\n"
   ]
  },
  {
   "cell_type": "code",
   "execution_count": 104,
   "id": "f666320a-2e9d-4080-b512-ed6c5fb7bb6e",
   "metadata": {},
   "outputs": [],
   "source": [
    "s = (\n",
    "    \"Twilight and evening bell,\\n\"\n",
    "    \"And after that the dark!\\n\"\n",
    "    \"And may there be no sadness of farewell,\\n\"\n",
    "    \"When I embark;\\n\"\n",
    ")"
   ]
  },
  {
   "cell_type": "code",
   "execution_count": 117,
   "id": "718ca875-6327-44d5-b9b2-87d6a3c71cbc",
   "metadata": {},
   "outputs": [],
   "source": [
    "# find the start and end indices of the substring \"dark\" within s,\n",
    "def find_se(string_, sub_):\n",
    "    c = sub_[0]\n",
    "    for idx, first in enumerate(string_):\n",
    "        #         print(idx, first)\n",
    "        if first == c:\n",
    "            if string_[idx : idx + len(sub_)] == sub_:\n",
    "                return idx, idx + len(sub_)\n",
    "\n",
    "    return -1"
   ]
  },
  {
   "cell_type": "code",
   "execution_count": 118,
   "id": "a6ffdbe7-261e-4798-b78d-3012d455e75a",
   "metadata": {},
   "outputs": [
    {
     "data": {
      "text/plain": [
       "(46, 50)"
      ]
     },
     "execution_count": 118,
     "metadata": {},
     "output_type": "execute_result"
    }
   ],
   "source": [
    "find_se(s, \"dark\")"
   ]
  },
  {
   "cell_type": "code",
   "execution_count": 119,
   "id": "ab8d48a2-0985-404f-bf77-ab31387ee022",
   "metadata": {},
   "outputs": [
    {
     "name": "stdout",
     "output_type": "stream",
     "text": [
      "Twilight and evening bell,\n",
      "\n",
      "And after that the dark!\n",
      "\n",
      "And may there be no sadness of farewell,\n",
      "\n",
      "When I embark;\n",
      "\n"
     ]
    }
   ],
   "source": [
    "#  create a file-like object from s and perform a first readline(),\n",
    "import io\n",
    "\n",
    "file_like_object = io.StringIO(s)\n",
    "for line in file_like_object:\n",
    "    print(line)"
   ]
  },
  {
   "cell_type": "markdown",
   "id": "ab2b9c24-b6af-4a7d-8ac5-07ded85634ad",
   "metadata": {},
   "source": [
    "**21.23** Practice with io.StringIO() by using a for loop to print the numbers\n",
    "1 through 100 into a file-like object, one per line. Then, iterate through this\n",
    "object and confirm that read() yields a string representing the entire data, while\n",
    "readline() yields one line at a time, and keeps track of the location in the filelike object. Provide your code."
   ]
  },
  {
   "cell_type": "code",
   "execution_count": 140,
   "id": "2ea36676-238b-4303-80db-d1945426871b",
   "metadata": {},
   "outputs": [
    {
     "data": {
      "text/plain": [
       "<_io.StringIO at 0x7f868e02f160>"
      ]
     },
     "execution_count": 140,
     "metadata": {},
     "output_type": "execute_result"
    }
   ],
   "source": [
    "import io\n",
    "\n",
    "raw_string = \"\\n\".join([str(num) for num in range(1, 101)])\n",
    "my_write_IO = io.StringIO(raw_string)\n",
    "my_write_IO"
   ]
  },
  {
   "cell_type": "code",
   "execution_count": 132,
   "id": "cbe422cc-04bb-4720-b679-abb5ee4b13d7",
   "metadata": {},
   "outputs": [
    {
     "data": {
      "text/plain": [
       "'1\\n2\\n3\\n4\\n5\\n6\\n7\\n8\\n9\\n10\\n11\\n12\\n13\\n14\\n15\\n16\\n17\\n18\\n19\\n20\\n21\\n22\\n23\\n24\\n25\\n26\\n27\\n28\\n29\\n30\\n31\\n32\\n33\\n34\\n35\\n36\\n37\\n38\\n39\\n40\\n41\\n42\\n43\\n44\\n45\\n46\\n47\\n48\\n49\\n50\\n51\\n52\\n53\\n54\\n55\\n56\\n57\\n58\\n59\\n60\\n61\\n62\\n63\\n64\\n65\\n66\\n67\\n68\\n69\\n70\\n71\\n72\\n73\\n74\\n75\\n76\\n77\\n78\\n79\\n80\\n81\\n82\\n83\\n84\\n85\\n86\\n87\\n88\\n89\\n90\\n91\\n92\\n93\\n94\\n95\\n96\\n97\\n98\\n99\\n100'"
      ]
     },
     "execution_count": 132,
     "metadata": {},
     "output_type": "execute_result"
    }
   ],
   "source": [
    "r = my_write_IO.read()\n",
    "r"
   ]
  },
  {
   "cell_type": "code",
   "execution_count": 143,
   "id": "6893fcf3-af52-4d39-8500-59beb2d0485e",
   "metadata": {},
   "outputs": [],
   "source": [
    "r = my_write_IO.read()\n",
    "# for i in r:\n",
    "#      print(i)"
   ]
  },
  {
   "cell_type": "markdown",
   "id": "a4c49d2d-5121-4c07-b45a-4c1ed1b3e0a8",
   "metadata": {},
   "source": [
    "The next set of exercises involve \n",
    "- a file at resource path /data/mystery3.dat\n",
    "- on host datasystems.denison.edu. \n",
    "\n",
    "You can assume the file is textual and is\n",
    "a tab-separated data collection where each line consists of:\n",
    "\n",
    "male_name <tab> male_count <tab> female_name <tab> female_count\n",
    "    \n",
    "for the top 10 name applications of each sex to the US Social Security Administration for the year 2015."
   ]
  },
  {
   "cell_type": "code",
   "execution_count": 175,
   "id": "813cf0d1-41c4-404e-9f2d-fb77148297dc",
   "metadata": {},
   "outputs": [
    {
     "data": {
      "text/plain": [
       "'https://datasystems.denison.edu/data/mystery3.dat'"
      ]
     },
     "execution_count": 175,
     "metadata": {},
     "output_type": "execute_result"
    }
   ],
   "source": [
    "import io\n",
    "\n",
    "import requests\n",
    "\n",
    "url = \"https://datasystems.denison.edu/data/mystery3.dat\"\n",
    "url"
   ]
  },
  {
   "cell_type": "code",
   "execution_count": 176,
   "id": "b0594856-8913-4ef0-91cd-977b3b795a8a",
   "metadata": {},
   "outputs": [
    {
     "name": "stdout",
     "output_type": "stream",
     "text": [
      "<Response [200]>\n"
     ]
    }
   ],
   "source": [
    "res = requests.get(url)\n",
    "print(res)"
   ]
  },
  {
   "cell_type": "code",
   "execution_count": 180,
   "id": "45b644b6-9ffc-4e17-9456-c20a1e6e4bd2",
   "metadata": {},
   "outputs": [
    {
     "name": "stdout",
     "output_type": "stream",
     "text": [
      "None {'Date': 'Sat, 30 Oct 2021 12:12:20 GMT', 'Server': 'Apache/2.4.6 (CentOS)', 'Last-Modified': 'Wed, 16 Dec 2020 23:45:51 GMT', 'ETag': '\"100-5b69d79ac29c0\"', 'Accept-Ranges': 'bytes', 'Content-Length': '256', 'Connection': 'close'}\n"
     ]
    }
   ],
   "source": [
    "print(res.encoding, res.headers)\n",
    "\n",
    "# content_type = res.headers['Content-Type']\n",
    "# print(content_type)"
   ]
  },
  {
   "cell_type": "code",
   "execution_count": 187,
   "id": "d71218fb-916a-420a-9932-8ca836137446",
   "metadata": {},
   "outputs": [
    {
     "data": {
      "text/plain": [
       "b'\\xd5\\x96\\x81\\x88\\x05\\xf1\\xf9\\xf6\\xf3\\xf5\\x05\\xc5\\x94\\x94\\x81\\x05\\xf2\\xf0\\xf4\\xf5\\xf5%\\xd3\\x89\\x81\\x94\\x05\\xf1\\xf8\\xf3\\xf7\\xf4\\x05\\xd6\\x93\\x89\\xa5\\x89\\x81\\x05\\xf1\\xf9\\xf6\\xf9\\xf1%\\xd4\\x81\\xa2\\x96\\x95\\x05\\xf1\\xf6\\xf6\\xf2\\xf7\\x05\\xe2\\x96\\x97\\x88\\x89\\x81\\x05\\xf1\\xf7\\xf4\\xf1\\xf7%\\xd1\\x81\\x83\\x96\\x82\\x05\\xf1\\xf5\\xf9\\xf4\\xf9\\x05\\xc1\\xa5\\x81\\x05\\xf1\\xf6\\xf3\\xf7\\xf8%\\xe6\\x89\\x93\\x93\\x89\\x81\\x94\\x05\\xf1\\xf5\\xf9\\xf0\\xf9\\x05\\xc9\\xa2\\x81\\x82\\x85\\x93\\x93\\x81\\x05\\xf1\\xf5\\xf6\\xf1\\xf7%\\xc5\\xa3\\x88\\x81\\x95\\x05\\xf1\\xf5\\xf0\\xf7\\xf7\\x05\\xd4\\x89\\x81\\x05\\xf1\\xf4\\xf9\\xf0\\xf5%\\xd1\\x81\\x94\\x85\\xa2\\x05\\xf1\\xf4\\xf8\\xf2\\xf4\\x05\\xc1\\x82\\x89\\x87\\x81\\x89\\x93\\x05\\xf1\\xf2\\xf4\\xf0\\xf1%\\xc1\\x93\\x85\\xa7\\x81\\x95\\x84\\x85\\x99\\x05\\xf1\\xf4\\xf5\\xf4\\xf7\\x05\\xc5\\x94\\x89\\x93\\xa8\\x05\\xf1\\xf1\\xf7\\xf8\\xf6%\\xd4\\x89\\x83\\x88\\x81\\x85\\x93\\x05\\xf1\\xf4\\xf4\\xf3\\xf1\\x05\\xc3\\x88\\x81\\x99\\x93\\x96\\xa3\\xa3\\x85\\x05\\xf1\\xf1\\xf3\\xf9\\xf8%\\xc2\\x85\\x95\\x91\\x81\\x94\\x89\\x95\\x05\\xf1\\xf3\\xf7\\xf0\\xf0\\x05\\xc8\\x81\\x99\\x97\\x85\\x99\\x05\\xf1\\xf0\\xf2\\xf9\\xf5%'"
      ]
     },
     "execution_count": 187,
     "metadata": {},
     "output_type": "execute_result"
    }
   ],
   "source": [
    "res.content"
   ]
  },
  {
   "cell_type": "code",
   "execution_count": 189,
   "id": "0d72529a-4a84-48b7-805d-ed403d74cccb",
   "metadata": {},
   "outputs": [
    {
     "data": {
      "text/plain": [
       "'Noah\\t19635\\tEmma\\t20455\\nLiam\\t18374\\tOlivia\\t19691\\nMason\\t16627\\tSophia\\t17417\\nJacob\\t15949\\tAva\\t16378\\nWilliam\\t15909\\tIsabella\\t15617\\nEthan\\t15077\\tMia\\t14905\\nJames\\t14824\\tAbigail\\t12401\\nAlexander\\t14547\\tEmily\\t11786\\nMichael\\t14431\\tCharlotte\\t11398\\nBenjamin\\t13700\\tHarper\\t10295\\n'"
      ]
     },
     "execution_count": 189,
     "metadata": {},
     "output_type": "execute_result"
    }
   ],
   "source": [
    "data = str(res.content, encoding=\"cp037\")\n",
    "data"
   ]
  },
  {
   "cell_type": "code",
   "execution_count": 190,
   "id": "024f7161-740c-4f4f-a4a9-728db7cb554a",
   "metadata": {},
   "outputs": [
    {
     "name": "stdout",
     "output_type": "stream",
     "text": [
      "Noah\t19635\tEmma\t20455\n",
      "Liam\t18374\tOlivia\t19691\n",
      "Mason\t16627\tSophia\t17417\n",
      "Jacob\t15949\tAva\t16378\n",
      "William\t15909\tIsabella\t15617\n",
      "Ethan\t15077\tMia\t14905\n",
      "James\t14824\tAbigail\t12401\n",
      "Alexander\t14547\tEmily\t11786\n",
      "Michael\t14431\tCharlotte\t11398\n",
      "Benjamin\t13700\tHarper\t10295\n",
      "\n"
     ]
    }
   ],
   "source": [
    "real_encoding = \"cp037\"\n",
    "csv_body = data\n",
    "print(csv_body)"
   ]
  },
  {
   "cell_type": "code",
   "execution_count": 191,
   "id": "3dc02150-92ac-4a64-8f57-bc3e77836fc4",
   "metadata": {},
   "outputs": [
    {
     "data": {
      "text/plain": [
       "'Noah\\t19635\\tEmma\\t20455\\nLiam\\t18374\\tOlivia\\t19691\\nMason\\t16627\\tSophia\\t17417\\nJacob\\t15949\\tAva\\t16378\\nWilliam\\t15909\\tIsabella\\t15617\\nEthan\\t15077\\tMia\\t14905\\nJames\\t14824\\tAbigail\\t12401\\nAlexander\\t14547\\tEmily\\t11786\\nMichael\\t14431\\tCharlotte\\t11398\\nBenjamin\\t13700\\tHarper\\t10295\\n'"
      ]
     },
     "execution_count": 191,
     "metadata": {},
     "output_type": "execute_result"
    }
   ],
   "source": [
    "csv_body"
   ]
  },
  {
   "cell_type": "markdown",
   "id": "93996c81-54ba-4df4-aefd-e4ab6f0c61e4",
   "metadata": {},
   "source": [
    "**21.26** In this question, you will start with a string and create a Dictionary of Lists\n",
    "representation of the data entailed in the string"
   ]
  },
  {
   "cell_type": "code",
   "execution_count": 192,
   "id": "48e6ac26-a762-4584-89d5-b29736fef0e4",
   "metadata": {},
   "outputs": [
    {
     "data": {
      "text/plain": [
       "'Noah\\t19635\\tEmma\\t20455\\nLiam\\t18374\\tOlivia\\t19691\\nMason\\t16627\\tSophia\\t17417\\nJacob\\t15949\\tAva\\t16378\\nWilliam\\t15909\\tIsabella\\t15617\\nEthan\\t15077\\tMia\\t14905\\nJames\\t14824\\tAbigail\\t12401\\nAlexander\\t14547\\tEmily\\t11786\\nMichael\\t14431\\tCharlotte\\t11398\\nBenjamin\\t13700\\tHarper\\t10295\\n'"
      ]
     },
     "execution_count": 192,
     "metadata": {},
     "output_type": "execute_result"
    }
   ],
   "source": [
    "csv_body"
   ]
  },
  {
   "cell_type": "code",
   "execution_count": 208,
   "id": "cb601c62-4caf-470c-ac9e-00e740989a5e",
   "metadata": {},
   "outputs": [],
   "source": [
    "import io\n",
    "\n",
    "file_like_object = io.StringIO(csv_body)\n",
    "my_dict = {}\n",
    "my_dict[\"header\"] = [\"malename\", \"malecount\", \"femalename\", \"femalecount\"]"
   ]
  },
  {
   "cell_type": "code",
   "execution_count": 209,
   "id": "41e22a2c-b6d8-4be9-8081-23dde2659c39",
   "metadata": {},
   "outputs": [
    {
     "data": {
      "text/plain": [
       "{'header': ['malename', 'malecount', 'femalename', 'femalecount']}"
      ]
     },
     "execution_count": 209,
     "metadata": {},
     "output_type": "execute_result"
    }
   ],
   "source": [
    "my_dict"
   ]
  },
  {
   "cell_type": "code",
   "execution_count": 210,
   "id": "928e73fb-ada2-4474-90d1-183b6427afc8",
   "metadata": {},
   "outputs": [
    {
     "name": "stdout",
     "output_type": "stream",
     "text": [
      "{'header': ['malename', 'malecount', 'femalename', 'femalecount'], 'row 0': ['Noah', '19635', 'Emma', '20455'], 'row 1': ['Liam', '18374', 'Olivia', '19691'], 'row 2': ['Mason', '16627', 'Sophia', '17417'], 'row 3': ['Jacob', '15949', 'Ava', '16378'], 'row 4': ['William', '15909', 'Isabella', '15617'], 'row 5': ['Ethan', '15077', 'Mia', '14905'], 'row 6': ['James', '14824', 'Abigail', '12401'], 'row 7': ['Alexander', '14547', 'Emily', '11786'], 'row 8': ['Michael', '14431', 'Charlotte', '11398'], 'row 9': ['Benjamin', '13700', 'Harper', '10295']}\n"
     ]
    }
   ],
   "source": [
    "count = 0\n",
    "for line in file_like_object:\n",
    "    my_dict[f\"row {count}\"] = line.strip().split(\"\\t\")\n",
    "    count += 1\n",
    "\n",
    "print(my_dict)"
   ]
  },
  {
   "cell_type": "code",
   "execution_count": 212,
   "id": "65dc2638-c3e3-4cbc-8aaa-e09fe97c9fd0",
   "metadata": {},
   "outputs": [
    {
     "data": {
      "text/html": [
       "<div>\n",
       "<style scoped>\n",
       "    .dataframe tbody tr th:only-of-type {\n",
       "        vertical-align: middle;\n",
       "    }\n",
       "\n",
       "    .dataframe tbody tr th {\n",
       "        vertical-align: top;\n",
       "    }\n",
       "\n",
       "    .dataframe thead th {\n",
       "        text-align: right;\n",
       "    }\n",
       "</style>\n",
       "<table border=\"1\" class=\"dataframe\">\n",
       "  <thead>\n",
       "    <tr style=\"text-align: right;\">\n",
       "      <th></th>\n",
       "      <th>Noah</th>\n",
       "      <th>19635</th>\n",
       "      <th>Emma</th>\n",
       "      <th>20455</th>\n",
       "    </tr>\n",
       "  </thead>\n",
       "  <tbody>\n",
       "    <tr>\n",
       "      <th>0</th>\n",
       "      <td>Liam</td>\n",
       "      <td>18374</td>\n",
       "      <td>Olivia</td>\n",
       "      <td>19691</td>\n",
       "    </tr>\n",
       "    <tr>\n",
       "      <th>1</th>\n",
       "      <td>Mason</td>\n",
       "      <td>16627</td>\n",
       "      <td>Sophia</td>\n",
       "      <td>17417</td>\n",
       "    </tr>\n",
       "    <tr>\n",
       "      <th>2</th>\n",
       "      <td>Jacob</td>\n",
       "      <td>15949</td>\n",
       "      <td>Ava</td>\n",
       "      <td>16378</td>\n",
       "    </tr>\n",
       "    <tr>\n",
       "      <th>3</th>\n",
       "      <td>William</td>\n",
       "      <td>15909</td>\n",
       "      <td>Isabella</td>\n",
       "      <td>15617</td>\n",
       "    </tr>\n",
       "    <tr>\n",
       "      <th>4</th>\n",
       "      <td>Ethan</td>\n",
       "      <td>15077</td>\n",
       "      <td>Mia</td>\n",
       "      <td>14905</td>\n",
       "    </tr>\n",
       "    <tr>\n",
       "      <th>5</th>\n",
       "      <td>James</td>\n",
       "      <td>14824</td>\n",
       "      <td>Abigail</td>\n",
       "      <td>12401</td>\n",
       "    </tr>\n",
       "    <tr>\n",
       "      <th>6</th>\n",
       "      <td>Alexander</td>\n",
       "      <td>14547</td>\n",
       "      <td>Emily</td>\n",
       "      <td>11786</td>\n",
       "    </tr>\n",
       "    <tr>\n",
       "      <th>7</th>\n",
       "      <td>Michael</td>\n",
       "      <td>14431</td>\n",
       "      <td>Charlotte</td>\n",
       "      <td>11398</td>\n",
       "    </tr>\n",
       "    <tr>\n",
       "      <th>8</th>\n",
       "      <td>Benjamin</td>\n",
       "      <td>13700</td>\n",
       "      <td>Harper</td>\n",
       "      <td>10295</td>\n",
       "    </tr>\n",
       "  </tbody>\n",
       "</table>\n",
       "</div>"
      ],
      "text/plain": [
       "        Noah  19635       Emma  20455\n",
       "0       Liam  18374     Olivia  19691\n",
       "1      Mason  16627     Sophia  17417\n",
       "2      Jacob  15949        Ava  16378\n",
       "3    William  15909   Isabella  15617\n",
       "4      Ethan  15077        Mia  14905\n",
       "5      James  14824    Abigail  12401\n",
       "6  Alexander  14547      Emily  11786\n",
       "7    Michael  14431  Charlotte  11398\n",
       "8   Benjamin  13700     Harper  10295"
      ]
     },
     "execution_count": 212,
     "metadata": {},
     "output_type": "execute_result"
    }
   ],
   "source": [
    "file_like_object = io.StringIO(csv_body)\n",
    "df = pd.read_csv(file_like_object, sep=\"\\t\")\n",
    "df"
   ]
  },
  {
   "cell_type": "markdown",
   "id": "cdf39b60-4642-4963-996e-d1d41a93c2c4",
   "metadata": {},
   "source": [
    "# **JSON Data**"
   ]
  },
  {
   "cell_type": "code",
   "execution_count": 217,
   "id": "670978f3-a3de-41c8-b1b1-248623c2e222",
   "metadata": {},
   "outputs": [
    {
     "name": "stdout",
     "output_type": "stream",
     "text": [
      "/home/nghiaht7/data-engineer/public-datasystems-s20/03-Data-Source-stuff/03_21\n"
     ]
    }
   ],
   "source": [
    "!pwd"
   ]
  },
  {
   "cell_type": "code",
   "execution_count": 227,
   "id": "dcdcf5b3-0bc4-4dd0-a6c9-6662162b8d89",
   "metadata": {},
   "outputs": [],
   "source": [
    "import json\n",
    "import os\n",
    "import requests\n",
    "\n",
    "url = \"https://datasystems.denison.edu/data/ind0.json\"\n",
    "res = requests.get(url)\n",
    "\n",
    "# json load from fileLikeObject --> need StringIO for res.text\n",
    "\n",
    "tmp = io.StringIO(res.text)\n",
    "try:\n",
    "    ds = json.load(tmp)\n",
    "except json.JSONDecodeError as e:\n",
    "    print(\"Exception encountered in JSON decode\")"
   ]
  },
  {
   "cell_type": "code",
   "execution_count": 232,
   "id": "209ef14e-579d-4ff6-947e-dd50894683d8",
   "metadata": {},
   "outputs": [
    {
     "data": {
      "text/plain": [
       "{'Date': 'Sat, 30 Oct 2021 12:58:50 GMT', 'Server': 'Apache/2.4.6 (CentOS)', 'Last-Modified': 'Wed, 16 Dec 2020 23:45:42 GMT', 'ETag': '\"10d-5b69d7922d580\"', 'Accept-Ranges': 'bytes', 'Content-Length': '269', 'Connection': 'close', 'Content-Type': 'application/json'}"
      ]
     },
     "execution_count": 232,
     "metadata": {},
     "output_type": "execute_result"
    }
   ],
   "source": [
    "res.headers"
   ]
  },
  {
   "cell_type": "code",
   "execution_count": 231,
   "id": "636ff8ef-a188-40c9-8a68-e1a7edf2928c",
   "metadata": {},
   "outputs": [
    {
     "data": {
      "text/plain": [
       "{'FRA': {'2007': {'pop': 64.02, 'gdp': 2657.21},\n",
       "  '2017': {'pop': 66.87, 'gdp': 2586.29}},\n",
       " 'GBR': {'2007': {'pop': 61.32, 'gdp': 3084.12},\n",
       "  '2017': {'pop': 66.06, 'gdp': 2637.87}},\n",
       " 'USA': {'2007': {'pop': 301.23, 'gdp': 14451.9},\n",
       "  '2017': {'pop': 325.15, 'gdp': 19485.4}}}"
      ]
     },
     "execution_count": 231,
     "metadata": {},
     "output_type": "execute_result"
    }
   ],
   "source": [
    "res.json()"
   ]
  },
  {
   "cell_type": "code",
   "execution_count": 228,
   "id": "6ba3594b-88c4-403a-aaf1-67e416da8a89",
   "metadata": {},
   "outputs": [
    {
     "data": {
      "text/plain": [
       "{'FRA': {'2007': {'pop': 64.02, 'gdp': 2657.21},\n",
       "  '2017': {'pop': 66.87, 'gdp': 2586.29}},\n",
       " 'GBR': {'2007': {'pop': 61.32, 'gdp': 3084.12},\n",
       "  '2017': {'pop': 66.06, 'gdp': 2637.87}},\n",
       " 'USA': {'2007': {'pop': 301.23, 'gdp': 14451.9},\n",
       "  '2017': {'pop': 325.15, 'gdp': 19485.4}}}"
      ]
     },
     "execution_count": 228,
     "metadata": {},
     "output_type": "execute_result"
    }
   ],
   "source": [
    "ds"
   ]
  },
  {
   "cell_type": "markdown",
   "id": "327f7311-63fc-45f1-8aa1-535948a4adc8",
   "metadata": {},
   "source": [
    "## **21.3.4 Exercises**"
   ]
  },
  {
   "cell_type": "code",
   "execution_count": null,
   "id": "33acc610-db2a-46e3-9976-3d35c3770ee9",
   "metadata": {},
   "outputs": [],
   "source": []
  }
 ],
 "metadata": {
  "kernelspec": {
   "display_name": "Python 3 (ipykernel)",
   "language": "python",
   "name": "python3"
  },
  "language_info": {
   "codemirror_mode": {
    "name": "ipython",
    "version": 3
   },
   "file_extension": ".py",
   "mimetype": "text/x-python",
   "name": "python",
   "nbconvert_exporter": "python",
   "pygments_lexer": "ipython3",
   "version": "3.8.10"
  }
 },
 "nbformat": 4,
 "nbformat_minor": 5
}
